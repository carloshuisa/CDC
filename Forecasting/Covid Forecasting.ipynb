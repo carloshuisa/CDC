{
 "cells": [
  {
   "cell_type": "code",
   "execution_count": 94,
   "id": "0d15292c",
   "metadata": {},
   "outputs": [],
   "source": [
    "import pandas as pd\n",
    "import numpy as np\n",
    "import numpy\n",
    "import matplotlib.pyplot as plt\n",
    "from datetime import datetime\n",
    "import datetime as dt\n",
    "import matplotlib.pyplot as plt\n",
    "import pandas\n",
    "import math\n",
    "from keras.models import Sequential\n",
    "from keras.layers import Dense\n",
    "from keras.layers import LSTM\n",
    "from sklearn.preprocessing import MinMaxScaler\n",
    "from sklearn.metrics import mean_squared_error\n",
    "from sklearn.metrics import mean_absolute_percentage_error\n"
   ]
  },
  {
   "cell_type": "code",
   "execution_count": 95,
   "id": "5f046a40",
   "metadata": {},
   "outputs": [
    {
     "data": {
      "text/plain": [
       "3.0"
      ]
     },
     "execution_count": 95,
     "metadata": {},
     "output_type": "execute_result"
    }
   ],
   "source": [
    "##### getting covid data per county\n",
    "cov = pd.read_csv('covid_us_county.csv')\n",
    "\n",
    "##### getting county population\n",
    "pop = pd.read_csv('us_county.csv')\n",
    "\n",
    "##### getting CVC Social Vulnerability Index Data\n",
    "cvc = pd.read_csv('social_ds.csv')\n",
    "\n",
    "###### joining cov and pop datasets to get the population in each county\n",
    "cov2 = cov.merge(pop[['population','fips']],how='left', on=[\"fips\"])\n",
    "cov2['cov_perc'] = (cov2['cases']/cov2['population'])*100\n",
    "\n",
    "cvc = cvc[~cvc.eq(-999).any(1)]\n",
    "#### changing the name of Country If for fips\n",
    "cvc.rename(columns={'STCNTY' : 'fips'},inplace=True) \n",
    "\n",
    "#### getting the F_TOTAL per COUNTY\n",
    "cvc_ct = cvc.groupby(['fips']).F_TOTAL.sum().reset_index()\n",
    "\n",
    "#### 0.33 quantile\n",
    "cvc_ct.F_TOTAL.quantile(0.33)\n"
   ]
  },
  {
   "cell_type": "code",
   "execution_count": 96,
   "id": "1433057b",
   "metadata": {},
   "outputs": [
    {
     "data": {
      "text/plain": [
       "13.0"
      ]
     },
     "execution_count": 96,
     "metadata": {},
     "output_type": "execute_result"
    }
   ],
   "source": [
    "#### 0.7 quantile\n",
    "cvc_ct.F_TOTAL.quantile(0.7)"
   ]
  },
  {
   "cell_type": "code",
   "execution_count": 97,
   "id": "664621e4",
   "metadata": {},
   "outputs": [],
   "source": [
    "##### setting the conditions to create the variable VULNERABILITY LEVEL\n",
    "\n",
    "conditions = [\n",
    "    (cvc_ct['F_TOTAL'] <= 3),\n",
    "    (cvc_ct['F_TOTAL'] > 3) & (cvc_ct['F_TOTAL'] <= 13),\n",
    "    (cvc_ct['F_TOTAL'] >13)]\n",
    "choices = ['LOW', 'MEDIUM', 'HIGH']\n",
    "cvc_ct['VULNERA_LEVEL'] = np.select(conditions, choices, default='LOW')"
   ]
  },
  {
   "cell_type": "code",
   "execution_count": 98,
   "id": "b3ebd8dc",
   "metadata": {},
   "outputs": [
    {
     "data": {
      "text/html": [
       "<div>\n",
       "<style scoped>\n",
       "    .dataframe tbody tr th:only-of-type {\n",
       "        vertical-align: middle;\n",
       "    }\n",
       "\n",
       "    .dataframe tbody tr th {\n",
       "        vertical-align: top;\n",
       "    }\n",
       "\n",
       "    .dataframe thead th {\n",
       "        text-align: right;\n",
       "    }\n",
       "</style>\n",
       "<table border=\"1\" class=\"dataframe\">\n",
       "  <thead>\n",
       "    <tr style=\"text-align: right;\">\n",
       "      <th></th>\n",
       "      <th>fips</th>\n",
       "      <th>county</th>\n",
       "      <th>state</th>\n",
       "      <th>lat</th>\n",
       "      <th>long</th>\n",
       "      <th>date</th>\n",
       "      <th>cases</th>\n",
       "      <th>state_code</th>\n",
       "      <th>deaths</th>\n",
       "      <th>population</th>\n",
       "      <th>cov_perc</th>\n",
       "      <th>VULNERA_LEVEL</th>\n",
       "    </tr>\n",
       "  </thead>\n",
       "  <tbody>\n",
       "    <tr>\n",
       "      <th>0</th>\n",
       "      <td>1001.0</td>\n",
       "      <td>Autauga</td>\n",
       "      <td>Alabama</td>\n",
       "      <td>32.539527</td>\n",
       "      <td>-86.644082</td>\n",
       "      <td>2020-01-22</td>\n",
       "      <td>0</td>\n",
       "      <td>AL</td>\n",
       "      <td>0</td>\n",
       "      <td>55200.0</td>\n",
       "      <td>0.0</td>\n",
       "      <td>MEDIUM</td>\n",
       "    </tr>\n",
       "    <tr>\n",
       "      <th>1</th>\n",
       "      <td>1001.0</td>\n",
       "      <td>Autauga</td>\n",
       "      <td>Alabama</td>\n",
       "      <td>32.539527</td>\n",
       "      <td>-86.644082</td>\n",
       "      <td>2020-01-23</td>\n",
       "      <td>0</td>\n",
       "      <td>AL</td>\n",
       "      <td>0</td>\n",
       "      <td>55200.0</td>\n",
       "      <td>0.0</td>\n",
       "      <td>MEDIUM</td>\n",
       "    </tr>\n",
       "    <tr>\n",
       "      <th>2</th>\n",
       "      <td>1001.0</td>\n",
       "      <td>Autauga</td>\n",
       "      <td>Alabama</td>\n",
       "      <td>32.539527</td>\n",
       "      <td>-86.644082</td>\n",
       "      <td>2020-01-24</td>\n",
       "      <td>0</td>\n",
       "      <td>AL</td>\n",
       "      <td>0</td>\n",
       "      <td>55200.0</td>\n",
       "      <td>0.0</td>\n",
       "      <td>MEDIUM</td>\n",
       "    </tr>\n",
       "    <tr>\n",
       "      <th>3</th>\n",
       "      <td>1001.0</td>\n",
       "      <td>Autauga</td>\n",
       "      <td>Alabama</td>\n",
       "      <td>32.539527</td>\n",
       "      <td>-86.644082</td>\n",
       "      <td>2020-01-25</td>\n",
       "      <td>0</td>\n",
       "      <td>AL</td>\n",
       "      <td>0</td>\n",
       "      <td>55200.0</td>\n",
       "      <td>0.0</td>\n",
       "      <td>MEDIUM</td>\n",
       "    </tr>\n",
       "    <tr>\n",
       "      <th>4</th>\n",
       "      <td>1001.0</td>\n",
       "      <td>Autauga</td>\n",
       "      <td>Alabama</td>\n",
       "      <td>32.539527</td>\n",
       "      <td>-86.644082</td>\n",
       "      <td>2020-01-26</td>\n",
       "      <td>0</td>\n",
       "      <td>AL</td>\n",
       "      <td>0</td>\n",
       "      <td>55200.0</td>\n",
       "      <td>0.0</td>\n",
       "      <td>MEDIUM</td>\n",
       "    </tr>\n",
       "  </tbody>\n",
       "</table>\n",
       "</div>"
      ],
      "text/plain": [
       "     fips   county    state        lat       long        date  cases  \\\n",
       "0  1001.0  Autauga  Alabama  32.539527 -86.644082  2020-01-22      0   \n",
       "1  1001.0  Autauga  Alabama  32.539527 -86.644082  2020-01-23      0   \n",
       "2  1001.0  Autauga  Alabama  32.539527 -86.644082  2020-01-24      0   \n",
       "3  1001.0  Autauga  Alabama  32.539527 -86.644082  2020-01-25      0   \n",
       "4  1001.0  Autauga  Alabama  32.539527 -86.644082  2020-01-26      0   \n",
       "\n",
       "  state_code  deaths  population  cov_perc VULNERA_LEVEL  \n",
       "0         AL       0     55200.0       0.0        MEDIUM  \n",
       "1         AL       0     55200.0       0.0        MEDIUM  \n",
       "2         AL       0     55200.0       0.0        MEDIUM  \n",
       "3         AL       0     55200.0       0.0        MEDIUM  \n",
       "4         AL       0     55200.0       0.0        MEDIUM  "
      ]
     },
     "execution_count": 98,
     "metadata": {},
     "output_type": "execute_result"
    }
   ],
   "source": [
    "##### Joining Vulnerability level to covid data\n",
    "\n",
    "cov3 = cov2.merge(cvc_ct[['VULNERA_LEVEL','fips']],how='left', on=[\"fips\"])\n",
    "cov3.head()"
   ]
  },
  {
   "cell_type": "code",
   "execution_count": 99,
   "id": "ebd6047c",
   "metadata": {},
   "outputs": [
    {
     "data": {
      "text/html": [
       "<div>\n",
       "<style scoped>\n",
       "    .dataframe tbody tr th:only-of-type {\n",
       "        vertical-align: middle;\n",
       "    }\n",
       "\n",
       "    .dataframe tbody tr th {\n",
       "        vertical-align: top;\n",
       "    }\n",
       "\n",
       "    .dataframe thead th {\n",
       "        text-align: right;\n",
       "    }\n",
       "</style>\n",
       "<table border=\"1\" class=\"dataframe\">\n",
       "  <thead>\n",
       "    <tr style=\"text-align: right;\">\n",
       "      <th></th>\n",
       "      <th>VULNERA_LEVEL</th>\n",
       "      <th>date</th>\n",
       "      <th>deaths</th>\n",
       "      <th>population</th>\n",
       "      <th>death_percent</th>\n",
       "    </tr>\n",
       "  </thead>\n",
       "  <tbody>\n",
       "    <tr>\n",
       "      <th>71</th>\n",
       "      <td>HIGH</td>\n",
       "      <td>2020-04-02</td>\n",
       "      <td>6721</td>\n",
       "      <td>264339712.0</td>\n",
       "      <td>0.002543</td>\n",
       "    </tr>\n",
       "    <tr>\n",
       "      <th>72</th>\n",
       "      <td>HIGH</td>\n",
       "      <td>2020-04-03</td>\n",
       "      <td>7830</td>\n",
       "      <td>264339712.0</td>\n",
       "      <td>0.002962</td>\n",
       "    </tr>\n",
       "    <tr>\n",
       "      <th>73</th>\n",
       "      <td>HIGH</td>\n",
       "      <td>2020-04-04</td>\n",
       "      <td>9133</td>\n",
       "      <td>264339712.0</td>\n",
       "      <td>0.003455</td>\n",
       "    </tr>\n",
       "    <tr>\n",
       "      <th>74</th>\n",
       "      <td>HIGH</td>\n",
       "      <td>2020-04-05</td>\n",
       "      <td>10461</td>\n",
       "      <td>264339712.0</td>\n",
       "      <td>0.003957</td>\n",
       "    </tr>\n",
       "    <tr>\n",
       "      <th>75</th>\n",
       "      <td>HIGH</td>\n",
       "      <td>2020-04-06</td>\n",
       "      <td>11811</td>\n",
       "      <td>264339712.0</td>\n",
       "      <td>0.004468</td>\n",
       "    </tr>\n",
       "  </tbody>\n",
       "</table>\n",
       "</div>"
      ],
      "text/plain": [
       "   VULNERA_LEVEL        date  deaths   population  death_percent\n",
       "71          HIGH  2020-04-02    6721  264339712.0       0.002543\n",
       "72          HIGH  2020-04-03    7830  264339712.0       0.002962\n",
       "73          HIGH  2020-04-04    9133  264339712.0       0.003455\n",
       "74          HIGH  2020-04-05   10461  264339712.0       0.003957\n",
       "75          HIGH  2020-04-06   11811  264339712.0       0.004468"
      ]
     },
     "execution_count": 99,
     "metadata": {},
     "output_type": "execute_result"
    }
   ],
   "source": [
    "##### getting deaths due to covid and total population by vulnerability level and date\n",
    "\n",
    "cov_agg = cov3.groupby(['VULNERA_LEVEL','date']).deaths.sum().reset_index()\n",
    "cov_agg2 = cov3.groupby(['VULNERA_LEVEL','date']).population.sum().reset_index()\n",
    "cov_agg3 = cov_agg.merge(cov_agg2,how='left', on=[\"VULNERA_LEVEL\",'date'])\n",
    "cov_agg3['death_percent'] = (cov_agg3['deaths']/cov_agg3['population'])*100\n",
    "\n",
    "##### without vaccine effect \n",
    "cov_agg3 = cov_agg3[(cov_agg3.date>'2020-04-01') & (cov_agg3.date<'2020-11-01')]\n",
    "\n",
    "cov_agg3.head()"
   ]
  },
  {
   "cell_type": "markdown",
   "id": "3190e21c",
   "metadata": {},
   "source": [
    "## Social Variables Average by Vulnerability Level"
   ]
  },
  {
   "cell_type": "code",
   "execution_count": 100,
   "id": "fbe6fea9",
   "metadata": {},
   "outputs": [
    {
     "data": {
      "text/html": [
       "<div>\n",
       "<style scoped>\n",
       "    .dataframe tbody tr th:only-of-type {\n",
       "        vertical-align: middle;\n",
       "    }\n",
       "\n",
       "    .dataframe tbody tr th {\n",
       "        vertical-align: top;\n",
       "    }\n",
       "\n",
       "    .dataframe thead th {\n",
       "        text-align: right;\n",
       "    }\n",
       "</style>\n",
       "<table border=\"1\" class=\"dataframe\">\n",
       "  <thead>\n",
       "    <tr style=\"text-align: right;\">\n",
       "      <th></th>\n",
       "      <th>VULNERA_LEVEL</th>\n",
       "      <th>PCTE_POV</th>\n",
       "      <th>PCTE_UNEMP</th>\n",
       "      <th>PCTE_NOHSDP</th>\n",
       "      <th>PCTE_PCI</th>\n",
       "      <th>PCTE_NOVEH</th>\n",
       "      <th>PCTE_MINRTY</th>\n",
       "      <th>PCTE_LIMENG</th>\n",
       "      <th>PCTE_SNGPNT</th>\n",
       "    </tr>\n",
       "  </thead>\n",
       "  <tbody>\n",
       "    <tr>\n",
       "      <th>0</th>\n",
       "      <td>HIGH</td>\n",
       "      <td>17.696144</td>\n",
       "      <td>4.651562</td>\n",
       "      <td>10.166410</td>\n",
       "      <td>587.713370</td>\n",
       "      <td>3.012955</td>\n",
       "      <td>32.243569</td>\n",
       "      <td>2.676809</td>\n",
       "      <td>3.698094</td>\n",
       "    </tr>\n",
       "    <tr>\n",
       "      <th>2</th>\n",
       "      <td>MEDIUM</td>\n",
       "      <td>17.650150</td>\n",
       "      <td>4.183593</td>\n",
       "      <td>11.407103</td>\n",
       "      <td>595.689153</td>\n",
       "      <td>2.588380</td>\n",
       "      <td>22.575396</td>\n",
       "      <td>1.330760</td>\n",
       "      <td>3.392302</td>\n",
       "    </tr>\n",
       "    <tr>\n",
       "      <th>1</th>\n",
       "      <td>LOW</td>\n",
       "      <td>13.197201</td>\n",
       "      <td>3.020517</td>\n",
       "      <td>8.707753</td>\n",
       "      <td>1001.016876</td>\n",
       "      <td>2.001926</td>\n",
       "      <td>13.490119</td>\n",
       "      <td>1.201723</td>\n",
       "      <td>2.887489</td>\n",
       "    </tr>\n",
       "  </tbody>\n",
       "</table>\n",
       "</div>"
      ],
      "text/plain": [
       "  VULNERA_LEVEL   PCTE_POV  PCTE_UNEMP  PCTE_NOHSDP     PCTE_PCI  PCTE_NOVEH  \\\n",
       "0          HIGH  17.696144    4.651562    10.166410   587.713370    3.012955   \n",
       "2        MEDIUM  17.650150    4.183593    11.407103   595.689153    2.588380   \n",
       "1           LOW  13.197201    3.020517     8.707753  1001.016876    2.001926   \n",
       "\n",
       "   PCTE_MINRTY  PCTE_LIMENG  PCTE_SNGPNT  \n",
       "0    32.243569     2.676809     3.698094  \n",
       "2    22.575396     1.330760     3.392302  \n",
       "1    13.490119     1.201723     2.887489  "
      ]
     },
     "execution_count": 100,
     "metadata": {},
     "output_type": "execute_result"
    }
   ],
   "source": [
    "cdc2 = pd.concat([cvc[['fips','AREA_SQMI']],cvc.loc[:, (cvc.columns.str.startswith('E_'))]],axis=1)\n",
    "cdc2 = cdc2.groupby('fips').sum().reset_index()\n",
    "cdc2p = cdc2.iloc[:,3:].div(cdc2.E_TOTPOP, axis=0).multiply(100,axis=0).add_prefix('PCT')\n",
    "cdc2 = pd.concat([cdc2,cdc2p],axis=1)\n",
    "cdc2['EP_SNGPNT'] = (cdc2.E_SNGPNT/cdc2.E_HH)*100\n",
    "cdc2['EP_MUNIT'] = (cdc2.E_MUNIT/cdc2.E_HU)*100\n",
    "cdc3 = cdc2.merge(cvc_ct[['VULNERA_LEVEL','fips']],how='left', on=[\"fips\"])\n",
    "\n",
    "custom_dict = {'HIGH': 1, 'MEDIUM': 2, 'LOW': 3} \n",
    "variables = ['PCTE_POV','PCTE_UNEMP','PCTE_NOHSDP','PCTE_PCI','PCTE_NOVEH','PCTE_MINRTY','PCTE_LIMENG','PCTE_SNGPNT']\n",
    "\n",
    "cdc3.groupby(\"VULNERA_LEVEL\", as_index=True)[variables].mean().reset_index().sort_values(by=['VULNERA_LEVEL'], key=lambda x: x.map(custom_dict))"
   ]
  },
  {
   "cell_type": "markdown",
   "id": "78dcc8cf",
   "metadata": {},
   "source": [
    "## COVID Deaths Forecasting"
   ]
  },
  {
   "cell_type": "markdown",
   "id": "efe57b17",
   "metadata": {},
   "source": [
    "### High Vulnerability Level"
   ]
  },
  {
   "cell_type": "code",
   "execution_count": 101,
   "id": "802bd727",
   "metadata": {},
   "outputs": [
    {
     "data": {
      "text/html": [
       "<div>\n",
       "<style scoped>\n",
       "    .dataframe tbody tr th:only-of-type {\n",
       "        vertical-align: middle;\n",
       "    }\n",
       "\n",
       "    .dataframe tbody tr th {\n",
       "        vertical-align: top;\n",
       "    }\n",
       "\n",
       "    .dataframe thead th {\n",
       "        text-align: right;\n",
       "    }\n",
       "</style>\n",
       "<table border=\"1\" class=\"dataframe\">\n",
       "  <thead>\n",
       "    <tr style=\"text-align: right;\">\n",
       "      <th></th>\n",
       "      <th>VULNERA_LEVEL</th>\n",
       "      <th>date</th>\n",
       "      <th>deaths</th>\n",
       "      <th>population</th>\n",
       "      <th>death_percent</th>\n",
       "    </tr>\n",
       "  </thead>\n",
       "  <tbody>\n",
       "    <tr>\n",
       "      <th>0</th>\n",
       "      <td>HIGH</td>\n",
       "      <td>2020-04-02</td>\n",
       "      <td>6721</td>\n",
       "      <td>264339712.0</td>\n",
       "      <td>0.002543</td>\n",
       "    </tr>\n",
       "    <tr>\n",
       "      <th>1</th>\n",
       "      <td>HIGH</td>\n",
       "      <td>2020-04-03</td>\n",
       "      <td>7830</td>\n",
       "      <td>264339712.0</td>\n",
       "      <td>0.002962</td>\n",
       "    </tr>\n",
       "    <tr>\n",
       "      <th>2</th>\n",
       "      <td>HIGH</td>\n",
       "      <td>2020-04-04</td>\n",
       "      <td>9133</td>\n",
       "      <td>264339712.0</td>\n",
       "      <td>0.003455</td>\n",
       "    </tr>\n",
       "    <tr>\n",
       "      <th>3</th>\n",
       "      <td>HIGH</td>\n",
       "      <td>2020-04-05</td>\n",
       "      <td>10461</td>\n",
       "      <td>264339712.0</td>\n",
       "      <td>0.003957</td>\n",
       "    </tr>\n",
       "    <tr>\n",
       "      <th>4</th>\n",
       "      <td>HIGH</td>\n",
       "      <td>2020-04-06</td>\n",
       "      <td>11811</td>\n",
       "      <td>264339712.0</td>\n",
       "      <td>0.004468</td>\n",
       "    </tr>\n",
       "  </tbody>\n",
       "</table>\n",
       "</div>"
      ],
      "text/plain": [
       "  VULNERA_LEVEL        date  deaths   population  death_percent\n",
       "0          HIGH  2020-04-02    6721  264339712.0       0.002543\n",
       "1          HIGH  2020-04-03    7830  264339712.0       0.002962\n",
       "2          HIGH  2020-04-04    9133  264339712.0       0.003455\n",
       "3          HIGH  2020-04-05   10461  264339712.0       0.003957\n",
       "4          HIGH  2020-04-06   11811  264339712.0       0.004468"
      ]
     },
     "execution_count": 101,
     "metadata": {},
     "output_type": "execute_result"
    }
   ],
   "source": [
    "vl_high = cov_agg3[cov_agg3.VULNERA_LEVEL==\"HIGH\"]\n",
    "vl_high.reset_index(drop=True,inplace=True)\n",
    "vl_high.head()"
   ]
  },
  {
   "cell_type": "code",
   "execution_count": 102,
   "id": "def7ff62",
   "metadata": {},
   "outputs": [],
   "source": [
    "def create_dataset(dataset, look_back=1):\n",
    "    dataX, dataY = [], []\n",
    "    for i in range(len(dataset)-look_back-1):\n",
    "        a = dataset[i:(i+look_back), 0]\n",
    "        dataX.append(a)\n",
    "        dataY.append(dataset[i + look_back, 0])\n",
    "    return numpy.array(dataX), numpy.array(dataY)"
   ]
  },
  {
   "cell_type": "code",
   "execution_count": 103,
   "id": "36a280f2",
   "metadata": {},
   "outputs": [
    {
     "name": "stdout",
     "output_type": "stream",
     "text": [
      "Epoch 1/120\n",
      "168/168 - 1s - loss: 3.6379e-04\n",
      "Epoch 2/120\n",
      "168/168 - 0s - loss: 2.4289e-04\n",
      "Epoch 3/120\n",
      "168/168 - 0s - loss: 2.1797e-04\n",
      "Epoch 4/120\n",
      "168/168 - 0s - loss: 2.0688e-04\n",
      "Epoch 5/120\n",
      "168/168 - 0s - loss: 1.5774e-04\n",
      "Epoch 6/120\n",
      "168/168 - 0s - loss: 1.3291e-04\n",
      "Epoch 7/120\n",
      "168/168 - 0s - loss: 9.7945e-05\n",
      "Epoch 8/120\n",
      "168/168 - 0s - loss: 5.6098e-05\n",
      "Epoch 9/120\n",
      "168/168 - 0s - loss: 2.0894e-05\n",
      "Epoch 10/120\n",
      "168/168 - 0s - loss: 6.3542e-06\n",
      "Epoch 11/120\n",
      "168/168 - 0s - loss: 1.3549e-06\n",
      "Epoch 12/120\n",
      "168/168 - 0s - loss: 2.1561e-07\n",
      "Epoch 13/120\n",
      "168/168 - 0s - loss: 7.7282e-08\n",
      "Epoch 14/120\n",
      "168/168 - 0s - loss: 5.9191e-08\n",
      "Epoch 15/120\n",
      "168/168 - 0s - loss: 6.8433e-08\n",
      "Epoch 16/120\n",
      "168/168 - 0s - loss: 6.6292e-08\n",
      "Epoch 17/120\n",
      "168/168 - 0s - loss: 7.3939e-08\n",
      "Epoch 18/120\n",
      "168/168 - 0s - loss: 6.6047e-08\n",
      "Epoch 19/120\n",
      "168/168 - 0s - loss: 7.2978e-08\n",
      "Epoch 20/120\n",
      "168/168 - 0s - loss: 7.7676e-08\n",
      "Epoch 21/120\n",
      "168/168 - 0s - loss: 8.4286e-08\n",
      "Epoch 22/120\n",
      "168/168 - 0s - loss: 8.7874e-08\n",
      "Epoch 23/120\n",
      "168/168 - 0s - loss: 8.0708e-08\n",
      "Epoch 24/120\n",
      "168/168 - 0s - loss: 7.8743e-08\n",
      "Epoch 25/120\n",
      "168/168 - 0s - loss: 7.9351e-08\n",
      "Epoch 26/120\n",
      "168/168 - 0s - loss: 8.9771e-08\n",
      "Epoch 27/120\n",
      "168/168 - 0s - loss: 7.3235e-08\n",
      "Epoch 28/120\n",
      "168/168 - 0s - loss: 8.2469e-08\n",
      "Epoch 29/120\n",
      "168/168 - 0s - loss: 9.1771e-08\n",
      "Epoch 30/120\n",
      "168/168 - 0s - loss: 1.0552e-07\n",
      "Epoch 31/120\n",
      "168/168 - 0s - loss: 1.3734e-07\n",
      "Epoch 32/120\n",
      "168/168 - 0s - loss: 1.1171e-07\n",
      "Epoch 33/120\n",
      "168/168 - 0s - loss: 1.2134e-07\n",
      "Epoch 34/120\n",
      "168/168 - 0s - loss: 1.3221e-07\n",
      "Epoch 35/120\n",
      "168/168 - 0s - loss: 1.1539e-07\n",
      "Epoch 36/120\n",
      "168/168 - 0s - loss: 1.1467e-07\n",
      "Epoch 37/120\n",
      "168/168 - 0s - loss: 1.6914e-07\n",
      "Epoch 38/120\n",
      "168/168 - 0s - loss: 1.1947e-07\n",
      "Epoch 39/120\n",
      "168/168 - 0s - loss: 1.8081e-07\n",
      "Epoch 40/120\n",
      "168/168 - 0s - loss: 1.5731e-07\n",
      "Epoch 41/120\n",
      "168/168 - 0s - loss: 2.4172e-07\n",
      "Epoch 42/120\n",
      "168/168 - 0s - loss: 1.2771e-07\n",
      "Epoch 43/120\n",
      "168/168 - 0s - loss: 2.3683e-07\n",
      "Epoch 44/120\n",
      "168/168 - 0s - loss: 1.0931e-07\n",
      "Epoch 45/120\n",
      "168/168 - 0s - loss: 2.2185e-07\n",
      "Epoch 46/120\n",
      "168/168 - 0s - loss: 2.2040e-07\n",
      "Epoch 47/120\n",
      "168/168 - 0s - loss: 1.9086e-07\n",
      "Epoch 48/120\n",
      "168/168 - 0s - loss: 1.2992e-07\n",
      "Epoch 49/120\n",
      "168/168 - 0s - loss: 1.4928e-07\n",
      "Epoch 50/120\n",
      "168/168 - 0s - loss: 1.9409e-07\n",
      "Epoch 51/120\n",
      "168/168 - 0s - loss: 1.9175e-07\n",
      "Epoch 52/120\n",
      "168/168 - 0s - loss: 1.7585e-07\n",
      "Epoch 53/120\n",
      "168/168 - 0s - loss: 2.9577e-07\n",
      "Epoch 54/120\n",
      "168/168 - 0s - loss: 1.8043e-07\n",
      "Epoch 55/120\n",
      "168/168 - 0s - loss: 1.7052e-07\n",
      "Epoch 56/120\n",
      "168/168 - 0s - loss: 2.0457e-07\n",
      "Epoch 57/120\n",
      "168/168 - 0s - loss: 2.5085e-07\n",
      "Epoch 58/120\n",
      "168/168 - 0s - loss: 2.1022e-07\n",
      "Epoch 59/120\n",
      "168/168 - 0s - loss: 2.3939e-07\n",
      "Epoch 60/120\n",
      "168/168 - 0s - loss: 1.8762e-07\n",
      "Epoch 61/120\n",
      "168/168 - 0s - loss: 2.6130e-07\n",
      "Epoch 62/120\n",
      "168/168 - 0s - loss: 1.5856e-07\n",
      "Epoch 63/120\n",
      "168/168 - 0s - loss: 1.2032e-07\n",
      "Epoch 64/120\n",
      "168/168 - 0s - loss: 1.3645e-07\n",
      "Epoch 65/120\n",
      "168/168 - 0s - loss: 1.8630e-07\n",
      "Epoch 66/120\n",
      "168/168 - 0s - loss: 1.2537e-07\n",
      "Epoch 67/120\n",
      "168/168 - 0s - loss: 1.3197e-07\n",
      "Epoch 68/120\n",
      "168/168 - 0s - loss: 2.4444e-07\n",
      "Epoch 69/120\n",
      "168/168 - 0s - loss: 1.8509e-07\n",
      "Epoch 70/120\n",
      "168/168 - 0s - loss: 2.7076e-07\n",
      "Epoch 71/120\n",
      "168/168 - 0s - loss: 1.6711e-07\n",
      "Epoch 72/120\n",
      "168/168 - 0s - loss: 2.0787e-07\n",
      "Epoch 73/120\n",
      "168/168 - 0s - loss: 3.8463e-07\n",
      "Epoch 74/120\n",
      "168/168 - 0s - loss: 2.0899e-07\n",
      "Epoch 75/120\n",
      "168/168 - 0s - loss: 2.5854e-07\n",
      "Epoch 76/120\n",
      "168/168 - 0s - loss: 1.4907e-07\n",
      "Epoch 77/120\n",
      "168/168 - 0s - loss: 1.3528e-07\n",
      "Epoch 78/120\n",
      "168/168 - 0s - loss: 1.1707e-07\n",
      "Epoch 79/120\n",
      "168/168 - 0s - loss: 1.4932e-07\n",
      "Epoch 80/120\n",
      "168/168 - 0s - loss: 1.7083e-07\n",
      "Epoch 81/120\n",
      "168/168 - 0s - loss: 1.4678e-07\n",
      "Epoch 82/120\n",
      "168/168 - 0s - loss: 1.8879e-07\n",
      "Epoch 83/120\n",
      "168/168 - 0s - loss: 2.1677e-07\n",
      "Epoch 84/120\n",
      "168/168 - 0s - loss: 1.9047e-07\n",
      "Epoch 85/120\n",
      "168/168 - 0s - loss: 1.4642e-07\n",
      "Epoch 86/120\n",
      "168/168 - 0s - loss: 1.2796e-07\n",
      "Epoch 87/120\n",
      "168/168 - 0s - loss: 2.3777e-07\n",
      "Epoch 88/120\n",
      "168/168 - 0s - loss: 1.3687e-07\n",
      "Epoch 89/120\n",
      "168/168 - 0s - loss: 2.2525e-07\n",
      "Epoch 90/120\n",
      "168/168 - 0s - loss: 1.4931e-07\n",
      "Epoch 91/120\n",
      "168/168 - 0s - loss: 3.0430e-07\n",
      "Epoch 92/120\n",
      "168/168 - 0s - loss: 1.7603e-07\n",
      "Epoch 93/120\n",
      "168/168 - 0s - loss: 1.4212e-07\n",
      "Epoch 94/120\n",
      "168/168 - 0s - loss: 1.3145e-07\n",
      "Epoch 95/120\n",
      "168/168 - 0s - loss: 2.0905e-07\n",
      "Epoch 96/120\n",
      "168/168 - 0s - loss: 1.5283e-07\n",
      "Epoch 97/120\n",
      "168/168 - 0s - loss: 1.6016e-07\n",
      "Epoch 98/120\n",
      "168/168 - 0s - loss: 2.7805e-07\n",
      "Epoch 99/120\n",
      "168/168 - 0s - loss: 2.0512e-07\n",
      "Epoch 100/120\n",
      "168/168 - 0s - loss: 1.9491e-07\n",
      "Epoch 101/120\n",
      "168/168 - 0s - loss: 2.0674e-07\n",
      "Epoch 102/120\n",
      "168/168 - 0s - loss: 1.7597e-07\n",
      "Epoch 103/120\n",
      "168/168 - 0s - loss: 1.0231e-07\n",
      "Epoch 104/120\n",
      "168/168 - 0s - loss: 1.4095e-07\n",
      "Epoch 105/120\n",
      "168/168 - 0s - loss: 2.6084e-07\n",
      "Epoch 106/120\n",
      "168/168 - 0s - loss: 1.6560e-07\n",
      "Epoch 107/120\n",
      "168/168 - 0s - loss: 1.3140e-07\n",
      "Epoch 108/120\n",
      "168/168 - 0s - loss: 1.5510e-07\n",
      "Epoch 109/120\n",
      "168/168 - 0s - loss: 1.7368e-07\n",
      "Epoch 110/120\n",
      "168/168 - 0s - loss: 1.4130e-07\n",
      "Epoch 111/120\n",
      "168/168 - 0s - loss: 1.9136e-07\n",
      "Epoch 112/120\n",
      "168/168 - 0s - loss: 2.2296e-07\n",
      "Epoch 113/120\n",
      "168/168 - 0s - loss: 1.8096e-07\n",
      "Epoch 114/120\n",
      "168/168 - 0s - loss: 2.2657e-07\n",
      "Epoch 115/120\n",
      "168/168 - 0s - loss: 1.4334e-07\n",
      "Epoch 116/120\n",
      "168/168 - 0s - loss: 1.1565e-07\n",
      "Epoch 117/120\n",
      "168/168 - 0s - loss: 2.0269e-07\n",
      "Epoch 118/120\n",
      "168/168 - 0s - loss: 1.6018e-07\n",
      "Epoch 119/120\n",
      "168/168 - 0s - loss: 2.5419e-07\n",
      "Epoch 120/120\n",
      "168/168 - 0s - loss: 1.8621e-07\n"
     ]
    },
    {
     "data": {
      "text/plain": [
       "<keras.callbacks.History at 0x1c09b75cbe0>"
      ]
     },
     "execution_count": 103,
     "metadata": {},
     "output_type": "execute_result"
    }
   ],
   "source": [
    "#### Data Preparation\n",
    "dataset = vl_high.death_percent\n",
    "dataset = dataset.astype('float32')\n",
    "\n",
    "dataset = np.array(dataset).reshape(-1, 1)\n",
    "train_size = int(len(dataset) * 0.8)\n",
    "test_size = len(dataset) - train_size\n",
    "train, test = dataset[0:train_size], dataset[train_size:len(dataset)]\n",
    "\n",
    "look_back = 1\n",
    "trainX, trainY = create_dataset(train, look_back)\n",
    "testX, testY = create_dataset(test, look_back)\n",
    "\n",
    "trainX = numpy.reshape(trainX, (trainX.shape[0], 1, trainX.shape[1]))\n",
    "testX = numpy.reshape(testX, (testX.shape[0], 1, testX.shape[1]))\n",
    "\n",
    "\n",
    "#### Training LSTM Model\n",
    "model = Sequential()\n",
    "model.add(LSTM(5, input_shape=(1, look_back)))\n",
    "model.add(Dense(1))\n",
    "model.compile(loss='mean_squared_error', optimizer='adam')\n",
    "model.fit(trainX, trainY, epochs=120, batch_size=1, verbose=2)"
   ]
  },
  {
   "cell_type": "code",
   "execution_count": 104,
   "id": "9e911ba1",
   "metadata": {},
   "outputs": [
    {
     "name": "stdout",
     "output_type": "stream",
     "text": [
      "Train Score: 0.0005063733 RMSE\n",
      "Test Score: 0.0002885936 RMSE\n"
     ]
    }
   ],
   "source": [
    "#### RMSE calculation\n",
    "\n",
    "trainPredict = model.predict(trainX)\n",
    "testPredict = model.predict(testX)\n",
    "\n",
    "trainScore = math.sqrt(mean_squared_error(trainY, trainPredict[:,0]))\n",
    "print('Train Score: %.10f RMSE' % (trainScore))\n",
    "testScore = math.sqrt(mean_squared_error(testY, testPredict[:,0]))\n",
    "print('Test Score: %.10f RMSE' % (testScore))"
   ]
  },
  {
   "cell_type": "code",
   "execution_count": 105,
   "id": "87a496be",
   "metadata": {},
   "outputs": [
    {
     "name": "stdout",
     "output_type": "stream",
     "text": [
      "Train Score: 0.1448540819 MAPE\n",
      "Test Score: 0.0616811215 MAPE\n"
     ]
    }
   ],
   "source": [
    "#### MAPE calculation\n",
    "\n",
    "trainScore = math.sqrt(mean_absolute_percentage_error(trainY, trainPredict[:,0]))\n",
    "print('Train Score: %.10f MAPE' % (trainScore))\n",
    "testScore = math.sqrt(mean_absolute_percentage_error(testY, testPredict[:,0]))\n",
    "print('Test Score: %.10f MAPE' % (testScore))"
   ]
  },
  {
   "cell_type": "code",
   "execution_count": 106,
   "id": "20f13754",
   "metadata": {},
   "outputs": [
    {
     "data": {
      "application/vnd.plotly.v1+json": {
       "config": {
        "plotlyServerURL": "https://plot.ly"
       },
       "data": [
        {
         "line": {
          "width": 3
         },
         "marker": {
          "color": "firebrick"
         },
         "mode": "lines",
         "name": "Real",
         "type": "scatter",
         "x": [
          "2020-04-02",
          "2020-04-03",
          "2020-04-04",
          "2020-04-05",
          "2020-04-06",
          "2020-04-07",
          "2020-04-08",
          "2020-04-09",
          "2020-04-10",
          "2020-04-11",
          "2020-04-12",
          "2020-04-13",
          "2020-04-14",
          "2020-04-15",
          "2020-04-16",
          "2020-04-17",
          "2020-04-18",
          "2020-04-19",
          "2020-04-20",
          "2020-04-21",
          "2020-04-22",
          "2020-04-23",
          "2020-04-24",
          "2020-04-25",
          "2020-04-26",
          "2020-04-27",
          "2020-04-28",
          "2020-04-29",
          "2020-04-30",
          "2020-05-01",
          "2020-05-02",
          "2020-05-03",
          "2020-05-04",
          "2020-05-05",
          "2020-05-06",
          "2020-05-07",
          "2020-05-08",
          "2020-05-09",
          "2020-05-10",
          "2020-05-11",
          "2020-05-12",
          "2020-05-13",
          "2020-05-14",
          "2020-05-15",
          "2020-05-16",
          "2020-05-17",
          "2020-05-18",
          "2020-05-19",
          "2020-05-20",
          "2020-05-21",
          "2020-05-22",
          "2020-05-23",
          "2020-05-24",
          "2020-05-25",
          "2020-05-26",
          "2020-05-27",
          "2020-05-28",
          "2020-05-29",
          "2020-05-30",
          "2020-05-31",
          "2020-06-01",
          "2020-06-02",
          "2020-06-03",
          "2020-06-04",
          "2020-06-05",
          "2020-06-06",
          "2020-06-07",
          "2020-06-08",
          "2020-06-09",
          "2020-06-10",
          "2020-06-11",
          "2020-06-12",
          "2020-06-13",
          "2020-06-14",
          "2020-06-15",
          "2020-06-16",
          "2020-06-17",
          "2020-06-18",
          "2020-06-19",
          "2020-06-20",
          "2020-06-21",
          "2020-06-22",
          "2020-06-23",
          "2020-06-24",
          "2020-06-25",
          "2020-06-26",
          "2020-06-27",
          "2020-06-28",
          "2020-06-29",
          "2020-06-30",
          "2020-07-01",
          "2020-07-02",
          "2020-07-03",
          "2020-07-04",
          "2020-07-05",
          "2020-07-06",
          "2020-07-07",
          "2020-07-08",
          "2020-07-09",
          "2020-07-10",
          "2020-07-11",
          "2020-07-12",
          "2020-07-13",
          "2020-07-14",
          "2020-07-15",
          "2020-07-16",
          "2020-07-17",
          "2020-07-18",
          "2020-07-19",
          "2020-07-20",
          "2020-07-21",
          "2020-07-22",
          "2020-07-23",
          "2020-07-24",
          "2020-07-25",
          "2020-07-26",
          "2020-07-27",
          "2020-07-28",
          "2020-07-29",
          "2020-07-30",
          "2020-07-31",
          "2020-08-01",
          "2020-08-02",
          "2020-08-03",
          "2020-08-04",
          "2020-08-05",
          "2020-08-06",
          "2020-08-07",
          "2020-08-08",
          "2020-08-09",
          "2020-08-10",
          "2020-08-11",
          "2020-08-12",
          "2020-08-13",
          "2020-08-14",
          "2020-08-15",
          "2020-08-16",
          "2020-08-17",
          "2020-08-18",
          "2020-08-19",
          "2020-08-20",
          "2020-08-21",
          "2020-08-22",
          "2020-08-23",
          "2020-08-24",
          "2020-08-25",
          "2020-08-26",
          "2020-08-27",
          "2020-08-28",
          "2020-08-29",
          "2020-08-30",
          "2020-08-31",
          "2020-09-01",
          "2020-09-02",
          "2020-09-03",
          "2020-09-04",
          "2020-09-05",
          "2020-09-06",
          "2020-09-07",
          "2020-09-08",
          "2020-09-09",
          "2020-09-10",
          "2020-09-11",
          "2020-09-12",
          "2020-09-13",
          "2020-09-14",
          "2020-09-15",
          "2020-09-16",
          "2020-09-17",
          "2020-09-18",
          "2020-09-19",
          "2020-09-20",
          "2020-09-21",
          "2020-09-22",
          "2020-09-23",
          "2020-09-24",
          "2020-09-25",
          "2020-09-26",
          "2020-09-27",
          "2020-09-28",
          "2020-09-29",
          "2020-09-30",
          "2020-10-01",
          "2020-10-02",
          "2020-10-03",
          "2020-10-04",
          "2020-10-05",
          "2020-10-06",
          "2020-10-07",
          "2020-10-08",
          "2020-10-09",
          "2020-10-10",
          "2020-10-11",
          "2020-10-12",
          "2020-10-13",
          "2020-10-14",
          "2020-10-15",
          "2020-10-16",
          "2020-10-17",
          "2020-10-18",
          "2020-10-19",
          "2020-10-20",
          "2020-10-21",
          "2020-10-22",
          "2020-10-23",
          "2020-10-24",
          "2020-10-25",
          "2020-10-26",
          "2020-10-27",
          "2020-10-28",
          "2020-10-29",
          "2020-10-30",
          "2020-10-31"
         ],
         "y": [
          0.0025425615958906697,
          0.002962097499750624,
          0.003455023814204655,
          0.003957407655797098,
          0.004468114121271343,
          0.005245522852048806,
          0.005927599709271076,
          0.006604758652381372,
          0.007267542154241281,
          0.008016956604689046,
          0.008621103438290801,
          0.009205200314359122,
          0.00997466472234032,
          0.010888261843910915,
          0.011608168809686832,
          0.012297811688619832,
          0.012948111254657037,
          0.013607111745661584,
          0.014307347054989605,
          0.015026875719679984,
          0.015879944667564743,
          0.016608930859393536,
          0.017263013436286105,
          0.018085818297327947,
          0.018499679684904853,
          0.01906410490452528,
          0.01982373348428253,
          0.020656374173548316,
          0.021454589464030286,
          0.022135909719081484,
          0.02272151979949195,
          0.023109656713252377,
          0.023533732230138767,
          0.024302818337034432,
          0.025088927992779234,
          0.025728635128421412,
          0.026324837639226908,
          0.026847271438352784,
          0.027181689597967025,
          0.027513081348896982,
          0.02801886990025925,
          0.028625286540374228,
          0.029246456922825126,
          0.02978969728165551,
          0.03020658507791671,
          0.030485392977957094,
          0.03237803330889609,
          0.032875120935291026,
          0.03341268677783836,
          0.03383941040232351,
          0.03424570576818969,
          0.0346523794351414,
          0.034875955376693454,
          0.03506775402706045,
          0.035281494140388565,
          0.03576950254073062,
          0.036139859303470835,
          0.0365575037019031,
          0.03689873128105701,
          0.037146140190997864,
          0.03740414153133374,
          0.03773515498117816,
          0.0380767608614176,
          0.03842290635468348,
          0.038728951932882484,
          0.038981657058020855,
          0.039149244438913516,
          0.03930321298072686,
          0.039603584042642824,
          0.03989411927633484,
          0.040172927176375224,
          0.0404422775492772,
          0.040697252480928786,
          0.04081755222612938,
          0.04094768779955393,
          0.041213633462686076,
          0.04146747349108105,
          0.04169558904565955,
          0.04191727348178393,
          0.04212382587448684,
          0.04222937187735152,
          0.042357615945348384,
          0.04259897203792066,
          0.042850542259802414,
          0.043707772519628076,
          0.043920377729699575,
          0.04409477453013189,
          0.04420032053299657,
          0.04432932120316451,
          0.04452376796113026,
          0.044757936333077335,
          0.04499361790936656,
          0.045214545743319866,
          0.04532198325161223,
          0.045430177362075656,
          0.045561069537671285,
          0.04587732924517978,
          0.04615916355390445,
          0.04650757885368355,
          0.046782982043954105,
          0.04703190415823711,
          0.047192303818504575,
          0.047340597844034875,
          0.04765383114285908,
          0.04797954837750599,
          0.04830829202083719,
          0.04861963381423371,
          0.04891546526312324,
          0.04907851303098946,
          0.04926955507918538,
          0.04963083261587272,
          0.05002464404591619,
          0.05038894799128782,
          0.050744551011692104,
          0.051050218288805585,
          0.05121553586318503,
          0.05153784838806211,
          0.05197781255054103,
          0.05239810505657205,
          0.052800239110497325,
          0.053256848520739856,
          0.053578026142360326,
          0.053725941866805085,
          0.05390412167809277,
          0.05429339349510981,
          0.054744328389069286,
          0.055140787926711524,
          0.055539895571952505,
          0.05589285048475804,
          0.056053628446111045,
          0.056254506322530914,
          0.05664113003194919,
          0.0571151412921264,
          0.05744501983871421,
          0.05788233589359438,
          0.05820237861195824,
          0.05837904521890377,
          0.058519773222723344,
          0.05892001577122094,
          0.05933122905119909,
          0.05973109329861114,
          0.06006135014628449,
          0.060344697659351305,
          0.060509258631559676,
          0.060656039452747834,
          0.061029422624172346,
          0.06138918695651753,
          0.061730036234585894,
          0.062017923360679156,
          0.06228462562598237,
          0.06241740930700568,
          0.06258764479549708,
          0.06289936488997916,
          0.0632296217376525,
          0.0635666880048655,
          0.06384511760382035,
          0.06405772281389185,
          0.06418407537646102,
          0.0642782723467596,
          0.0644182437484081,
          0.06477649487641116,
          0.06504622355039866,
          0.06539804355994758,
          0.06561102707110462,
          0.06573662303150274,
          0.06586524540058514,
          0.06621101259276548,
          0.06651176195576698,
          0.06676825009176071,
          0.06703230424946517,
          0.0672399915454247,
          0.0673239743864138,
          0.06743973451858797,
          0.06770303207412134,
          0.06801853517945877,
          0.06830226099361113,
          0.06857463777519739,
          0.06879594391023623,
          0.06887727864362658,
          0.06897223221609623,
          0.06922531564232014,
          0.0695007188325907,
          0.06974737114036048,
          0.06997699989928112,
          0.07016274573227953,
          0.07026186061669008,
          0.07039842730856875,
          0.07060081838933077,
          0.07085806312749558,
          0.07113611442536488,
          0.0713831450342202,
          0.07155754183465253,
          0.07169789153738657,
          0.0717947366152839,
          0.07203306629917187,
          0.07228766292973793,
          0.07253431523750771,
          0.07277869773876428,
          0.07296406527067714,
          0.07310290176906904,
          0.07322433641752625,
          0.07347250192963818,
          0.0737569843459616,
          0.073989261212481,
          0.07422645599311238,
          0.07445419324660534,
          0.07456390056141092,
          0.07469592764026316,
          0.07493766203392095,
          0.07520852561116508,
          0.07546577034932989,
          0.075721123582067,
          0.07596550608332357
         ]
        },
        {
         "line": {
          "width": 3
         },
         "marker": {
          "color": "tomato"
         },
         "mode": "lines",
         "name": "Forecast",
         "type": "scatter",
         "x": [
          "2020-10-31",
          "2020-11-01",
          "2020-11-02",
          "2020-11-03",
          "2020-11-04",
          "2020-11-05",
          "2020-11-06",
          "2020-11-07",
          "2020-11-08",
          "2020-11-09",
          "2020-11-10",
          "2020-11-11",
          "2020-11-12",
          "2020-11-13",
          "2020-11-14",
          "2020-11-15",
          "2020-11-16",
          "2020-11-17",
          "2020-11-18",
          "2020-11-19",
          "2020-11-20",
          "2020-11-21",
          "2020-11-22",
          "2020-11-23",
          "2020-11-24",
          "2020-11-25",
          "2020-11-26",
          "2020-11-27",
          "2020-11-28",
          "2020-11-29",
          "2020-11-30",
          "2020-12-01",
          "2020-12-02",
          "2020-12-03",
          "2020-12-04",
          "2020-12-05",
          "2020-12-06",
          "2020-12-07",
          "2020-12-08",
          "2020-12-09",
          "2020-12-10",
          "2020-12-11",
          "2020-12-12",
          "2020-12-13",
          "2020-12-14",
          "2020-12-15",
          "2020-12-16",
          "2020-12-17",
          "2020-12-18",
          "2020-12-19",
          "2020-12-20",
          "2020-12-21",
          "2020-12-22",
          "2020-12-23",
          "2020-12-24",
          "2020-12-25",
          "2020-12-26",
          "2020-12-27",
          "2020-12-28",
          "2020-12-29",
          "2020-12-30",
          "2020-12-31",
          "2021-01-01",
          "2021-01-02",
          "2021-01-03",
          "2021-01-04",
          "2021-01-05",
          "2021-01-06",
          "2021-01-07",
          "2021-01-08",
          "2021-01-09",
          "2021-01-10",
          "2021-01-11",
          "2021-01-12",
          "2021-01-13"
         ],
         "y": [
          0.07658201456069946,
          0.07721758633852005,
          0.07787303626537323,
          0.07854919880628586,
          0.07924699038267136,
          0.07996734976768494,
          0.08071129024028778,
          0.08147986978292465,
          0.08227421343326569,
          0.08309552073478699,
          0.08394505828619003,
          0.08482417464256287,
          0.0857343077659607,
          0.08667696267366409,
          0.0876537635922432,
          0.08866643905639648,
          0.0897168219089508,
          0.09080687910318375,
          0.09193870425224304,
          0.09311451762914658,
          0.09433674067258835,
          0.0956079289317131,
          0.0969308391213417,
          0.09830844402313232,
          0.09974389523267746,
          0.1012406125664711,
          0.10280228406190872,
          0.10443287342786789,
          0.10613665729761124,
          0.10791827738285065,
          0.10978273302316666,
          0.11173544079065323,
          0.11378231644630432,
          0.1159297302365303,
          0.1181846484541893,
          0.12055464833974838,
          0.12304798513650894,
          0.12567369639873505,
          0.12844163179397583,
          0.13136261701583862,
          0.13444849848747253,
          0.1377122849225998,
          0.14116829633712769,
          0.1448323130607605,
          0.14872175455093384,
          0.15285584330558777,
          0.15725582838058472,
          0.16194526851177216,
          0.16695024073123932,
          0.17229975759983063,
          0.17802594602108002,
          0.1841646134853363,
          0.19075548648834229,
          0.1978427767753601,
          0.20547564327716827,
          0.21370868384838104,
          0.22260239720344543,
          0.2322237491607666,
          0.2426465004682541,
          0.2539515495300293,
          0.2662270963191986,
          0.27956822514533997,
          0.29407623410224915,
          0.3098573088645935,
          0.32701992988586426,
          0.345671147108078,
          0.3659113645553589,
          0.3878268003463745,
          0.4114797115325928,
          0.43689683079719543,
          0.46405544877052307,
          0.49286916851997375,
          0.5231742858886719,
          0.5547201037406921,
          0.5871659517288208
         ]
        }
       ],
       "layout": {
        "hovermode": "x",
        "legend": {
         "bgcolor": "rgba(0,0,0,0)"
        },
        "margin": {
         "b": 50,
         "l": 60,
         "r": 10,
         "t": 20
        },
        "template": {
         "data": {
          "bar": [
           {
            "error_x": {
             "color": "#2a3f5f"
            },
            "error_y": {
             "color": "#2a3f5f"
            },
            "marker": {
             "line": {
              "color": "#E5ECF6",
              "width": 0.5
             },
             "pattern": {
              "fillmode": "overlay",
              "size": 10,
              "solidity": 0.2
             }
            },
            "type": "bar"
           }
          ],
          "barpolar": [
           {
            "marker": {
             "line": {
              "color": "#E5ECF6",
              "width": 0.5
             },
             "pattern": {
              "fillmode": "overlay",
              "size": 10,
              "solidity": 0.2
             }
            },
            "type": "barpolar"
           }
          ],
          "carpet": [
           {
            "aaxis": {
             "endlinecolor": "#2a3f5f",
             "gridcolor": "white",
             "linecolor": "white",
             "minorgridcolor": "white",
             "startlinecolor": "#2a3f5f"
            },
            "baxis": {
             "endlinecolor": "#2a3f5f",
             "gridcolor": "white",
             "linecolor": "white",
             "minorgridcolor": "white",
             "startlinecolor": "#2a3f5f"
            },
            "type": "carpet"
           }
          ],
          "choropleth": [
           {
            "colorbar": {
             "outlinewidth": 0,
             "ticks": ""
            },
            "type": "choropleth"
           }
          ],
          "contour": [
           {
            "colorbar": {
             "outlinewidth": 0,
             "ticks": ""
            },
            "colorscale": [
             [
              0,
              "#0d0887"
             ],
             [
              0.1111111111111111,
              "#46039f"
             ],
             [
              0.2222222222222222,
              "#7201a8"
             ],
             [
              0.3333333333333333,
              "#9c179e"
             ],
             [
              0.4444444444444444,
              "#bd3786"
             ],
             [
              0.5555555555555556,
              "#d8576b"
             ],
             [
              0.6666666666666666,
              "#ed7953"
             ],
             [
              0.7777777777777778,
              "#fb9f3a"
             ],
             [
              0.8888888888888888,
              "#fdca26"
             ],
             [
              1,
              "#f0f921"
             ]
            ],
            "type": "contour"
           }
          ],
          "contourcarpet": [
           {
            "colorbar": {
             "outlinewidth": 0,
             "ticks": ""
            },
            "type": "contourcarpet"
           }
          ],
          "heatmap": [
           {
            "colorbar": {
             "outlinewidth": 0,
             "ticks": ""
            },
            "colorscale": [
             [
              0,
              "#0d0887"
             ],
             [
              0.1111111111111111,
              "#46039f"
             ],
             [
              0.2222222222222222,
              "#7201a8"
             ],
             [
              0.3333333333333333,
              "#9c179e"
             ],
             [
              0.4444444444444444,
              "#bd3786"
             ],
             [
              0.5555555555555556,
              "#d8576b"
             ],
             [
              0.6666666666666666,
              "#ed7953"
             ],
             [
              0.7777777777777778,
              "#fb9f3a"
             ],
             [
              0.8888888888888888,
              "#fdca26"
             ],
             [
              1,
              "#f0f921"
             ]
            ],
            "type": "heatmap"
           }
          ],
          "heatmapgl": [
           {
            "colorbar": {
             "outlinewidth": 0,
             "ticks": ""
            },
            "colorscale": [
             [
              0,
              "#0d0887"
             ],
             [
              0.1111111111111111,
              "#46039f"
             ],
             [
              0.2222222222222222,
              "#7201a8"
             ],
             [
              0.3333333333333333,
              "#9c179e"
             ],
             [
              0.4444444444444444,
              "#bd3786"
             ],
             [
              0.5555555555555556,
              "#d8576b"
             ],
             [
              0.6666666666666666,
              "#ed7953"
             ],
             [
              0.7777777777777778,
              "#fb9f3a"
             ],
             [
              0.8888888888888888,
              "#fdca26"
             ],
             [
              1,
              "#f0f921"
             ]
            ],
            "type": "heatmapgl"
           }
          ],
          "histogram": [
           {
            "marker": {
             "pattern": {
              "fillmode": "overlay",
              "size": 10,
              "solidity": 0.2
             }
            },
            "type": "histogram"
           }
          ],
          "histogram2d": [
           {
            "colorbar": {
             "outlinewidth": 0,
             "ticks": ""
            },
            "colorscale": [
             [
              0,
              "#0d0887"
             ],
             [
              0.1111111111111111,
              "#46039f"
             ],
             [
              0.2222222222222222,
              "#7201a8"
             ],
             [
              0.3333333333333333,
              "#9c179e"
             ],
             [
              0.4444444444444444,
              "#bd3786"
             ],
             [
              0.5555555555555556,
              "#d8576b"
             ],
             [
              0.6666666666666666,
              "#ed7953"
             ],
             [
              0.7777777777777778,
              "#fb9f3a"
             ],
             [
              0.8888888888888888,
              "#fdca26"
             ],
             [
              1,
              "#f0f921"
             ]
            ],
            "type": "histogram2d"
           }
          ],
          "histogram2dcontour": [
           {
            "colorbar": {
             "outlinewidth": 0,
             "ticks": ""
            },
            "colorscale": [
             [
              0,
              "#0d0887"
             ],
             [
              0.1111111111111111,
              "#46039f"
             ],
             [
              0.2222222222222222,
              "#7201a8"
             ],
             [
              0.3333333333333333,
              "#9c179e"
             ],
             [
              0.4444444444444444,
              "#bd3786"
             ],
             [
              0.5555555555555556,
              "#d8576b"
             ],
             [
              0.6666666666666666,
              "#ed7953"
             ],
             [
              0.7777777777777778,
              "#fb9f3a"
             ],
             [
              0.8888888888888888,
              "#fdca26"
             ],
             [
              1,
              "#f0f921"
             ]
            ],
            "type": "histogram2dcontour"
           }
          ],
          "mesh3d": [
           {
            "colorbar": {
             "outlinewidth": 0,
             "ticks": ""
            },
            "type": "mesh3d"
           }
          ],
          "parcoords": [
           {
            "line": {
             "colorbar": {
              "outlinewidth": 0,
              "ticks": ""
             }
            },
            "type": "parcoords"
           }
          ],
          "pie": [
           {
            "automargin": true,
            "type": "pie"
           }
          ],
          "scatter": [
           {
            "marker": {
             "colorbar": {
              "outlinewidth": 0,
              "ticks": ""
             }
            },
            "type": "scatter"
           }
          ],
          "scatter3d": [
           {
            "line": {
             "colorbar": {
              "outlinewidth": 0,
              "ticks": ""
             }
            },
            "marker": {
             "colorbar": {
              "outlinewidth": 0,
              "ticks": ""
             }
            },
            "type": "scatter3d"
           }
          ],
          "scattercarpet": [
           {
            "marker": {
             "colorbar": {
              "outlinewidth": 0,
              "ticks": ""
             }
            },
            "type": "scattercarpet"
           }
          ],
          "scattergeo": [
           {
            "marker": {
             "colorbar": {
              "outlinewidth": 0,
              "ticks": ""
             }
            },
            "type": "scattergeo"
           }
          ],
          "scattergl": [
           {
            "marker": {
             "colorbar": {
              "outlinewidth": 0,
              "ticks": ""
             }
            },
            "type": "scattergl"
           }
          ],
          "scattermapbox": [
           {
            "marker": {
             "colorbar": {
              "outlinewidth": 0,
              "ticks": ""
             }
            },
            "type": "scattermapbox"
           }
          ],
          "scatterpolar": [
           {
            "marker": {
             "colorbar": {
              "outlinewidth": 0,
              "ticks": ""
             }
            },
            "type": "scatterpolar"
           }
          ],
          "scatterpolargl": [
           {
            "marker": {
             "colorbar": {
              "outlinewidth": 0,
              "ticks": ""
             }
            },
            "type": "scatterpolargl"
           }
          ],
          "scatterternary": [
           {
            "marker": {
             "colorbar": {
              "outlinewidth": 0,
              "ticks": ""
             }
            },
            "type": "scatterternary"
           }
          ],
          "surface": [
           {
            "colorbar": {
             "outlinewidth": 0,
             "ticks": ""
            },
            "colorscale": [
             [
              0,
              "#0d0887"
             ],
             [
              0.1111111111111111,
              "#46039f"
             ],
             [
              0.2222222222222222,
              "#7201a8"
             ],
             [
              0.3333333333333333,
              "#9c179e"
             ],
             [
              0.4444444444444444,
              "#bd3786"
             ],
             [
              0.5555555555555556,
              "#d8576b"
             ],
             [
              0.6666666666666666,
              "#ed7953"
             ],
             [
              0.7777777777777778,
              "#fb9f3a"
             ],
             [
              0.8888888888888888,
              "#fdca26"
             ],
             [
              1,
              "#f0f921"
             ]
            ],
            "type": "surface"
           }
          ],
          "table": [
           {
            "cells": {
             "fill": {
              "color": "#EBF0F8"
             },
             "line": {
              "color": "white"
             }
            },
            "header": {
             "fill": {
              "color": "#C8D4E3"
             },
             "line": {
              "color": "white"
             }
            },
            "type": "table"
           }
          ]
         },
         "layout": {
          "annotationdefaults": {
           "arrowcolor": "#2a3f5f",
           "arrowhead": 0,
           "arrowwidth": 1
          },
          "autotypenumbers": "strict",
          "coloraxis": {
           "colorbar": {
            "outlinewidth": 0,
            "ticks": ""
           }
          },
          "colorscale": {
           "diverging": [
            [
             0,
             "#8e0152"
            ],
            [
             0.1,
             "#c51b7d"
            ],
            [
             0.2,
             "#de77ae"
            ],
            [
             0.3,
             "#f1b6da"
            ],
            [
             0.4,
             "#fde0ef"
            ],
            [
             0.5,
             "#f7f7f7"
            ],
            [
             0.6,
             "#e6f5d0"
            ],
            [
             0.7,
             "#b8e186"
            ],
            [
             0.8,
             "#7fbc41"
            ],
            [
             0.9,
             "#4d9221"
            ],
            [
             1,
             "#276419"
            ]
           ],
           "sequential": [
            [
             0,
             "#0d0887"
            ],
            [
             0.1111111111111111,
             "#46039f"
            ],
            [
             0.2222222222222222,
             "#7201a8"
            ],
            [
             0.3333333333333333,
             "#9c179e"
            ],
            [
             0.4444444444444444,
             "#bd3786"
            ],
            [
             0.5555555555555556,
             "#d8576b"
            ],
            [
             0.6666666666666666,
             "#ed7953"
            ],
            [
             0.7777777777777778,
             "#fb9f3a"
            ],
            [
             0.8888888888888888,
             "#fdca26"
            ],
            [
             1,
             "#f0f921"
            ]
           ],
           "sequentialminus": [
            [
             0,
             "#0d0887"
            ],
            [
             0.1111111111111111,
             "#46039f"
            ],
            [
             0.2222222222222222,
             "#7201a8"
            ],
            [
             0.3333333333333333,
             "#9c179e"
            ],
            [
             0.4444444444444444,
             "#bd3786"
            ],
            [
             0.5555555555555556,
             "#d8576b"
            ],
            [
             0.6666666666666666,
             "#ed7953"
            ],
            [
             0.7777777777777778,
             "#fb9f3a"
            ],
            [
             0.8888888888888888,
             "#fdca26"
            ],
            [
             1,
             "#f0f921"
            ]
           ]
          },
          "colorway": [
           "#636efa",
           "#EF553B",
           "#00cc96",
           "#ab63fa",
           "#FFA15A",
           "#19d3f3",
           "#FF6692",
           "#B6E880",
           "#FF97FF",
           "#FECB52"
          ],
          "font": {
           "color": "#2a3f5f"
          },
          "geo": {
           "bgcolor": "white",
           "lakecolor": "white",
           "landcolor": "#E5ECF6",
           "showlakes": true,
           "showland": true,
           "subunitcolor": "white"
          },
          "hoverlabel": {
           "align": "left"
          },
          "hovermode": "closest",
          "mapbox": {
           "style": "light"
          },
          "paper_bgcolor": "white",
          "plot_bgcolor": "#E5ECF6",
          "polar": {
           "angularaxis": {
            "gridcolor": "white",
            "linecolor": "white",
            "ticks": ""
           },
           "bgcolor": "#E5ECF6",
           "radialaxis": {
            "gridcolor": "white",
            "linecolor": "white",
            "ticks": ""
           }
          },
          "scene": {
           "xaxis": {
            "backgroundcolor": "#E5ECF6",
            "gridcolor": "white",
            "gridwidth": 2,
            "linecolor": "white",
            "showbackground": true,
            "ticks": "",
            "zerolinecolor": "white"
           },
           "yaxis": {
            "backgroundcolor": "#E5ECF6",
            "gridcolor": "white",
            "gridwidth": 2,
            "linecolor": "white",
            "showbackground": true,
            "ticks": "",
            "zerolinecolor": "white"
           },
           "zaxis": {
            "backgroundcolor": "#E5ECF6",
            "gridcolor": "white",
            "gridwidth": 2,
            "linecolor": "white",
            "showbackground": true,
            "ticks": "",
            "zerolinecolor": "white"
           }
          },
          "shapedefaults": {
           "line": {
            "color": "#2a3f5f"
           }
          },
          "ternary": {
           "aaxis": {
            "gridcolor": "white",
            "linecolor": "white",
            "ticks": ""
           },
           "baxis": {
            "gridcolor": "white",
            "linecolor": "white",
            "ticks": ""
           },
           "bgcolor": "#E5ECF6",
           "caxis": {
            "gridcolor": "white",
            "linecolor": "white",
            "ticks": ""
           }
          },
          "title": {
           "x": 0.05
          },
          "xaxis": {
           "automargin": true,
           "gridcolor": "white",
           "linecolor": "white",
           "ticks": "",
           "title": {
            "standoff": 15
           },
           "zerolinecolor": "white",
           "zerolinewidth": 2
          },
          "yaxis": {
           "automargin": true,
           "gridcolor": "white",
           "linecolor": "white",
           "ticks": "",
           "title": {
            "standoff": 15
           },
           "zerolinecolor": "white",
           "zerolinewidth": 2
          }
         }
        },
        "xaxis": {
         "title": {
          "text": "Date"
         }
        },
        "yaxis": {
         "title": {
          "text": "Death Percentage by Covid"
         }
        }
       }
      },
      "text/html": [
       "<div>                            <div id=\"faf2a08a-2f67-4e9b-964f-1559e04a93b1\" class=\"plotly-graph-div\" style=\"height:525px; width:100%;\"></div>            <script type=\"text/javascript\">                require([\"plotly\"], function(Plotly) {                    window.PLOTLYENV=window.PLOTLYENV || {};                                    if (document.getElementById(\"faf2a08a-2f67-4e9b-964f-1559e04a93b1\")) {                    Plotly.newPlot(                        \"faf2a08a-2f67-4e9b-964f-1559e04a93b1\",                        [{\"line\":{\"width\":3},\"marker\":{\"color\":\"firebrick\"},\"mode\":\"lines\",\"name\":\"Real\",\"type\":\"scatter\",\"x\":[\"2020-04-02\",\"2020-04-03\",\"2020-04-04\",\"2020-04-05\",\"2020-04-06\",\"2020-04-07\",\"2020-04-08\",\"2020-04-09\",\"2020-04-10\",\"2020-04-11\",\"2020-04-12\",\"2020-04-13\",\"2020-04-14\",\"2020-04-15\",\"2020-04-16\",\"2020-04-17\",\"2020-04-18\",\"2020-04-19\",\"2020-04-20\",\"2020-04-21\",\"2020-04-22\",\"2020-04-23\",\"2020-04-24\",\"2020-04-25\",\"2020-04-26\",\"2020-04-27\",\"2020-04-28\",\"2020-04-29\",\"2020-04-30\",\"2020-05-01\",\"2020-05-02\",\"2020-05-03\",\"2020-05-04\",\"2020-05-05\",\"2020-05-06\",\"2020-05-07\",\"2020-05-08\",\"2020-05-09\",\"2020-05-10\",\"2020-05-11\",\"2020-05-12\",\"2020-05-13\",\"2020-05-14\",\"2020-05-15\",\"2020-05-16\",\"2020-05-17\",\"2020-05-18\",\"2020-05-19\",\"2020-05-20\",\"2020-05-21\",\"2020-05-22\",\"2020-05-23\",\"2020-05-24\",\"2020-05-25\",\"2020-05-26\",\"2020-05-27\",\"2020-05-28\",\"2020-05-29\",\"2020-05-30\",\"2020-05-31\",\"2020-06-01\",\"2020-06-02\",\"2020-06-03\",\"2020-06-04\",\"2020-06-05\",\"2020-06-06\",\"2020-06-07\",\"2020-06-08\",\"2020-06-09\",\"2020-06-10\",\"2020-06-11\",\"2020-06-12\",\"2020-06-13\",\"2020-06-14\",\"2020-06-15\",\"2020-06-16\",\"2020-06-17\",\"2020-06-18\",\"2020-06-19\",\"2020-06-20\",\"2020-06-21\",\"2020-06-22\",\"2020-06-23\",\"2020-06-24\",\"2020-06-25\",\"2020-06-26\",\"2020-06-27\",\"2020-06-28\",\"2020-06-29\",\"2020-06-30\",\"2020-07-01\",\"2020-07-02\",\"2020-07-03\",\"2020-07-04\",\"2020-07-05\",\"2020-07-06\",\"2020-07-07\",\"2020-07-08\",\"2020-07-09\",\"2020-07-10\",\"2020-07-11\",\"2020-07-12\",\"2020-07-13\",\"2020-07-14\",\"2020-07-15\",\"2020-07-16\",\"2020-07-17\",\"2020-07-18\",\"2020-07-19\",\"2020-07-20\",\"2020-07-21\",\"2020-07-22\",\"2020-07-23\",\"2020-07-24\",\"2020-07-25\",\"2020-07-26\",\"2020-07-27\",\"2020-07-28\",\"2020-07-29\",\"2020-07-30\",\"2020-07-31\",\"2020-08-01\",\"2020-08-02\",\"2020-08-03\",\"2020-08-04\",\"2020-08-05\",\"2020-08-06\",\"2020-08-07\",\"2020-08-08\",\"2020-08-09\",\"2020-08-10\",\"2020-08-11\",\"2020-08-12\",\"2020-08-13\",\"2020-08-14\",\"2020-08-15\",\"2020-08-16\",\"2020-08-17\",\"2020-08-18\",\"2020-08-19\",\"2020-08-20\",\"2020-08-21\",\"2020-08-22\",\"2020-08-23\",\"2020-08-24\",\"2020-08-25\",\"2020-08-26\",\"2020-08-27\",\"2020-08-28\",\"2020-08-29\",\"2020-08-30\",\"2020-08-31\",\"2020-09-01\",\"2020-09-02\",\"2020-09-03\",\"2020-09-04\",\"2020-09-05\",\"2020-09-06\",\"2020-09-07\",\"2020-09-08\",\"2020-09-09\",\"2020-09-10\",\"2020-09-11\",\"2020-09-12\",\"2020-09-13\",\"2020-09-14\",\"2020-09-15\",\"2020-09-16\",\"2020-09-17\",\"2020-09-18\",\"2020-09-19\",\"2020-09-20\",\"2020-09-21\",\"2020-09-22\",\"2020-09-23\",\"2020-09-24\",\"2020-09-25\",\"2020-09-26\",\"2020-09-27\",\"2020-09-28\",\"2020-09-29\",\"2020-09-30\",\"2020-10-01\",\"2020-10-02\",\"2020-10-03\",\"2020-10-04\",\"2020-10-05\",\"2020-10-06\",\"2020-10-07\",\"2020-10-08\",\"2020-10-09\",\"2020-10-10\",\"2020-10-11\",\"2020-10-12\",\"2020-10-13\",\"2020-10-14\",\"2020-10-15\",\"2020-10-16\",\"2020-10-17\",\"2020-10-18\",\"2020-10-19\",\"2020-10-20\",\"2020-10-21\",\"2020-10-22\",\"2020-10-23\",\"2020-10-24\",\"2020-10-25\",\"2020-10-26\",\"2020-10-27\",\"2020-10-28\",\"2020-10-29\",\"2020-10-30\",\"2020-10-31\"],\"y\":[0.0025425615958906697,0.002962097499750624,0.003455023814204655,0.003957407655797098,0.004468114121271343,0.005245522852048806,0.005927599709271076,0.006604758652381372,0.007267542154241281,0.008016956604689046,0.008621103438290801,0.009205200314359122,0.00997466472234032,0.010888261843910915,0.011608168809686832,0.012297811688619832,0.012948111254657037,0.013607111745661584,0.014307347054989605,0.015026875719679984,0.015879944667564743,0.016608930859393536,0.017263013436286105,0.018085818297327947,0.018499679684904853,0.01906410490452528,0.01982373348428253,0.020656374173548316,0.021454589464030286,0.022135909719081484,0.02272151979949195,0.023109656713252377,0.023533732230138767,0.024302818337034432,0.025088927992779234,0.025728635128421412,0.026324837639226908,0.026847271438352784,0.027181689597967025,0.027513081348896982,0.02801886990025925,0.028625286540374228,0.029246456922825126,0.02978969728165551,0.03020658507791671,0.030485392977957094,0.03237803330889609,0.032875120935291026,0.03341268677783836,0.03383941040232351,0.03424570576818969,0.0346523794351414,0.034875955376693454,0.03506775402706045,0.035281494140388565,0.03576950254073062,0.036139859303470835,0.0365575037019031,0.03689873128105701,0.037146140190997864,0.03740414153133374,0.03773515498117816,0.0380767608614176,0.03842290635468348,0.038728951932882484,0.038981657058020855,0.039149244438913516,0.03930321298072686,0.039603584042642824,0.03989411927633484,0.040172927176375224,0.0404422775492772,0.040697252480928786,0.04081755222612938,0.04094768779955393,0.041213633462686076,0.04146747349108105,0.04169558904565955,0.04191727348178393,0.04212382587448684,0.04222937187735152,0.042357615945348384,0.04259897203792066,0.042850542259802414,0.043707772519628076,0.043920377729699575,0.04409477453013189,0.04420032053299657,0.04432932120316451,0.04452376796113026,0.044757936333077335,0.04499361790936656,0.045214545743319866,0.04532198325161223,0.045430177362075656,0.045561069537671285,0.04587732924517978,0.04615916355390445,0.04650757885368355,0.046782982043954105,0.04703190415823711,0.047192303818504575,0.047340597844034875,0.04765383114285908,0.04797954837750599,0.04830829202083719,0.04861963381423371,0.04891546526312324,0.04907851303098946,0.04926955507918538,0.04963083261587272,0.05002464404591619,0.05038894799128782,0.050744551011692104,0.051050218288805585,0.05121553586318503,0.05153784838806211,0.05197781255054103,0.05239810505657205,0.052800239110497325,0.053256848520739856,0.053578026142360326,0.053725941866805085,0.05390412167809277,0.05429339349510981,0.054744328389069286,0.055140787926711524,0.055539895571952505,0.05589285048475804,0.056053628446111045,0.056254506322530914,0.05664113003194919,0.0571151412921264,0.05744501983871421,0.05788233589359438,0.05820237861195824,0.05837904521890377,0.058519773222723344,0.05892001577122094,0.05933122905119909,0.05973109329861114,0.06006135014628449,0.060344697659351305,0.060509258631559676,0.060656039452747834,0.061029422624172346,0.06138918695651753,0.061730036234585894,0.062017923360679156,0.06228462562598237,0.06241740930700568,0.06258764479549708,0.06289936488997916,0.0632296217376525,0.0635666880048655,0.06384511760382035,0.06405772281389185,0.06418407537646102,0.0642782723467596,0.0644182437484081,0.06477649487641116,0.06504622355039866,0.06539804355994758,0.06561102707110462,0.06573662303150274,0.06586524540058514,0.06621101259276548,0.06651176195576698,0.06676825009176071,0.06703230424946517,0.0672399915454247,0.0673239743864138,0.06743973451858797,0.06770303207412134,0.06801853517945877,0.06830226099361113,0.06857463777519739,0.06879594391023623,0.06887727864362658,0.06897223221609623,0.06922531564232014,0.0695007188325907,0.06974737114036048,0.06997699989928112,0.07016274573227953,0.07026186061669008,0.07039842730856875,0.07060081838933077,0.07085806312749558,0.07113611442536488,0.0713831450342202,0.07155754183465253,0.07169789153738657,0.0717947366152839,0.07203306629917187,0.07228766292973793,0.07253431523750771,0.07277869773876428,0.07296406527067714,0.07310290176906904,0.07322433641752625,0.07347250192963818,0.0737569843459616,0.073989261212481,0.07422645599311238,0.07445419324660534,0.07456390056141092,0.07469592764026316,0.07493766203392095,0.07520852561116508,0.07546577034932989,0.075721123582067,0.07596550608332357]},{\"line\":{\"width\":3},\"marker\":{\"color\":\"tomato\"},\"mode\":\"lines\",\"name\":\"Forecast\",\"type\":\"scatter\",\"x\":[\"2020-10-31\",\"2020-11-01\",\"2020-11-02\",\"2020-11-03\",\"2020-11-04\",\"2020-11-05\",\"2020-11-06\",\"2020-11-07\",\"2020-11-08\",\"2020-11-09\",\"2020-11-10\",\"2020-11-11\",\"2020-11-12\",\"2020-11-13\",\"2020-11-14\",\"2020-11-15\",\"2020-11-16\",\"2020-11-17\",\"2020-11-18\",\"2020-11-19\",\"2020-11-20\",\"2020-11-21\",\"2020-11-22\",\"2020-11-23\",\"2020-11-24\",\"2020-11-25\",\"2020-11-26\",\"2020-11-27\",\"2020-11-28\",\"2020-11-29\",\"2020-11-30\",\"2020-12-01\",\"2020-12-02\",\"2020-12-03\",\"2020-12-04\",\"2020-12-05\",\"2020-12-06\",\"2020-12-07\",\"2020-12-08\",\"2020-12-09\",\"2020-12-10\",\"2020-12-11\",\"2020-12-12\",\"2020-12-13\",\"2020-12-14\",\"2020-12-15\",\"2020-12-16\",\"2020-12-17\",\"2020-12-18\",\"2020-12-19\",\"2020-12-20\",\"2020-12-21\",\"2020-12-22\",\"2020-12-23\",\"2020-12-24\",\"2020-12-25\",\"2020-12-26\",\"2020-12-27\",\"2020-12-28\",\"2020-12-29\",\"2020-12-30\",\"2020-12-31\",\"2021-01-01\",\"2021-01-02\",\"2021-01-03\",\"2021-01-04\",\"2021-01-05\",\"2021-01-06\",\"2021-01-07\",\"2021-01-08\",\"2021-01-09\",\"2021-01-10\",\"2021-01-11\",\"2021-01-12\",\"2021-01-13\"],\"y\":[0.07658201456069946,0.07721758633852005,0.07787303626537323,0.07854919880628586,0.07924699038267136,0.07996734976768494,0.08071129024028778,0.08147986978292465,0.08227421343326569,0.08309552073478699,0.08394505828619003,0.08482417464256287,0.0857343077659607,0.08667696267366409,0.0876537635922432,0.08866643905639648,0.0897168219089508,0.09080687910318375,0.09193870425224304,0.09311451762914658,0.09433674067258835,0.0956079289317131,0.0969308391213417,0.09830844402313232,0.09974389523267746,0.1012406125664711,0.10280228406190872,0.10443287342786789,0.10613665729761124,0.10791827738285065,0.10978273302316666,0.11173544079065323,0.11378231644630432,0.1159297302365303,0.1181846484541893,0.12055464833974838,0.12304798513650894,0.12567369639873505,0.12844163179397583,0.13136261701583862,0.13444849848747253,0.1377122849225998,0.14116829633712769,0.1448323130607605,0.14872175455093384,0.15285584330558777,0.15725582838058472,0.16194526851177216,0.16695024073123932,0.17229975759983063,0.17802594602108002,0.1841646134853363,0.19075548648834229,0.1978427767753601,0.20547564327716827,0.21370868384838104,0.22260239720344543,0.2322237491607666,0.2426465004682541,0.2539515495300293,0.2662270963191986,0.27956822514533997,0.29407623410224915,0.3098573088645935,0.32701992988586426,0.345671147108078,0.3659113645553589,0.3878268003463745,0.4114797115325928,0.43689683079719543,0.46405544877052307,0.49286916851997375,0.5231742858886719,0.5547201037406921,0.5871659517288208]}],                        {\"hovermode\":\"x\",\"legend\":{\"bgcolor\":\"rgba(0,0,0,0)\"},\"margin\":{\"b\":50,\"l\":60,\"r\":10,\"t\":20},\"template\":{\"data\":{\"bar\":[{\"error_x\":{\"color\":\"#2a3f5f\"},\"error_y\":{\"color\":\"#2a3f5f\"},\"marker\":{\"line\":{\"color\":\"#E5ECF6\",\"width\":0.5},\"pattern\":{\"fillmode\":\"overlay\",\"size\":10,\"solidity\":0.2}},\"type\":\"bar\"}],\"barpolar\":[{\"marker\":{\"line\":{\"color\":\"#E5ECF6\",\"width\":0.5},\"pattern\":{\"fillmode\":\"overlay\",\"size\":10,\"solidity\":0.2}},\"type\":\"barpolar\"}],\"carpet\":[{\"aaxis\":{\"endlinecolor\":\"#2a3f5f\",\"gridcolor\":\"white\",\"linecolor\":\"white\",\"minorgridcolor\":\"white\",\"startlinecolor\":\"#2a3f5f\"},\"baxis\":{\"endlinecolor\":\"#2a3f5f\",\"gridcolor\":\"white\",\"linecolor\":\"white\",\"minorgridcolor\":\"white\",\"startlinecolor\":\"#2a3f5f\"},\"type\":\"carpet\"}],\"choropleth\":[{\"colorbar\":{\"outlinewidth\":0,\"ticks\":\"\"},\"type\":\"choropleth\"}],\"contour\":[{\"colorbar\":{\"outlinewidth\":0,\"ticks\":\"\"},\"colorscale\":[[0.0,\"#0d0887\"],[0.1111111111111111,\"#46039f\"],[0.2222222222222222,\"#7201a8\"],[0.3333333333333333,\"#9c179e\"],[0.4444444444444444,\"#bd3786\"],[0.5555555555555556,\"#d8576b\"],[0.6666666666666666,\"#ed7953\"],[0.7777777777777778,\"#fb9f3a\"],[0.8888888888888888,\"#fdca26\"],[1.0,\"#f0f921\"]],\"type\":\"contour\"}],\"contourcarpet\":[{\"colorbar\":{\"outlinewidth\":0,\"ticks\":\"\"},\"type\":\"contourcarpet\"}],\"heatmap\":[{\"colorbar\":{\"outlinewidth\":0,\"ticks\":\"\"},\"colorscale\":[[0.0,\"#0d0887\"],[0.1111111111111111,\"#46039f\"],[0.2222222222222222,\"#7201a8\"],[0.3333333333333333,\"#9c179e\"],[0.4444444444444444,\"#bd3786\"],[0.5555555555555556,\"#d8576b\"],[0.6666666666666666,\"#ed7953\"],[0.7777777777777778,\"#fb9f3a\"],[0.8888888888888888,\"#fdca26\"],[1.0,\"#f0f921\"]],\"type\":\"heatmap\"}],\"heatmapgl\":[{\"colorbar\":{\"outlinewidth\":0,\"ticks\":\"\"},\"colorscale\":[[0.0,\"#0d0887\"],[0.1111111111111111,\"#46039f\"],[0.2222222222222222,\"#7201a8\"],[0.3333333333333333,\"#9c179e\"],[0.4444444444444444,\"#bd3786\"],[0.5555555555555556,\"#d8576b\"],[0.6666666666666666,\"#ed7953\"],[0.7777777777777778,\"#fb9f3a\"],[0.8888888888888888,\"#fdca26\"],[1.0,\"#f0f921\"]],\"type\":\"heatmapgl\"}],\"histogram\":[{\"marker\":{\"pattern\":{\"fillmode\":\"overlay\",\"size\":10,\"solidity\":0.2}},\"type\":\"histogram\"}],\"histogram2d\":[{\"colorbar\":{\"outlinewidth\":0,\"ticks\":\"\"},\"colorscale\":[[0.0,\"#0d0887\"],[0.1111111111111111,\"#46039f\"],[0.2222222222222222,\"#7201a8\"],[0.3333333333333333,\"#9c179e\"],[0.4444444444444444,\"#bd3786\"],[0.5555555555555556,\"#d8576b\"],[0.6666666666666666,\"#ed7953\"],[0.7777777777777778,\"#fb9f3a\"],[0.8888888888888888,\"#fdca26\"],[1.0,\"#f0f921\"]],\"type\":\"histogram2d\"}],\"histogram2dcontour\":[{\"colorbar\":{\"outlinewidth\":0,\"ticks\":\"\"},\"colorscale\":[[0.0,\"#0d0887\"],[0.1111111111111111,\"#46039f\"],[0.2222222222222222,\"#7201a8\"],[0.3333333333333333,\"#9c179e\"],[0.4444444444444444,\"#bd3786\"],[0.5555555555555556,\"#d8576b\"],[0.6666666666666666,\"#ed7953\"],[0.7777777777777778,\"#fb9f3a\"],[0.8888888888888888,\"#fdca26\"],[1.0,\"#f0f921\"]],\"type\":\"histogram2dcontour\"}],\"mesh3d\":[{\"colorbar\":{\"outlinewidth\":0,\"ticks\":\"\"},\"type\":\"mesh3d\"}],\"parcoords\":[{\"line\":{\"colorbar\":{\"outlinewidth\":0,\"ticks\":\"\"}},\"type\":\"parcoords\"}],\"pie\":[{\"automargin\":true,\"type\":\"pie\"}],\"scatter\":[{\"marker\":{\"colorbar\":{\"outlinewidth\":0,\"ticks\":\"\"}},\"type\":\"scatter\"}],\"scatter3d\":[{\"line\":{\"colorbar\":{\"outlinewidth\":0,\"ticks\":\"\"}},\"marker\":{\"colorbar\":{\"outlinewidth\":0,\"ticks\":\"\"}},\"type\":\"scatter3d\"}],\"scattercarpet\":[{\"marker\":{\"colorbar\":{\"outlinewidth\":0,\"ticks\":\"\"}},\"type\":\"scattercarpet\"}],\"scattergeo\":[{\"marker\":{\"colorbar\":{\"outlinewidth\":0,\"ticks\":\"\"}},\"type\":\"scattergeo\"}],\"scattergl\":[{\"marker\":{\"colorbar\":{\"outlinewidth\":0,\"ticks\":\"\"}},\"type\":\"scattergl\"}],\"scattermapbox\":[{\"marker\":{\"colorbar\":{\"outlinewidth\":0,\"ticks\":\"\"}},\"type\":\"scattermapbox\"}],\"scatterpolar\":[{\"marker\":{\"colorbar\":{\"outlinewidth\":0,\"ticks\":\"\"}},\"type\":\"scatterpolar\"}],\"scatterpolargl\":[{\"marker\":{\"colorbar\":{\"outlinewidth\":0,\"ticks\":\"\"}},\"type\":\"scatterpolargl\"}],\"scatterternary\":[{\"marker\":{\"colorbar\":{\"outlinewidth\":0,\"ticks\":\"\"}},\"type\":\"scatterternary\"}],\"surface\":[{\"colorbar\":{\"outlinewidth\":0,\"ticks\":\"\"},\"colorscale\":[[0.0,\"#0d0887\"],[0.1111111111111111,\"#46039f\"],[0.2222222222222222,\"#7201a8\"],[0.3333333333333333,\"#9c179e\"],[0.4444444444444444,\"#bd3786\"],[0.5555555555555556,\"#d8576b\"],[0.6666666666666666,\"#ed7953\"],[0.7777777777777778,\"#fb9f3a\"],[0.8888888888888888,\"#fdca26\"],[1.0,\"#f0f921\"]],\"type\":\"surface\"}],\"table\":[{\"cells\":{\"fill\":{\"color\":\"#EBF0F8\"},\"line\":{\"color\":\"white\"}},\"header\":{\"fill\":{\"color\":\"#C8D4E3\"},\"line\":{\"color\":\"white\"}},\"type\":\"table\"}]},\"layout\":{\"annotationdefaults\":{\"arrowcolor\":\"#2a3f5f\",\"arrowhead\":0,\"arrowwidth\":1},\"autotypenumbers\":\"strict\",\"coloraxis\":{\"colorbar\":{\"outlinewidth\":0,\"ticks\":\"\"}},\"colorscale\":{\"diverging\":[[0,\"#8e0152\"],[0.1,\"#c51b7d\"],[0.2,\"#de77ae\"],[0.3,\"#f1b6da\"],[0.4,\"#fde0ef\"],[0.5,\"#f7f7f7\"],[0.6,\"#e6f5d0\"],[0.7,\"#b8e186\"],[0.8,\"#7fbc41\"],[0.9,\"#4d9221\"],[1,\"#276419\"]],\"sequential\":[[0.0,\"#0d0887\"],[0.1111111111111111,\"#46039f\"],[0.2222222222222222,\"#7201a8\"],[0.3333333333333333,\"#9c179e\"],[0.4444444444444444,\"#bd3786\"],[0.5555555555555556,\"#d8576b\"],[0.6666666666666666,\"#ed7953\"],[0.7777777777777778,\"#fb9f3a\"],[0.8888888888888888,\"#fdca26\"],[1.0,\"#f0f921\"]],\"sequentialminus\":[[0.0,\"#0d0887\"],[0.1111111111111111,\"#46039f\"],[0.2222222222222222,\"#7201a8\"],[0.3333333333333333,\"#9c179e\"],[0.4444444444444444,\"#bd3786\"],[0.5555555555555556,\"#d8576b\"],[0.6666666666666666,\"#ed7953\"],[0.7777777777777778,\"#fb9f3a\"],[0.8888888888888888,\"#fdca26\"],[1.0,\"#f0f921\"]]},\"colorway\":[\"#636efa\",\"#EF553B\",\"#00cc96\",\"#ab63fa\",\"#FFA15A\",\"#19d3f3\",\"#FF6692\",\"#B6E880\",\"#FF97FF\",\"#FECB52\"],\"font\":{\"color\":\"#2a3f5f\"},\"geo\":{\"bgcolor\":\"white\",\"lakecolor\":\"white\",\"landcolor\":\"#E5ECF6\",\"showlakes\":true,\"showland\":true,\"subunitcolor\":\"white\"},\"hoverlabel\":{\"align\":\"left\"},\"hovermode\":\"closest\",\"mapbox\":{\"style\":\"light\"},\"paper_bgcolor\":\"white\",\"plot_bgcolor\":\"#E5ECF6\",\"polar\":{\"angularaxis\":{\"gridcolor\":\"white\",\"linecolor\":\"white\",\"ticks\":\"\"},\"bgcolor\":\"#E5ECF6\",\"radialaxis\":{\"gridcolor\":\"white\",\"linecolor\":\"white\",\"ticks\":\"\"}},\"scene\":{\"xaxis\":{\"backgroundcolor\":\"#E5ECF6\",\"gridcolor\":\"white\",\"gridwidth\":2,\"linecolor\":\"white\",\"showbackground\":true,\"ticks\":\"\",\"zerolinecolor\":\"white\"},\"yaxis\":{\"backgroundcolor\":\"#E5ECF6\",\"gridcolor\":\"white\",\"gridwidth\":2,\"linecolor\":\"white\",\"showbackground\":true,\"ticks\":\"\",\"zerolinecolor\":\"white\"},\"zaxis\":{\"backgroundcolor\":\"#E5ECF6\",\"gridcolor\":\"white\",\"gridwidth\":2,\"linecolor\":\"white\",\"showbackground\":true,\"ticks\":\"\",\"zerolinecolor\":\"white\"}},\"shapedefaults\":{\"line\":{\"color\":\"#2a3f5f\"}},\"ternary\":{\"aaxis\":{\"gridcolor\":\"white\",\"linecolor\":\"white\",\"ticks\":\"\"},\"baxis\":{\"gridcolor\":\"white\",\"linecolor\":\"white\",\"ticks\":\"\"},\"bgcolor\":\"#E5ECF6\",\"caxis\":{\"gridcolor\":\"white\",\"linecolor\":\"white\",\"ticks\":\"\"}},\"title\":{\"x\":0.05},\"xaxis\":{\"automargin\":true,\"gridcolor\":\"white\",\"linecolor\":\"white\",\"ticks\":\"\",\"title\":{\"standoff\":15},\"zerolinecolor\":\"white\",\"zerolinewidth\":2},\"yaxis\":{\"automargin\":true,\"gridcolor\":\"white\",\"linecolor\":\"white\",\"ticks\":\"\",\"title\":{\"standoff\":15},\"zerolinecolor\":\"white\",\"zerolinewidth\":2}}},\"xaxis\":{\"title\":{\"text\":\"Date\"}},\"yaxis\":{\"title\":{\"text\":\"Death Percentage by Covid\"}}},                        {\"responsive\": true}                    ).then(function(){\n",
       "                            \n",
       "var gd = document.getElementById('faf2a08a-2f67-4e9b-964f-1559e04a93b1');\n",
       "var x = new MutationObserver(function (mutations, observer) {{\n",
       "        var display = window.getComputedStyle(gd).display;\n",
       "        if (!display || display === 'none') {{\n",
       "            console.log([gd, 'removed!']);\n",
       "            Plotly.purge(gd);\n",
       "            observer.disconnect();\n",
       "        }}\n",
       "}});\n",
       "\n",
       "// Listen for the removal of the full notebook cells\n",
       "var notebookContainer = gd.closest('#notebook-container');\n",
       "if (notebookContainer) {{\n",
       "    x.observe(notebookContainer, {childList: true});\n",
       "}}\n",
       "\n",
       "// Listen for the clearing of the current output cell\n",
       "var outputEl = gd.closest('.output');\n",
       "if (outputEl) {{\n",
       "    x.observe(outputEl, {childList: true});\n",
       "}}\n",
       "\n",
       "                        })                };                });            </script>        </div>"
      ]
     },
     "metadata": {},
     "output_type": "display_data"
    }
   ],
   "source": [
    "#### Plotting Forecasting for the following 75 days after Oct 31 2020\n",
    "\n",
    "future = 75\n",
    "dates = [(datetime.strptime('2020-10-31', '%Y-%m-%d').date()+dt.timedelta(days=x)).strftime('%Y-%m-%d') for x in range(future)]\n",
    "predicts = []\n",
    "initial = vl_high.loc[vl_high.shape[0]-1,:]['death_percent']\n",
    "for i in range(0,future):\n",
    "    if i == 0:\n",
    "        pred = model.predict(np.array([[[initial]]]))[0][0]\n",
    "    else:\n",
    "        pred = model.predict(np.array([[[predicts[i-1]]]]))[0][0]\n",
    "    \n",
    "    predicts.append(pred)\n",
    "    \n",
    "forecast = vl_high[['date','death_percent']].append(pd.DataFrame({'date':dates, 'death_percent':predicts})).reset_index(drop=True)\n",
    "forecast1 = forecast.loc[0:vl_high.shape[0]-1,:]\n",
    "forecast2 = forecast.loc[vl_high.shape[0]:forecast.shape[0]-1,:]\n",
    "\n",
    "import plotly.graph_objs as go\n",
    "\n",
    "yreal = go.Scatter(\n",
    "  x = forecast1['date'],\n",
    "  y = forecast1['death_percent'],\n",
    "  mode = 'lines',\n",
    "  marker = {\n",
    "    'color': 'firebrick'\n",
    "  },\n",
    "  line = {\n",
    "    'width': 3\n",
    "  },\n",
    "  name = 'Real',\n",
    ")\n",
    "\n",
    "yhat = go.Scatter(\n",
    "  x = forecast2['date'],\n",
    "  y = forecast2['death_percent'],\n",
    "  mode = 'lines',\n",
    "  marker = {\n",
    "    'color': 'tomato'\n",
    "  },\n",
    "  line = {\n",
    "    'width': 3\n",
    "  },\n",
    "  name = 'Forecast',\n",
    ")\n",
    "\n",
    "layout = go.Layout(\n",
    "  yaxis = {\n",
    "    'title': 'Death Percentage by Covid'\n",
    "  },\n",
    "  hovermode = 'x',\n",
    "  xaxis = {\n",
    "    'title': 'Date'\n",
    "  },\n",
    "  margin = {\n",
    "    't': 20,\n",
    "    'b': 50,\n",
    "    'l': 60,\n",
    "    'r': 10\n",
    "  },\n",
    "  legend = {\n",
    "    'bgcolor': 'rgba(0,0,0,0)'\n",
    "  }\n",
    ")\n",
    "data = [yreal,yhat]\n",
    "\n",
    "fig = go.Figure(data=data, layout=layout)\n",
    "fig.show()"
   ]
  },
  {
   "cell_type": "markdown",
   "id": "9f061181",
   "metadata": {},
   "source": [
    "### Medium Vulnerability Level"
   ]
  },
  {
   "cell_type": "code",
   "execution_count": 131,
   "id": "17267574",
   "metadata": {},
   "outputs": [
    {
     "name": "stdout",
     "output_type": "stream",
     "text": [
      "Epoch 1/50\n",
      "168/168 [==============================] - 1s 633us/step - loss: 1.2892e-04\n",
      "Epoch 2/50\n",
      "168/168 [==============================] - 0s 633us/step - loss: 1.1030e-04\n",
      "Epoch 3/50\n",
      "168/168 [==============================] - 0s 615us/step - loss: 9.9151e-05\n",
      "Epoch 4/50\n",
      "168/168 [==============================] - 0s 639us/step - loss: 9.0836e-05\n",
      "Epoch 5/50\n",
      "168/168 [==============================] - 0s 621us/step - loss: 9.1465e-05\n",
      "Epoch 6/50\n",
      "168/168 [==============================] - 0s 621us/step - loss: 7.9595e-05\n",
      "Epoch 7/50\n",
      "168/168 [==============================] - 0s 627us/step - loss: 7.8497e-05\n",
      "Epoch 8/50\n",
      "168/168 [==============================] - 0s 621us/step - loss: 6.8251e-05\n",
      "Epoch 9/50\n",
      "168/168 [==============================] - 0s 621us/step - loss: 5.8367e-05\n",
      "Epoch 10/50\n",
      "168/168 [==============================] - 0s 635us/step - loss: 4.2087e-05\n",
      "Epoch 11/50\n",
      "168/168 [==============================] - 0s 621us/step - loss: 2.4570e-05\n",
      "Epoch 12/50\n",
      "168/168 [==============================] - 0s 615us/step - loss: 1.2558e-05\n",
      "Epoch 13/50\n",
      "168/168 [==============================] - 0s 630us/step - loss: 5.3996e-06\n",
      "Epoch 14/50\n",
      "168/168 [==============================] - 0s 626us/step - loss: 1.0096e-06\n",
      "Epoch 15/50\n",
      "168/168 [==============================] - 0s 621us/step - loss: 2.0484e-07\n",
      "Epoch 16/50\n",
      "168/168 [==============================] - 0s 621us/step - loss: 2.6167e-08\n",
      "Epoch 17/50\n",
      "168/168 [==============================] - 0s 609us/step - loss: 1.1209e-08\n",
      "Epoch 18/50\n",
      "168/168 [==============================] - 0s 627us/step - loss: 1.0585e-08\n",
      "Epoch 19/50\n",
      "168/168 [==============================] - 0s 621us/step - loss: 9.5771e-09\n",
      "Epoch 20/50\n",
      "168/168 [==============================] - 0s 615us/step - loss: 1.1977e-08\n",
      "Epoch 21/50\n",
      "168/168 [==============================] - 0s 633us/step - loss: 1.0185e-08\n",
      "Epoch 22/50\n",
      "168/168 [==============================] - 0s 627us/step - loss: 1.2420e-08\n",
      "Epoch 23/50\n",
      "168/168 [==============================] - 0s 615us/step - loss: 1.2940e-08\n",
      "Epoch 24/50\n",
      "168/168 [==============================] - 0s 626us/step - loss: 1.5453e-08\n",
      "Epoch 25/50\n",
      "168/168 [==============================] - 0s 626us/step - loss: 1.7310e-08\n",
      "Epoch 26/50\n",
      "168/168 [==============================] - 0s 615us/step - loss: 1.2070e-08\n",
      "Epoch 27/50\n",
      "168/168 [==============================] - 0s 632us/step - loss: 1.5920e-08\n",
      "Epoch 28/50\n",
      "168/168 [==============================] - 0s 620us/step - loss: 1.7351e-08\n",
      "Epoch 29/50\n",
      "168/168 [==============================] - 0s 627us/step - loss: 1.6789e-08\n",
      "Epoch 30/50\n",
      "168/168 [==============================] - 0s 621us/step - loss: 1.9058e-08\n",
      "Epoch 31/50\n",
      "168/168 [==============================] - 0s 627us/step - loss: 1.7358e-08\n",
      "Epoch 32/50\n",
      "168/168 [==============================] - 0s 627us/step - loss: 2.0217e-08\n",
      "Epoch 33/50\n",
      "168/168 [==============================] - 0s 621us/step - loss: 2.2385e-08\n",
      "Epoch 34/50\n",
      "168/168 [==============================] - 0s 621us/step - loss: 3.1998e-08\n",
      "Epoch 35/50\n",
      "168/168 [==============================] - 0s 633us/step - loss: 2.0996e-08\n",
      "Epoch 36/50\n",
      "168/168 [==============================] - 0s 621us/step - loss: 2.2243e-08\n",
      "Epoch 37/50\n",
      "168/168 [==============================] - 0s 621us/step - loss: 2.2408e-08\n",
      "Epoch 38/50\n",
      "168/168 [==============================] - 0s 621us/step - loss: 2.5773e-08\n",
      "Epoch 39/50\n",
      "168/168 [==============================] - 0s 619us/step - loss: 3.0109e-08\n",
      "Epoch 40/50\n",
      "168/168 [==============================] - 0s 626us/step - loss: 3.1265e-08\n",
      "Epoch 41/50\n",
      "168/168 [==============================] - 0s 631us/step - loss: 3.7609e-08\n",
      "Epoch 42/50\n",
      "168/168 [==============================] - 0s 613us/step - loss: 4.9387e-08\n",
      "Epoch 43/50\n",
      "168/168 [==============================] - 0s 638us/step - loss: 2.9286e-08\n",
      "Epoch 44/50\n",
      "168/168 [==============================] - 0s 634us/step - loss: 2.2472e-08\n",
      "Epoch 45/50\n",
      "168/168 [==============================] - 0s 615us/step - loss: 2.4837e-08\n",
      "Epoch 46/50\n",
      "168/168 [==============================] - 0s 615us/step - loss: 3.3987e-08\n",
      "Epoch 47/50\n",
      "168/168 [==============================] - 0s 645us/step - loss: 4.7417e-08\n",
      "Epoch 48/50\n",
      "168/168 [==============================] - 0s 621us/step - loss: 5.0674e-08\n",
      "Epoch 49/50\n",
      "168/168 [==============================] - 0s 621us/step - loss: 4.8722e-08\n",
      "Epoch 50/50\n",
      "168/168 [==============================] - 0s 615us/step - loss: 3.8529e-08\n",
      "Train Score: 0.0001271971 RMSE\n",
      "Test Score: 0.0001126088 RMSE\n",
      "Train Score: 0.1039829188 MAPE\n",
      "Test Score: 0.0467934843 MAPE\n"
     ]
    }
   ],
   "source": [
    "vl_med = cov_agg3[cov_agg3.VULNERA_LEVEL==\"MEDIUM\"]\n",
    "vl_med.reset_index(drop=True,inplace=True)\n",
    "\n",
    "dataset = vl_med.death_percent\n",
    "dataset = dataset.astype('float32')\n",
    "dataset = np.array(dataset).reshape(-1, 1)\n",
    "\n",
    "train_size = int(len(dataset) * 0.8)\n",
    "test_size = len(dataset) - train_size\n",
    "train, test = dataset[0:train_size], dataset[train_size:len(dataset)]\n",
    "\n",
    "look_back = 1\n",
    "trainX, trainY = create_dataset(train, look_back)\n",
    "testX, testY = create_dataset(test, look_back)\n",
    "\n",
    "trainX = numpy.reshape(trainX, (trainX.shape[0], 1, trainX.shape[1]))\n",
    "testX = numpy.reshape(testX, (testX.shape[0], 1, testX.shape[1]))\n",
    "\n",
    "model2 = Sequential()\n",
    "model2.add(LSTM(3, input_shape=(1, look_back)))\n",
    "model2.add(Dense(1))\n",
    "model2.compile(loss='mean_squared_error', optimizer='adam')\n",
    "model2.fit(trainX, trainY, epochs=50, batch_size=1, verbose=1)\n",
    "\n",
    "trainPredict = model2.predict(trainX)\n",
    "testPredict = model2.predict(testX)\n",
    "\n",
    "trainScore = math.sqrt(mean_squared_error(trainY, trainPredict[:,0]))\n",
    "print('Train Score: %.10f RMSE' % (trainScore))\n",
    "testScore = math.sqrt(mean_squared_error(testY, testPredict[:,0]))\n",
    "print('Test Score: %.10f RMSE' % (testScore))\n",
    "\n",
    "trainScore = math.sqrt(mean_absolute_percentage_error(trainY, trainPredict[:,0]))\n",
    "print('Train Score: %.10f MAPE' % (trainScore))\n",
    "testScore = math.sqrt(mean_absolute_percentage_error(testY, testPredict[:,0]))\n",
    "print('Test Score: %.10f MAPE' % (testScore))\n",
    "\n",
    "future = 75\n",
    "dates = [(datetime.strptime('2020-10-31', '%Y-%m-%d').date()+dt.timedelta(days=x)).strftime('%Y-%m-%d') for x in range(future)]\n",
    "predicts = []\n",
    "initial = vl_med.loc[vl_med.shape[0]-1,:]['death_percent']\n",
    "for i in range(0,future):\n",
    "    if i == 0:\n",
    "        pred = model2.predict(np.array([[[initial]]]))[0][0]\n",
    "    else:\n",
    "        pred = model2.predict(np.array([[[predicts[i-1]]]]))[0][0]\n",
    "    \n",
    "    predicts.append(pred)\n",
    "    \n",
    "forecast = vl_med[['date','death_percent']].append(pd.DataFrame({'date':dates, 'death_percent':predicts})).reset_index(drop=True)\n",
    "forecast3 = forecast.loc[0:vl_med.shape[0]-1,:]\n",
    "forecast4 = forecast.loc[vl_med.shape[0]:forecast.shape[0]-1,:]\n"
   ]
  },
  {
   "cell_type": "markdown",
   "id": "a07b9f1d",
   "metadata": {},
   "source": [
    "### Low Vulnerability Level"
   ]
  },
  {
   "cell_type": "code",
   "execution_count": 138,
   "id": "d4b08b73",
   "metadata": {},
   "outputs": [
    {
     "name": "stdout",
     "output_type": "stream",
     "text": [
      "Epoch 1/40\n",
      "168/168 [==============================] - 1s 657us/step - loss: 6.0077e-05\n",
      "Epoch 2/40\n",
      "168/168 [==============================] - 0s 651us/step - loss: 4.3291e-05\n",
      "Epoch 3/40\n",
      "168/168 [==============================] - 0s 645us/step - loss: 3.5543e-05\n",
      "Epoch 4/40\n",
      "168/168 [==============================] - 0s 651us/step - loss: 3.0573e-05\n",
      "Epoch 5/40\n",
      "168/168 [==============================] - 0s 651us/step - loss: 2.4017e-05\n",
      "Epoch 6/40\n",
      "168/168 [==============================] - 0s 645us/step - loss: 1.8155e-05\n",
      "Epoch 7/40\n",
      "168/168 [==============================] - 0s 651us/step - loss: 1.3249e-05\n",
      "Epoch 8/40\n",
      "168/168 [==============================] - 0s 645us/step - loss: 4.9287e-06\n",
      "Epoch 9/40\n",
      "168/168 [==============================] - 0s 639us/step - loss: 1.7379e-06\n",
      "Epoch 10/40\n",
      "168/168 [==============================] - 0s 645us/step - loss: 3.8609e-07\n",
      "Epoch 11/40\n",
      "168/168 [==============================] - 0s 645us/step - loss: 7.2693e-08\n",
      "Epoch 12/40\n",
      "168/168 [==============================] - 0s 651us/step - loss: 1.5771e-08\n",
      "Epoch 13/40\n",
      "168/168 [==============================] - 0s 655us/step - loss: 9.3497e-09\n",
      "Epoch 14/40\n",
      "168/168 [==============================] - 0s 650us/step - loss: 1.0652e-08\n",
      "Epoch 15/40\n",
      "168/168 [==============================] - 0s 639us/step - loss: 1.0295e-08\n",
      "Epoch 16/40\n",
      "168/168 [==============================] - 0s 711us/step - loss: 1.4395e-08\n",
      "Epoch 17/40\n",
      "168/168 [==============================] - 0s 687us/step - loss: 1.1309e-08\n",
      "Epoch 18/40\n",
      "168/168 [==============================] - 0s 717us/step - loss: 1.2631e-08\n",
      "Epoch 19/40\n",
      "168/168 [==============================] - 0s 663us/step - loss: 1.2558e-08\n",
      "Epoch 20/40\n",
      "168/168 [==============================] - 0s 741us/step - loss: 1.4712e-08\n",
      "Epoch 21/40\n",
      "168/168 [==============================] - 0s 812us/step - loss: 1.6367e-08\n",
      "Epoch 22/40\n",
      "168/168 [==============================] - 0s 705us/step - loss: 2.4370e-08\n",
      "Epoch 23/40\n",
      "168/168 [==============================] - 0s 735us/step - loss: 1.7025e-08\n",
      "Epoch 24/40\n",
      "168/168 [==============================] - 0s 693us/step - loss: 1.4775e-08\n",
      "Epoch 25/40\n",
      "168/168 [==============================] - 0s 782us/step - loss: 2.2801e-08\n",
      "Epoch 26/40\n",
      "168/168 [==============================] - 0s 645us/step - loss: 1.9137e-08\n",
      "Epoch 27/40\n",
      "168/168 [==============================] - 0s 645us/step - loss: 2.4402e-08\n",
      "Epoch 28/40\n",
      "168/168 [==============================] - 0s 651us/step - loss: 2.1329e-08\n",
      "Epoch 29/40\n",
      "168/168 [==============================] - 0s 636us/step - loss: 2.8761e-08\n",
      "Epoch 30/40\n",
      "168/168 [==============================] - 0s 651us/step - loss: 2.7574e-08\n",
      "Epoch 31/40\n",
      "168/168 [==============================] - 0s 643us/step - loss: 3.3429e-08\n",
      "Epoch 32/40\n",
      "168/168 [==============================] - 0s 645us/step - loss: 3.6972e-08\n",
      "Epoch 33/40\n",
      "168/168 [==============================] - 0s 659us/step - loss: 2.4217e-08\n",
      "Epoch 34/40\n",
      "168/168 [==============================] - 0s 639us/step - loss: 4.5058e-08\n",
      "Epoch 35/40\n",
      "168/168 [==============================] - 0s 637us/step - loss: 3.2386e-08\n",
      "Epoch 36/40\n",
      "168/168 [==============================] - 0s 651us/step - loss: 5.3339e-08\n",
      "Epoch 37/40\n",
      "168/168 [==============================] - 0s 645us/step - loss: 4.5078e-08\n",
      "Epoch 38/40\n",
      "168/168 [==============================] - 0s 639us/step - loss: 8.6404e-08\n",
      "Epoch 39/40\n",
      "168/168 [==============================] - 0s 657us/step - loss: 4.1933e-08\n",
      "Epoch 40/40\n",
      "168/168 [==============================] - 0s 657us/step - loss: 2.8326e-08\n",
      "Train Score: 0.0001154591 RMSE\n",
      "Test Score: 0.0003469368 RMSE\n",
      "Train Score: 0.1007051178 MAPE\n",
      "Test Score: 0.0960072919 MAPE\n"
     ]
    }
   ],
   "source": [
    "\n",
    "\n",
    "vl_low = cov_agg3[cov_agg3.VULNERA_LEVEL==\"LOW\"]\n",
    "vl_low.reset_index(drop=True,inplace=True)\n",
    "\n",
    "dataset = vl_low.death_percent\n",
    "dataset = dataset.astype('float32')\n",
    "dataset = np.array(dataset).reshape(-1, 1)\n",
    "\n",
    "train_size = int(len(dataset) * 0.8)\n",
    "test_size = len(dataset) - train_size\n",
    "train, test = dataset[0:train_size], dataset[train_size:len(dataset)]\n",
    "\n",
    "look_back = 1\n",
    "trainX, trainY = create_dataset(train, look_back)\n",
    "testX, testY = create_dataset(test, look_back)\n",
    "\n",
    "trainX = numpy.reshape(trainX, (trainX.shape[0], 1, trainX.shape[1]))\n",
    "testX = numpy.reshape(testX, (testX.shape[0], 1, testX.shape[1]))\n",
    "\n",
    "model3 = Sequential()\n",
    "model3.add(LSTM(9, input_shape=(1, look_back)))\n",
    "model3.add(Dense(1))\n",
    "model3.compile(loss='mean_squared_error', optimizer='adam')\n",
    "model3.fit(trainX, trainY, epochs=40, batch_size=1, verbose=1)\n",
    "\n",
    "trainPredict = model3.predict(trainX)\n",
    "testPredict = model3.predict(testX)\n",
    "\n",
    "trainScore = math.sqrt(mean_squared_error(trainY, trainPredict[:,0]))\n",
    "print('Train Score: %.10f RMSE' % (trainScore))\n",
    "testScore = math.sqrt(mean_squared_error(testY, testPredict[:,0]))\n",
    "print('Test Score: %.10f RMSE' % (testScore))\n",
    "\n",
    "trainScore = math.sqrt(mean_absolute_percentage_error(trainY, trainPredict[:,0]))\n",
    "print('Train Score: %.10f MAPE' % (trainScore))\n",
    "testScore = math.sqrt(mean_absolute_percentage_error(testY, testPredict[:,0]))\n",
    "print('Test Score: %.10f MAPE' % (testScore))\n",
    "\n",
    "future = 75\n",
    "dates = [(datetime.strptime('2020-10-31', '%Y-%m-%d').date()+dt.timedelta(days=x)).strftime('%Y-%m-%d') for x in range(future)]\n",
    "predicts = []\n",
    "initial = vl_low.loc[vl_low.shape[0]-1,:]['death_percent']\n",
    "for i in range(0,future):\n",
    "    if i == 0:\n",
    "        pred = model3.predict(np.array([[[initial]]]))[0][0]\n",
    "    else:\n",
    "        pred = model3.predict(np.array([[[predicts[i-1]]]]))[0][0]\n",
    "    \n",
    "    predicts.append(pred)\n",
    "    \n",
    "forecast = vl_low[['date','death_percent']].append(pd.DataFrame({'date':dates, 'death_percent':predicts})).reset_index(drop=True)\n",
    "forecast5 = forecast.loc[0:vl_low.shape[0]-1,:]\n",
    "forecast6 = forecast.loc[vl_low.shape[0]:forecast.shape[0]-1,:]\n",
    "\n"
   ]
  },
  {
   "cell_type": "code",
   "execution_count": 139,
   "id": "f4f1541b",
   "metadata": {},
   "outputs": [
    {
     "data": {
      "application/vnd.plotly.v1+json": {
       "config": {
        "plotlyServerURL": "https://plot.ly"
       },
       "data": [
        {
         "line": {
          "width": 3
         },
         "marker": {
          "color": "firebrick"
         },
         "mode": "lines",
         "name": "Real",
         "type": "scatter",
         "x": [
          "2020-04-02",
          "2020-04-03",
          "2020-04-04",
          "2020-04-05",
          "2020-04-06",
          "2020-04-07",
          "2020-04-08",
          "2020-04-09",
          "2020-04-10",
          "2020-04-11",
          "2020-04-12",
          "2020-04-13",
          "2020-04-14",
          "2020-04-15",
          "2020-04-16",
          "2020-04-17",
          "2020-04-18",
          "2020-04-19",
          "2020-04-20",
          "2020-04-21",
          "2020-04-22",
          "2020-04-23",
          "2020-04-24",
          "2020-04-25",
          "2020-04-26",
          "2020-04-27",
          "2020-04-28",
          "2020-04-29",
          "2020-04-30",
          "2020-05-01",
          "2020-05-02",
          "2020-05-03",
          "2020-05-04",
          "2020-05-05",
          "2020-05-06",
          "2020-05-07",
          "2020-05-08",
          "2020-05-09",
          "2020-05-10",
          "2020-05-11",
          "2020-05-12",
          "2020-05-13",
          "2020-05-14",
          "2020-05-15",
          "2020-05-16",
          "2020-05-17",
          "2020-05-18",
          "2020-05-19",
          "2020-05-20",
          "2020-05-21",
          "2020-05-22",
          "2020-05-23",
          "2020-05-24",
          "2020-05-25",
          "2020-05-26",
          "2020-05-27",
          "2020-05-28",
          "2020-05-29",
          "2020-05-30",
          "2020-05-31",
          "2020-06-01",
          "2020-06-02",
          "2020-06-03",
          "2020-06-04",
          "2020-06-05",
          "2020-06-06",
          "2020-06-07",
          "2020-06-08",
          "2020-06-09",
          "2020-06-10",
          "2020-06-11",
          "2020-06-12",
          "2020-06-13",
          "2020-06-14",
          "2020-06-15",
          "2020-06-16",
          "2020-06-17",
          "2020-06-18",
          "2020-06-19",
          "2020-06-20",
          "2020-06-21",
          "2020-06-22",
          "2020-06-23",
          "2020-06-24",
          "2020-06-25",
          "2020-06-26",
          "2020-06-27",
          "2020-06-28",
          "2020-06-29",
          "2020-06-30",
          "2020-07-01",
          "2020-07-02",
          "2020-07-03",
          "2020-07-04",
          "2020-07-05",
          "2020-07-06",
          "2020-07-07",
          "2020-07-08",
          "2020-07-09",
          "2020-07-10",
          "2020-07-11",
          "2020-07-12",
          "2020-07-13",
          "2020-07-14",
          "2020-07-15",
          "2020-07-16",
          "2020-07-17",
          "2020-07-18",
          "2020-07-19",
          "2020-07-20",
          "2020-07-21",
          "2020-07-22",
          "2020-07-23",
          "2020-07-24",
          "2020-07-25",
          "2020-07-26",
          "2020-07-27",
          "2020-07-28",
          "2020-07-29",
          "2020-07-30",
          "2020-07-31",
          "2020-08-01",
          "2020-08-02",
          "2020-08-03",
          "2020-08-04",
          "2020-08-05",
          "2020-08-06",
          "2020-08-07",
          "2020-08-08",
          "2020-08-09",
          "2020-08-10",
          "2020-08-11",
          "2020-08-12",
          "2020-08-13",
          "2020-08-14",
          "2020-08-15",
          "2020-08-16",
          "2020-08-17",
          "2020-08-18",
          "2020-08-19",
          "2020-08-20",
          "2020-08-21",
          "2020-08-22",
          "2020-08-23",
          "2020-08-24",
          "2020-08-25",
          "2020-08-26",
          "2020-08-27",
          "2020-08-28",
          "2020-08-29",
          "2020-08-30",
          "2020-08-31",
          "2020-09-01",
          "2020-09-02",
          "2020-09-03",
          "2020-09-04",
          "2020-09-05",
          "2020-09-06",
          "2020-09-07",
          "2020-09-08",
          "2020-09-09",
          "2020-09-10",
          "2020-09-11",
          "2020-09-12",
          "2020-09-13",
          "2020-09-14",
          "2020-09-15",
          "2020-09-16",
          "2020-09-17",
          "2020-09-18",
          "2020-09-19",
          "2020-09-20",
          "2020-09-21",
          "2020-09-22",
          "2020-09-23",
          "2020-09-24",
          "2020-09-25",
          "2020-09-26",
          "2020-09-27",
          "2020-09-28",
          "2020-09-29",
          "2020-09-30",
          "2020-10-01",
          "2020-10-02",
          "2020-10-03",
          "2020-10-04",
          "2020-10-05",
          "2020-10-06",
          "2020-10-07",
          "2020-10-08",
          "2020-10-09",
          "2020-10-10",
          "2020-10-11",
          "2020-10-12",
          "2020-10-13",
          "2020-10-14",
          "2020-10-15",
          "2020-10-16",
          "2020-10-17",
          "2020-10-18",
          "2020-10-19",
          "2020-10-20",
          "2020-10-21",
          "2020-10-22",
          "2020-10-23",
          "2020-10-24",
          "2020-10-25",
          "2020-10-26",
          "2020-10-27",
          "2020-10-28",
          "2020-10-29",
          "2020-10-30",
          "2020-10-31"
         ],
         "y": [
          0.0025425615958906697,
          0.002962097499750624,
          0.003455023814204655,
          0.003957407655797098,
          0.004468114121271343,
          0.005245522852048806,
          0.005927599709271076,
          0.006604758652381372,
          0.007267542154241281,
          0.008016956604689046,
          0.008621103438290801,
          0.009205200314359122,
          0.00997466472234032,
          0.010888261843910915,
          0.011608168809686832,
          0.012297811688619832,
          0.012948111254657037,
          0.013607111745661584,
          0.014307347054989605,
          0.015026875719679984,
          0.015879944667564743,
          0.016608930859393536,
          0.017263013436286105,
          0.018085818297327947,
          0.018499679684904853,
          0.01906410490452528,
          0.01982373348428253,
          0.020656374173548316,
          0.021454589464030286,
          0.022135909719081484,
          0.02272151979949195,
          0.023109656713252377,
          0.023533732230138767,
          0.024302818337034432,
          0.025088927992779234,
          0.025728635128421412,
          0.026324837639226908,
          0.026847271438352784,
          0.027181689597967025,
          0.027513081348896982,
          0.02801886990025925,
          0.028625286540374228,
          0.029246456922825126,
          0.02978969728165551,
          0.03020658507791671,
          0.030485392977957094,
          0.03237803330889609,
          0.032875120935291026,
          0.03341268677783836,
          0.03383941040232351,
          0.03424570576818969,
          0.0346523794351414,
          0.034875955376693454,
          0.03506775402706045,
          0.035281494140388565,
          0.03576950254073062,
          0.036139859303470835,
          0.0365575037019031,
          0.03689873128105701,
          0.037146140190997864,
          0.03740414153133374,
          0.03773515498117816,
          0.0380767608614176,
          0.03842290635468348,
          0.038728951932882484,
          0.038981657058020855,
          0.039149244438913516,
          0.03930321298072686,
          0.039603584042642824,
          0.03989411927633484,
          0.040172927176375224,
          0.0404422775492772,
          0.040697252480928786,
          0.04081755222612938,
          0.04094768779955393,
          0.041213633462686076,
          0.04146747349108105,
          0.04169558904565955,
          0.04191727348178393,
          0.04212382587448684,
          0.04222937187735152,
          0.042357615945348384,
          0.04259897203792066,
          0.042850542259802414,
          0.043707772519628076,
          0.043920377729699575,
          0.04409477453013189,
          0.04420032053299657,
          0.04432932120316451,
          0.04452376796113026,
          0.044757936333077335,
          0.04499361790936656,
          0.045214545743319866,
          0.04532198325161223,
          0.045430177362075656,
          0.045561069537671285,
          0.04587732924517978,
          0.04615916355390445,
          0.04650757885368355,
          0.046782982043954105,
          0.04703190415823711,
          0.047192303818504575,
          0.047340597844034875,
          0.04765383114285908,
          0.04797954837750599,
          0.04830829202083719,
          0.04861963381423371,
          0.04891546526312324,
          0.04907851303098946,
          0.04926955507918538,
          0.04963083261587272,
          0.05002464404591619,
          0.05038894799128782,
          0.050744551011692104,
          0.051050218288805585,
          0.05121553586318503,
          0.05153784838806211,
          0.05197781255054103,
          0.05239810505657205,
          0.052800239110497325,
          0.053256848520739856,
          0.053578026142360326,
          0.053725941866805085,
          0.05390412167809277,
          0.05429339349510981,
          0.054744328389069286,
          0.055140787926711524,
          0.055539895571952505,
          0.05589285048475804,
          0.056053628446111045,
          0.056254506322530914,
          0.05664113003194919,
          0.0571151412921264,
          0.05744501983871421,
          0.05788233589359438,
          0.05820237861195824,
          0.05837904521890377,
          0.058519773222723344,
          0.05892001577122094,
          0.05933122905119909,
          0.05973109329861114,
          0.06006135014628449,
          0.060344697659351305,
          0.060509258631559676,
          0.060656039452747834,
          0.061029422624172346,
          0.06138918695651753,
          0.061730036234585894,
          0.062017923360679156,
          0.06228462562598237,
          0.06241740930700568,
          0.06258764479549708,
          0.06289936488997916,
          0.0632296217376525,
          0.0635666880048655,
          0.06384511760382035,
          0.06405772281389185,
          0.06418407537646102,
          0.0642782723467596,
          0.0644182437484081,
          0.06477649487641116,
          0.06504622355039866,
          0.06539804355994758,
          0.06561102707110462,
          0.06573662303150274,
          0.06586524540058514,
          0.06621101259276548,
          0.06651176195576698,
          0.06676825009176071,
          0.06703230424946517,
          0.0672399915454247,
          0.0673239743864138,
          0.06743973451858797,
          0.06770303207412134,
          0.06801853517945877,
          0.06830226099361113,
          0.06857463777519739,
          0.06879594391023623,
          0.06887727864362658,
          0.06897223221609623,
          0.06922531564232014,
          0.0695007188325907,
          0.06974737114036048,
          0.06997699989928112,
          0.07016274573227953,
          0.07026186061669008,
          0.07039842730856875,
          0.07060081838933077,
          0.07085806312749558,
          0.07113611442536488,
          0.0713831450342202,
          0.07155754183465253,
          0.07169789153738657,
          0.0717947366152839,
          0.07203306629917187,
          0.07228766292973793,
          0.07253431523750771,
          0.07277869773876428,
          0.07296406527067714,
          0.07310290176906904,
          0.07322433641752625,
          0.07347250192963818,
          0.0737569843459616,
          0.073989261212481,
          0.07422645599311238,
          0.07445419324660534,
          0.07456390056141092,
          0.07469592764026316,
          0.07493766203392095,
          0.07520852561116508,
          0.07546577034932989,
          0.075721123582067,
          0.07596550608332357
         ]
        },
        {
         "line": {
          "width": 3
         },
         "marker": {
          "color": "tomato"
         },
         "mode": "lines",
         "name": "Forecast",
         "type": "scatter",
         "x": [
          "2020-10-31",
          "2020-11-01",
          "2020-11-02",
          "2020-11-03",
          "2020-11-04",
          "2020-11-05",
          "2020-11-06",
          "2020-11-07",
          "2020-11-08",
          "2020-11-09",
          "2020-11-10",
          "2020-11-11",
          "2020-11-12",
          "2020-11-13",
          "2020-11-14",
          "2020-11-15",
          "2020-11-16",
          "2020-11-17",
          "2020-11-18",
          "2020-11-19",
          "2020-11-20",
          "2020-11-21",
          "2020-11-22",
          "2020-11-23",
          "2020-11-24",
          "2020-11-25",
          "2020-11-26",
          "2020-11-27",
          "2020-11-28",
          "2020-11-29",
          "2020-11-30",
          "2020-12-01",
          "2020-12-02",
          "2020-12-03",
          "2020-12-04",
          "2020-12-05",
          "2020-12-06",
          "2020-12-07",
          "2020-12-08",
          "2020-12-09",
          "2020-12-10",
          "2020-12-11",
          "2020-12-12",
          "2020-12-13",
          "2020-12-14",
          "2020-12-15",
          "2020-12-16",
          "2020-12-17",
          "2020-12-18",
          "2020-12-19",
          "2020-12-20",
          "2020-12-21",
          "2020-12-22",
          "2020-12-23",
          "2020-12-24",
          "2020-12-25",
          "2020-12-26",
          "2020-12-27",
          "2020-12-28",
          "2020-12-29",
          "2020-12-30",
          "2020-12-31",
          "2021-01-01",
          "2021-01-02",
          "2021-01-03",
          "2021-01-04",
          "2021-01-05",
          "2021-01-06",
          "2021-01-07",
          "2021-01-08",
          "2021-01-09",
          "2021-01-10",
          "2021-01-11",
          "2021-01-12",
          "2021-01-13"
         ],
         "y": [
          0.07658201456069946,
          0.07721758633852005,
          0.07787303626537323,
          0.07854919880628586,
          0.07924699038267136,
          0.07996734976768494,
          0.08071129024028778,
          0.08147986978292465,
          0.08227421343326569,
          0.08309552073478699,
          0.08394505828619003,
          0.08482417464256287,
          0.0857343077659607,
          0.08667696267366409,
          0.0876537635922432,
          0.08866643905639648,
          0.0897168219089508,
          0.09080687910318375,
          0.09193870425224304,
          0.09311451762914658,
          0.09433674067258835,
          0.0956079289317131,
          0.0969308391213417,
          0.09830844402313232,
          0.09974389523267746,
          0.1012406125664711,
          0.10280228406190872,
          0.10443287342786789,
          0.10613665729761124,
          0.10791827738285065,
          0.10978273302316666,
          0.11173544079065323,
          0.11378231644630432,
          0.1159297302365303,
          0.1181846484541893,
          0.12055464833974838,
          0.12304798513650894,
          0.12567369639873505,
          0.12844163179397583,
          0.13136261701583862,
          0.13444849848747253,
          0.1377122849225998,
          0.14116829633712769,
          0.1448323130607605,
          0.14872175455093384,
          0.15285584330558777,
          0.15725582838058472,
          0.16194526851177216,
          0.16695024073123932,
          0.17229975759983063,
          0.17802594602108002,
          0.1841646134853363,
          0.19075548648834229,
          0.1978427767753601,
          0.20547564327716827,
          0.21370868384838104,
          0.22260239720344543,
          0.2322237491607666,
          0.2426465004682541,
          0.2539515495300293,
          0.2662270963191986,
          0.27956822514533997,
          0.29407623410224915,
          0.3098573088645935,
          0.32701992988586426,
          0.345671147108078,
          0.3659113645553589,
          0.3878268003463745,
          0.4114797115325928,
          0.43689683079719543,
          0.46405544877052307,
          0.49286916851997375,
          0.5231742858886719,
          0.5547201037406921,
          0.5871659517288208
         ]
        },
        {
         "line": {
          "width": 3
         },
         "marker": {
          "color": "forestgreen"
         },
         "mode": "lines",
         "name": "Real",
         "type": "scatter",
         "x": [
          "2020-04-02",
          "2020-04-03",
          "2020-04-04",
          "2020-04-05",
          "2020-04-06",
          "2020-04-07",
          "2020-04-08",
          "2020-04-09",
          "2020-04-10",
          "2020-04-11",
          "2020-04-12",
          "2020-04-13",
          "2020-04-14",
          "2020-04-15",
          "2020-04-16",
          "2020-04-17",
          "2020-04-18",
          "2020-04-19",
          "2020-04-20",
          "2020-04-21",
          "2020-04-22",
          "2020-04-23",
          "2020-04-24",
          "2020-04-25",
          "2020-04-26",
          "2020-04-27",
          "2020-04-28",
          "2020-04-29",
          "2020-04-30",
          "2020-05-01",
          "2020-05-02",
          "2020-05-03",
          "2020-05-04",
          "2020-05-05",
          "2020-05-06",
          "2020-05-07",
          "2020-05-08",
          "2020-05-09",
          "2020-05-10",
          "2020-05-11",
          "2020-05-12",
          "2020-05-13",
          "2020-05-14",
          "2020-05-15",
          "2020-05-16",
          "2020-05-17",
          "2020-05-18",
          "2020-05-19",
          "2020-05-20",
          "2020-05-21",
          "2020-05-22",
          "2020-05-23",
          "2020-05-24",
          "2020-05-25",
          "2020-05-26",
          "2020-05-27",
          "2020-05-28",
          "2020-05-29",
          "2020-05-30",
          "2020-05-31",
          "2020-06-01",
          "2020-06-02",
          "2020-06-03",
          "2020-06-04",
          "2020-06-05",
          "2020-06-06",
          "2020-06-07",
          "2020-06-08",
          "2020-06-09",
          "2020-06-10",
          "2020-06-11",
          "2020-06-12",
          "2020-06-13",
          "2020-06-14",
          "2020-06-15",
          "2020-06-16",
          "2020-06-17",
          "2020-06-18",
          "2020-06-19",
          "2020-06-20",
          "2020-06-21",
          "2020-06-22",
          "2020-06-23",
          "2020-06-24",
          "2020-06-25",
          "2020-06-26",
          "2020-06-27",
          "2020-06-28",
          "2020-06-29",
          "2020-06-30",
          "2020-07-01",
          "2020-07-02",
          "2020-07-03",
          "2020-07-04",
          "2020-07-05",
          "2020-07-06",
          "2020-07-07",
          "2020-07-08",
          "2020-07-09",
          "2020-07-10",
          "2020-07-11",
          "2020-07-12",
          "2020-07-13",
          "2020-07-14",
          "2020-07-15",
          "2020-07-16",
          "2020-07-17",
          "2020-07-18",
          "2020-07-19",
          "2020-07-20",
          "2020-07-21",
          "2020-07-22",
          "2020-07-23",
          "2020-07-24",
          "2020-07-25",
          "2020-07-26",
          "2020-07-27",
          "2020-07-28",
          "2020-07-29",
          "2020-07-30",
          "2020-07-31",
          "2020-08-01",
          "2020-08-02",
          "2020-08-03",
          "2020-08-04",
          "2020-08-05",
          "2020-08-06",
          "2020-08-07",
          "2020-08-08",
          "2020-08-09",
          "2020-08-10",
          "2020-08-11",
          "2020-08-12",
          "2020-08-13",
          "2020-08-14",
          "2020-08-15",
          "2020-08-16",
          "2020-08-17",
          "2020-08-18",
          "2020-08-19",
          "2020-08-20",
          "2020-08-21",
          "2020-08-22",
          "2020-08-23",
          "2020-08-24",
          "2020-08-25",
          "2020-08-26",
          "2020-08-27",
          "2020-08-28",
          "2020-08-29",
          "2020-08-30",
          "2020-08-31",
          "2020-09-01",
          "2020-09-02",
          "2020-09-03",
          "2020-09-04",
          "2020-09-05",
          "2020-09-06",
          "2020-09-07",
          "2020-09-08",
          "2020-09-09",
          "2020-09-10",
          "2020-09-11",
          "2020-09-12",
          "2020-09-13",
          "2020-09-14",
          "2020-09-15",
          "2020-09-16",
          "2020-09-17",
          "2020-09-18",
          "2020-09-19",
          "2020-09-20",
          "2020-09-21",
          "2020-09-22",
          "2020-09-23",
          "2020-09-24",
          "2020-09-25",
          "2020-09-26",
          "2020-09-27",
          "2020-09-28",
          "2020-09-29",
          "2020-09-30",
          "2020-10-01",
          "2020-10-02",
          "2020-10-03",
          "2020-10-04",
          "2020-10-05",
          "2020-10-06",
          "2020-10-07",
          "2020-10-08",
          "2020-10-09",
          "2020-10-10",
          "2020-10-11",
          "2020-10-12",
          "2020-10-13",
          "2020-10-14",
          "2020-10-15",
          "2020-10-16",
          "2020-10-17",
          "2020-10-18",
          "2020-10-19",
          "2020-10-20",
          "2020-10-21",
          "2020-10-22",
          "2020-10-23",
          "2020-10-24",
          "2020-10-25",
          "2020-10-26",
          "2020-10-27",
          "2020-10-28",
          "2020-10-29",
          "2020-10-30",
          "2020-10-31"
         ],
         "y": [
          0.0005658044192719972,
          0.000691265399197527,
          0.0008044262830519263,
          0.0008856069171213868,
          0.0009692475704050733,
          0.001252149780041072,
          0.0014095910097515407,
          0.0015867123931758182,
          0.0017908939879565824,
          0.0019606353137381818,
          0.002078716236021033,
          0.002209097254375015,
          0.0024723193102972048,
          0.0026568207513641604,
          0.0028413221924311165,
          0.003052883844854559,
          0.0032496853819926445,
          0.00336530628506127,
          0.003601468129626973,
          0.003830249916549998,
          0.004194332760255458,
          0.0044870750467483605,
          0.0047158568336713854,
          0.004890518197881436,
          0.004998759043307384,
          0.005166040349874757,
          0.005444022521082304,
          0.005729384749932528,
          0.006076247459138404,
          0.006317329342132559,
          0.006568251301983619,
          0.006678952166623793,
          0.006873293684547653,
          0.007193096182397043,
          0.007360377488964415,
          0.007640819679386188,
          0.007830241158881595,
          0.00809100319558956,
          0.008201704060229733,
          0.008386205501296689,
          0.008762588441073277,
          0.008939709824497554,
          0.00916849161142058,
          0.009512894301412231,
          0.009692475704050735,
          0.009795796511048229,
          0.009904037356474176,
          0.010186939566110175,
          0.010491981948674208,
          0.010715843697168782,
          0.010910185215092641,
          0.011082386560088467,
          0.011220147636085127,
          0.01134314859679643,
          0.011498129807292673,
          0.01174413172871528,
          0.011958153400352948,
          0.012152494918276809,
          0.012317316205629956,
          0.012575618223123695,
          0.01269615916462077,
          0.012880660605687726,
          0.01306762206596891,
          0.01327918371839235,
          0.013478445274744661,
          0.013608826293098645,
          0.013638346523669359,
          0.013756427445952209,
          0.013936008848590713,
          0.014088530039872729,
          0.014277951519368136,
          0.014504273287076937,
          0.01468385468971544,
          0.014730595054785736,
          0.014804395631212518,
          0.01497167693777989,
          0.015141418263561489,
          0.015247199089773211,
          0.01534805987755648,
          0.01542924051162594,
          0.015475980876696237,
          0.015586681741336407,
          0.015788403316902948,
          0.01587942402782931,
          0.016150026141394182,
          0.016260727006034353,
          0.016383727966745656,
          0.016415708216530597,
          0.016496888850600057,
          0.016654330080310524,
          0.016779791060236054,
          0.0169446123475892,
          0.01709713353887122,
          0.017143873903941512,
          0.017193074288226036,
          0.017242274672510556,
          0.01740463594064948,
          0.017562077170359947,
          0.017719518400070414,
          0.017854819456852848,
          0.01797536039834993,
          0.01804178091713403,
          0.01810574141670391,
          0.01823612243505789,
          0.018420623876124847,
          0.01856084497133573,
          0.018696146028118164,
          0.01885604727704286,
          0.01893968793032655,
          0.01900364842989643,
          0.019244730312890583,
          0.019544852657026164,
          0.019739194174950025,
          0.019995036173229536,
          0.020194297729581846,
          0.020383719209077254,
          0.020762562168068068,
          0.021092204742774363,
          0.021431687394337564,
          0.021712129584759335,
          0.022041772159465626,
          0.022280394023245557,
          0.02239109488788573,
          0.022555916175238878,
          0.02291261896130166,
          0.023239801516793727,
          0.023485803438216334,
          0.023741645436495845,
          0.02399010737713268,
          0.02412786845312934,
          0.024268089548340227,
          0.024681372776330205,
          0.025089735965891737,
          0.025409538463741124,
          0.025672760519663315,
          0.0259827229406558,
          0.026130324093509367,
          0.02627792524636293,
          0.02656820751364161,
          0.026944590453418196,
          0.02719797243248348,
          0.027559595256974715,
          0.027852337543467616,
          0.02801961885003499,
          0.02814999986838897,
          0.028580503230878535,
          0.0289544261514409,
          0.029308668918289454,
          0.029660451665923782,
          0.02999501427905853,
          0.030132775355055187,
          0.03030005666162256,
          0.030656759447685342,
          0.031047902502747287,
          0.03129636444338412,
          0.031638307114161546,
          0.031982709804153193,
          0.03217705132207706,
          0.03226807203300342,
          0.032398453051357405,
          0.032769915952705536,
          0.03314875891169635,
          0.03348824156325956,
          0.03375884367682443,
          0.03392366496417757,
          0.034076186155459584,
          0.03449438942187802,
          0.03486585232322616,
          0.03517089470579019,
          0.0354931572228538,
          0.03577851945170403,
          0.03584001993205968,
          0.03602206135391241,
          0.03641320440897435,
          0.03683632771382124,
          0.037079869616029625,
          0.0374365724020924,
          0.0377096345348715,
          0.03786461574536774,
          0.03802943703272089,
          0.038349239530570275,
          0.03866904202841967,
          0.03900114462234019,
          0.039362767446831426,
          0.03963336956039629,
          0.039795730828535214,
          0.03997777225038794,
          0.04025083438316703,
          0.04055341674651684,
          0.04092241962865075,
          0.041426723567567096,
          0.041746526065416484,
          0.041896587237484274,
          0.042046648409552065,
          0.04230495042704581,
          0.04268871342446508,
          0.04297899569174375,
          0.04337751880444837,
          0.043817862243794845,
          0.04397284345429108,
          0.04422130539492792,
          0.04464688871898903,
          0.04514627261947692,
          0.045557095828252674,
          0.04602941951738408,
          0.04659522393665608,
          0.04681170562750797,
          0.047033107356788326,
          0.04758415166077496,
          0.048110595772619336,
          0.04859029951939343,
          0.049097063477523996,
          0.04955216703215582
         ]
        },
        {
         "line": {
          "width": 3
         },
         "marker": {
          "color": "limegreen"
         },
         "mode": "lines",
         "name": "Forecast",
         "type": "scatter",
         "x": [
          "2020-10-31",
          "2020-11-01",
          "2020-11-02",
          "2020-11-03",
          "2020-11-04",
          "2020-11-05",
          "2020-11-06",
          "2020-11-07",
          "2020-11-08",
          "2020-11-09",
          "2020-11-10",
          "2020-11-11",
          "2020-11-12",
          "2020-11-13",
          "2020-11-14",
          "2020-11-15",
          "2020-11-16",
          "2020-11-17",
          "2020-11-18",
          "2020-11-19",
          "2020-11-20",
          "2020-11-21",
          "2020-11-22",
          "2020-11-23",
          "2020-11-24",
          "2020-11-25",
          "2020-11-26",
          "2020-11-27",
          "2020-11-28",
          "2020-11-29",
          "2020-11-30",
          "2020-12-01",
          "2020-12-02",
          "2020-12-03",
          "2020-12-04",
          "2020-12-05",
          "2020-12-06",
          "2020-12-07",
          "2020-12-08",
          "2020-12-09",
          "2020-12-10",
          "2020-12-11",
          "2020-12-12",
          "2020-12-13",
          "2020-12-14",
          "2020-12-15",
          "2020-12-16",
          "2020-12-17",
          "2020-12-18",
          "2020-12-19",
          "2020-12-20",
          "2020-12-21",
          "2020-12-22",
          "2020-12-23",
          "2020-12-24",
          "2020-12-25",
          "2020-12-26",
          "2020-12-27",
          "2020-12-28",
          "2020-12-29",
          "2020-12-30",
          "2020-12-31",
          "2021-01-01",
          "2021-01-02",
          "2021-01-03",
          "2021-01-04",
          "2021-01-05",
          "2021-01-06",
          "2021-01-07",
          "2021-01-08",
          "2021-01-09",
          "2021-01-10",
          "2021-01-11",
          "2021-01-12",
          "2021-01-13"
         ],
         "y": [
          0.05004824697971344,
          0.05055495351552963,
          0.0510726273059845,
          0.05160163715481758,
          0.05214235931634903,
          0.052695177495479584,
          0.05326051265001297,
          0.05383878946304321,
          0.05443046614527702,
          0.05503600090742111,
          0.05565588176250458,
          0.05629061162471771,
          0.056940726935863495,
          0.057606786489486694,
          0.05828937143087387,
          0.05898909270763397,
          0.05970658361911774,
          0.06044251471757889,
          0.06119759380817413,
          0.061972543597221375,
          0.0627681240439415,
          0.06358515471220016,
          0.06442447006702423,
          0.06528696417808533,
          0.06617356091737747,
          0.06708524376153946,
          0.06802304089069366,
          0.06898801028728485,
          0.06998130679130554,
          0.07100410014390945,
          0.07205766439437866,
          0.07314329594373703,
          0.07426240295171738,
          0.0754164382815361,
          0.07660692930221558,
          0.07783550024032593,
          0.07910386472940445,
          0.080413818359375,
          0.0817672535777092,
          0.08316617459058762,
          0.08461268991231918,
          0.0861089900135994,
          0.08765744417905807,
          0.0892605111002922,
          0.09092079848051071,
          0.09264103323221207,
          0.09442415088415146,
          0.09627313911914825,
          0.09819125384092331,
          0.10018187016248703,
          0.10224853456020355,
          0.10439497977495193,
          0.10662514716386795,
          0.1089431643486023,
          0.11135334521532059,
          0.11386024206876755,
          0.11646857112646103,
          0.11918328702449799,
          0.1220095157623291,
          0.12495258450508118,
          0.12801805138587952,
          0.13121159374713898,
          0.13453903794288635,
          0.13800635933876038,
          0.14161962270736694,
          0.14538493752479553,
          0.14930838346481323,
          0.15339601039886475,
          0.15765361487865448,
          0.16208681464195251,
          0.1667008399963379,
          0.17150041460990906,
          0.17648965120315552,
          0.18167179822921753,
          0.1870490461587906
         ]
        },
        {
         "line": {
          "width": 3
         },
         "marker": {
          "color": "blue"
         },
         "mode": "lines",
         "name": "Real",
         "type": "scatter",
         "x": [
          "2020-04-02",
          "2020-04-03",
          "2020-04-04",
          "2020-04-05",
          "2020-04-06",
          "2020-04-07",
          "2020-04-08",
          "2020-04-09",
          "2020-04-10",
          "2020-04-11",
          "2020-04-12",
          "2020-04-13",
          "2020-04-14",
          "2020-04-15",
          "2020-04-16",
          "2020-04-17",
          "2020-04-18",
          "2020-04-19",
          "2020-04-20",
          "2020-04-21",
          "2020-04-22",
          "2020-04-23",
          "2020-04-24",
          "2020-04-25",
          "2020-04-26",
          "2020-04-27",
          "2020-04-28",
          "2020-04-29",
          "2020-04-30",
          "2020-05-01",
          "2020-05-02",
          "2020-05-03",
          "2020-05-04",
          "2020-05-05",
          "2020-05-06",
          "2020-05-07",
          "2020-05-08",
          "2020-05-09",
          "2020-05-10",
          "2020-05-11",
          "2020-05-12",
          "2020-05-13",
          "2020-05-14",
          "2020-05-15",
          "2020-05-16",
          "2020-05-17",
          "2020-05-18",
          "2020-05-19",
          "2020-05-20",
          "2020-05-21",
          "2020-05-22",
          "2020-05-23",
          "2020-05-24",
          "2020-05-25",
          "2020-05-26",
          "2020-05-27",
          "2020-05-28",
          "2020-05-29",
          "2020-05-30",
          "2020-05-31",
          "2020-06-01",
          "2020-06-02",
          "2020-06-03",
          "2020-06-04",
          "2020-06-05",
          "2020-06-06",
          "2020-06-07",
          "2020-06-08",
          "2020-06-09",
          "2020-06-10",
          "2020-06-11",
          "2020-06-12",
          "2020-06-13",
          "2020-06-14",
          "2020-06-15",
          "2020-06-16",
          "2020-06-17",
          "2020-06-18",
          "2020-06-19",
          "2020-06-20",
          "2020-06-21",
          "2020-06-22",
          "2020-06-23",
          "2020-06-24",
          "2020-06-25",
          "2020-06-26",
          "2020-06-27",
          "2020-06-28",
          "2020-06-29",
          "2020-06-30",
          "2020-07-01",
          "2020-07-02",
          "2020-07-03",
          "2020-07-04",
          "2020-07-05",
          "2020-07-06",
          "2020-07-07",
          "2020-07-08",
          "2020-07-09",
          "2020-07-10",
          "2020-07-11",
          "2020-07-12",
          "2020-07-13",
          "2020-07-14",
          "2020-07-15",
          "2020-07-16",
          "2020-07-17",
          "2020-07-18",
          "2020-07-19",
          "2020-07-20",
          "2020-07-21",
          "2020-07-22",
          "2020-07-23",
          "2020-07-24",
          "2020-07-25",
          "2020-07-26",
          "2020-07-27",
          "2020-07-28",
          "2020-07-29",
          "2020-07-30",
          "2020-07-31",
          "2020-08-01",
          "2020-08-02",
          "2020-08-03",
          "2020-08-04",
          "2020-08-05",
          "2020-08-06",
          "2020-08-07",
          "2020-08-08",
          "2020-08-09",
          "2020-08-10",
          "2020-08-11",
          "2020-08-12",
          "2020-08-13",
          "2020-08-14",
          "2020-08-15",
          "2020-08-16",
          "2020-08-17",
          "2020-08-18",
          "2020-08-19",
          "2020-08-20",
          "2020-08-21",
          "2020-08-22",
          "2020-08-23",
          "2020-08-24",
          "2020-08-25",
          "2020-08-26",
          "2020-08-27",
          "2020-08-28",
          "2020-08-29",
          "2020-08-30",
          "2020-08-31",
          "2020-09-01",
          "2020-09-02",
          "2020-09-03",
          "2020-09-04",
          "2020-09-05",
          "2020-09-06",
          "2020-09-07",
          "2020-09-08",
          "2020-09-09",
          "2020-09-10",
          "2020-09-11",
          "2020-09-12",
          "2020-09-13",
          "2020-09-14",
          "2020-09-15",
          "2020-09-16",
          "2020-09-17",
          "2020-09-18",
          "2020-09-19",
          "2020-09-20",
          "2020-09-21",
          "2020-09-22",
          "2020-09-23",
          "2020-09-24",
          "2020-09-25",
          "2020-09-26",
          "2020-09-27",
          "2020-09-28",
          "2020-09-29",
          "2020-09-30",
          "2020-10-01",
          "2020-10-02",
          "2020-10-03",
          "2020-10-04",
          "2020-10-05",
          "2020-10-06",
          "2020-10-07",
          "2020-10-08",
          "2020-10-09",
          "2020-10-10",
          "2020-10-11",
          "2020-10-12",
          "2020-10-13",
          "2020-10-14",
          "2020-10-15",
          "2020-10-16",
          "2020-10-17",
          "2020-10-18",
          "2020-10-19",
          "2020-10-20",
          "2020-10-21",
          "2020-10-22",
          "2020-10-23",
          "2020-10-24",
          "2020-10-25",
          "2020-10-26",
          "2020-10-27",
          "2020-10-28",
          "2020-10-29",
          "2020-10-30",
          "2020-10-31"
         ],
         "y": [
          0.0006656961291062706,
          0.0008466620671157422,
          0.00092421889769123,
          0.0010211649359105899,
          0.0011245740433445737,
          0.0012926138429247974,
          0.001467116711719645,
          0.001538210473080509,
          0.0016610087881583644,
          0.0017708809648069722,
          0.0018225855185239643,
          0.0019259946259579481,
          0.0020423298718211798,
          0.002184517394542908,
          0.002384872540196251,
          0.002565838478205723,
          0.0026692475856397065,
          0.0027468044162151945,
          0.002876065800507674,
          0.003108736292234138,
          0.0034771312374677053,
          0.0037162647984087926,
          0.0038907676672036403,
          0.004013565982281496,
          0.0040717336052131115,
          0.004207458058720215,
          0.004336719443012695,
          0.0045564637963099106,
          0.004769745080392502,
          0.004937784879972726,
          0.005286790617562421,
          0.005351421309708661,
          0.005474219624786517,
          0.005706890116512981,
          0.005661648632010612,
          0.005849077639234708,
          0.006036506646458804,
          0.006204546446039027,
          0.006262714068970643,
          0.0063402708995461314,
          0.006527699906770227,
          0.00672805505242357,
          0.006818538021428306,
          0.0073097312817397295,
          0.007477771081319953,
          0.00755532791189544,
          0.007697515434617168,
          0.00784616602655352,
          0.008124078002782352,
          0.00826626552550408,
          0.00844723146351355,
          0.008582955917020654,
          0.008660512747596142,
          0.008763921855030126,
          0.008880257100893357,
          0.009003055415971213,
          0.00919048442319531,
          0.009345598084346285,
          0.00946839639942414,
          0.009533027091570381,
          0.009584731645287371,
          0.009720456098794477,
          0.009804475998584587,
          0.009972515798164812,
          0.010108240251671915,
          0.0102116493591059,
          0.010256890843608266,
          0.010334447674183754,
          0.010483098266120107,
          0.010612359650412587,
          0.010702842619417322,
          0.010890271626641418,
          0.010948439249573033,
          0.010993680734075402,
          0.011077700633865513,
          0.011161720533655625,
          0.011278055779518856,
          0.011381464886952842,
          0.011465484786742952,
          0.011549504686533065,
          0.011601209240250057,
          0.011665839932396296,
          0.011762785970615655,
          0.011846805870405768,
          0.011963141116269,
          0.012047161016059111,
          0.012163496261922344,
          0.012208737746424711,
          0.012247516161712456,
          0.01237031447679031,
          0.012486649722653542,
          0.012609448037731398,
          0.012719320214380008,
          0.012777487837311623,
          0.012829192391028614,
          0.012861507737101733,
          0.013023084467467333,
          0.013087715159613574,
          0.013216976543906054,
          0.013365627135842405,
          0.013481962381705636,
          0.01350135158934951,
          0.013540130004637252,
          0.013598297627568867,
          0.013746948219505221,
          0.013856820396153827,
          0.013986081780446307,
          0.014089490887880292,
          0.014115343164738788,
          0.014167047718455778,
          0.014328624448821378,
          0.014438496625469987,
          0.014528979594474724,
          0.014651777909552579,
          0.01480042850148893,
          0.014871522262849794,
          0.0149813944394984,
          0.015194675723580991,
          0.015433809284522081,
          0.015621238291746177,
          0.015815130368184896,
          0.015976707098550494,
          0.01602841165226749,
          0.016086579275199103,
          0.016338638974569438,
          0.01651960491257891,
          0.016855684511739355,
          0.017049576588178076,
          0.017217616387758303,
          0.017353340841265403,
          0.017456749948699387,
          0.017695883509640475,
          0.017889775586079196,
          0.018083667662517913,
          0.01829048587738588,
          0.018587787061258586,
          0.018684733099477945,
          0.018813994483770427,
          0.019033738837067642,
          0.019253483190364858,
          0.019505542889735192,
          0.019815770212037145,
          0.019996736150046615,
          0.0201001452574806,
          0.020203554364914583,
          0.02044268792585567,
          0.020668895348367508,
          0.02086278742480623,
          0.02110838405496194,
          0.021276423854542165,
          0.02145092672333701,
          0.02160604038448799,
          0.02189041542993144,
          0.02225881037516501,
          0.022355756413384373,
          0.022543185420608465,
          0.02275646670469106,
          0.022898654227412784,
          0.02298913719641752,
          0.023079620165422254,
          0.02337692134929496,
          0.023628981048665294,
          0.023926282232538,
          0.024062006686045103,
          0.024197731139552207,
          0.0242494356932692,
          0.024721239745936745,
          0.024947447168448586,
          0.025141339244887307,
          0.025341694390540653,
          0.025626069435984108,
          0.025716552404988845,
          0.02591044448142756,
          0.026175430319227148,
          0.02642749001859748,
          0.02666016051032395,
          0.02709318614770375,
          0.027371098123932583,
          0.027487433369795814,
          0.027629620892517543,
          0.027933385145604873,
          0.028340558506126184,
          0.02872834265900362,
          0.029174294434812675,
          0.02949098482632925,
          0.029659024625909476,
          0.02989169511763594,
          0.03018899630150864,
          0.03073835718475168,
          0.031229550445063103,
          0.03172720677458915,
          0.03204389716610573,
          0.03221840003490058,
          0.03254155349563177,
          0.03289702230243609,
          0.03345930932410838,
          0.03382124120012732,
          0.03431889752965337,
          0.034907036828184156,
          0.035210801081271476,
          0.03555334374964655,
          0.03608331542524572,
          0.03678778996963973,
          0.037440559960316755,
          0.03810625608942302,
          0.03880426756460242,
          0.03919205171747986,
          0.039657392700932784,
          0.04032308883003905,
          0.04088537585171134,
          0.04156399811924685,
          0.042249083455997,
          0.04277259206238155
         ]
        },
        {
         "line": {
          "width": 3
         },
         "marker": {
          "color": "skyblue"
         },
         "mode": "lines",
         "name": "Forecast",
         "type": "scatter",
         "x": [
          "2020-10-31",
          "2020-11-01",
          "2020-11-02",
          "2020-11-03",
          "2020-11-04",
          "2020-11-05",
          "2020-11-06",
          "2020-11-07",
          "2020-11-08",
          "2020-11-09",
          "2020-11-10",
          "2020-11-11",
          "2020-11-12",
          "2020-11-13",
          "2020-11-14",
          "2020-11-15",
          "2020-11-16",
          "2020-11-17",
          "2020-11-18",
          "2020-11-19",
          "2020-11-20",
          "2020-11-21",
          "2020-11-22",
          "2020-11-23",
          "2020-11-24",
          "2020-11-25",
          "2020-11-26",
          "2020-11-27",
          "2020-11-28",
          "2020-11-29",
          "2020-11-30",
          "2020-12-01",
          "2020-12-02",
          "2020-12-03",
          "2020-12-04",
          "2020-12-05",
          "2020-12-06",
          "2020-12-07",
          "2020-12-08",
          "2020-12-09",
          "2020-12-10",
          "2020-12-11",
          "2020-12-12",
          "2020-12-13",
          "2020-12-14",
          "2020-12-15",
          "2020-12-16",
          "2020-12-17",
          "2020-12-18",
          "2020-12-19",
          "2020-12-20",
          "2020-12-21",
          "2020-12-22",
          "2020-12-23",
          "2020-12-24",
          "2020-12-25",
          "2020-12-26",
          "2020-12-27",
          "2020-12-28",
          "2020-12-29",
          "2020-12-30",
          "2020-12-31",
          "2021-01-01",
          "2021-01-02",
          "2021-01-03",
          "2021-01-04",
          "2021-01-05",
          "2021-01-06",
          "2021-01-07",
          "2021-01-08",
          "2021-01-09",
          "2021-01-10",
          "2021-01-11",
          "2021-01-12",
          "2021-01-13"
         ],
         "y": [
          0.04294014722108841,
          0.043109189718961716,
          0.043279748409986496,
          0.04345184192061424,
          0.04362550377845764,
          0.04380074143409729,
          0.043977584689855576,
          0.04415605962276459,
          0.04433619603514671,
          0.04451802372932434,
          0.044701553881168365,
          0.04488682001829147,
          0.04507385566830635,
          0.04526268690824509,
          0.045453332364559174,
          0.045645833015441895,
          0.04584021493792534,
          0.046036507934331894,
          0.04623473435640335,
          0.04643493890762329,
          0.046637147665023804,
          0.046841394156217575,
          0.04704771935939789,
          0.04725614935159683,
          0.04746672138571739,
          0.04767947643995285,
          0.047894444316625595,
          0.04811166226863861,
          0.04833117499947548,
          0.048553016036748886,
          0.04877723008394241,
          0.049003858119249344,
          0.04923293739557266,
          0.04946451261639595,
          0.04969863221049309,
          0.049935340881347656,
          0.050174687057733536,
          0.05041670426726341,
          0.050661444664001465,
          0.05090896785259247,
          0.051159314811229706,
          0.05141254514455795,
          0.05166871100664139,
          0.051927853375673294,
          0.05219004675745964,
          0.05245533585548401,
          0.05272378399968147,
          0.05299544706940651,
          0.05327038839459419,
          0.053548671305179596,
          0.053830359131097794,
          0.05411551892757416,
          0.05440421402454376,
          0.054696518927812576,
          0.05499250441789627,
          0.05529223755002022,
          0.055595800280570984,
          0.05590326711535454,
          0.05621471256017685,
          0.056530218571424484,
          0.056849874556064606,
          0.05717375501990318,
          0.05750195309519768,
          0.05783455818891525,
          0.05817166343331337,
          0.05851336196064949,
          0.058859750628471375,
          0.05921093374490738,
          0.059567008167505264,
          0.059928085654973984,
          0.060294259339571,
          0.060665663331747055,
          0.06104239821434021,
          0.06142458692193031,
          0.06181234121322632
         ]
        }
       ],
       "layout": {
        "hovermode": "x",
        "legend": {
         "bgcolor": "rgba(0,0,0,0)"
        },
        "margin": {
         "b": 50,
         "l": 60,
         "r": 10,
         "t": 20
        },
        "template": {
         "data": {
          "bar": [
           {
            "error_x": {
             "color": "#2a3f5f"
            },
            "error_y": {
             "color": "#2a3f5f"
            },
            "marker": {
             "line": {
              "color": "#E5ECF6",
              "width": 0.5
             },
             "pattern": {
              "fillmode": "overlay",
              "size": 10,
              "solidity": 0.2
             }
            },
            "type": "bar"
           }
          ],
          "barpolar": [
           {
            "marker": {
             "line": {
              "color": "#E5ECF6",
              "width": 0.5
             },
             "pattern": {
              "fillmode": "overlay",
              "size": 10,
              "solidity": 0.2
             }
            },
            "type": "barpolar"
           }
          ],
          "carpet": [
           {
            "aaxis": {
             "endlinecolor": "#2a3f5f",
             "gridcolor": "white",
             "linecolor": "white",
             "minorgridcolor": "white",
             "startlinecolor": "#2a3f5f"
            },
            "baxis": {
             "endlinecolor": "#2a3f5f",
             "gridcolor": "white",
             "linecolor": "white",
             "minorgridcolor": "white",
             "startlinecolor": "#2a3f5f"
            },
            "type": "carpet"
           }
          ],
          "choropleth": [
           {
            "colorbar": {
             "outlinewidth": 0,
             "ticks": ""
            },
            "type": "choropleth"
           }
          ],
          "contour": [
           {
            "colorbar": {
             "outlinewidth": 0,
             "ticks": ""
            },
            "colorscale": [
             [
              0,
              "#0d0887"
             ],
             [
              0.1111111111111111,
              "#46039f"
             ],
             [
              0.2222222222222222,
              "#7201a8"
             ],
             [
              0.3333333333333333,
              "#9c179e"
             ],
             [
              0.4444444444444444,
              "#bd3786"
             ],
             [
              0.5555555555555556,
              "#d8576b"
             ],
             [
              0.6666666666666666,
              "#ed7953"
             ],
             [
              0.7777777777777778,
              "#fb9f3a"
             ],
             [
              0.8888888888888888,
              "#fdca26"
             ],
             [
              1,
              "#f0f921"
             ]
            ],
            "type": "contour"
           }
          ],
          "contourcarpet": [
           {
            "colorbar": {
             "outlinewidth": 0,
             "ticks": ""
            },
            "type": "contourcarpet"
           }
          ],
          "heatmap": [
           {
            "colorbar": {
             "outlinewidth": 0,
             "ticks": ""
            },
            "colorscale": [
             [
              0,
              "#0d0887"
             ],
             [
              0.1111111111111111,
              "#46039f"
             ],
             [
              0.2222222222222222,
              "#7201a8"
             ],
             [
              0.3333333333333333,
              "#9c179e"
             ],
             [
              0.4444444444444444,
              "#bd3786"
             ],
             [
              0.5555555555555556,
              "#d8576b"
             ],
             [
              0.6666666666666666,
              "#ed7953"
             ],
             [
              0.7777777777777778,
              "#fb9f3a"
             ],
             [
              0.8888888888888888,
              "#fdca26"
             ],
             [
              1,
              "#f0f921"
             ]
            ],
            "type": "heatmap"
           }
          ],
          "heatmapgl": [
           {
            "colorbar": {
             "outlinewidth": 0,
             "ticks": ""
            },
            "colorscale": [
             [
              0,
              "#0d0887"
             ],
             [
              0.1111111111111111,
              "#46039f"
             ],
             [
              0.2222222222222222,
              "#7201a8"
             ],
             [
              0.3333333333333333,
              "#9c179e"
             ],
             [
              0.4444444444444444,
              "#bd3786"
             ],
             [
              0.5555555555555556,
              "#d8576b"
             ],
             [
              0.6666666666666666,
              "#ed7953"
             ],
             [
              0.7777777777777778,
              "#fb9f3a"
             ],
             [
              0.8888888888888888,
              "#fdca26"
             ],
             [
              1,
              "#f0f921"
             ]
            ],
            "type": "heatmapgl"
           }
          ],
          "histogram": [
           {
            "marker": {
             "pattern": {
              "fillmode": "overlay",
              "size": 10,
              "solidity": 0.2
             }
            },
            "type": "histogram"
           }
          ],
          "histogram2d": [
           {
            "colorbar": {
             "outlinewidth": 0,
             "ticks": ""
            },
            "colorscale": [
             [
              0,
              "#0d0887"
             ],
             [
              0.1111111111111111,
              "#46039f"
             ],
             [
              0.2222222222222222,
              "#7201a8"
             ],
             [
              0.3333333333333333,
              "#9c179e"
             ],
             [
              0.4444444444444444,
              "#bd3786"
             ],
             [
              0.5555555555555556,
              "#d8576b"
             ],
             [
              0.6666666666666666,
              "#ed7953"
             ],
             [
              0.7777777777777778,
              "#fb9f3a"
             ],
             [
              0.8888888888888888,
              "#fdca26"
             ],
             [
              1,
              "#f0f921"
             ]
            ],
            "type": "histogram2d"
           }
          ],
          "histogram2dcontour": [
           {
            "colorbar": {
             "outlinewidth": 0,
             "ticks": ""
            },
            "colorscale": [
             [
              0,
              "#0d0887"
             ],
             [
              0.1111111111111111,
              "#46039f"
             ],
             [
              0.2222222222222222,
              "#7201a8"
             ],
             [
              0.3333333333333333,
              "#9c179e"
             ],
             [
              0.4444444444444444,
              "#bd3786"
             ],
             [
              0.5555555555555556,
              "#d8576b"
             ],
             [
              0.6666666666666666,
              "#ed7953"
             ],
             [
              0.7777777777777778,
              "#fb9f3a"
             ],
             [
              0.8888888888888888,
              "#fdca26"
             ],
             [
              1,
              "#f0f921"
             ]
            ],
            "type": "histogram2dcontour"
           }
          ],
          "mesh3d": [
           {
            "colorbar": {
             "outlinewidth": 0,
             "ticks": ""
            },
            "type": "mesh3d"
           }
          ],
          "parcoords": [
           {
            "line": {
             "colorbar": {
              "outlinewidth": 0,
              "ticks": ""
             }
            },
            "type": "parcoords"
           }
          ],
          "pie": [
           {
            "automargin": true,
            "type": "pie"
           }
          ],
          "scatter": [
           {
            "marker": {
             "colorbar": {
              "outlinewidth": 0,
              "ticks": ""
             }
            },
            "type": "scatter"
           }
          ],
          "scatter3d": [
           {
            "line": {
             "colorbar": {
              "outlinewidth": 0,
              "ticks": ""
             }
            },
            "marker": {
             "colorbar": {
              "outlinewidth": 0,
              "ticks": ""
             }
            },
            "type": "scatter3d"
           }
          ],
          "scattercarpet": [
           {
            "marker": {
             "colorbar": {
              "outlinewidth": 0,
              "ticks": ""
             }
            },
            "type": "scattercarpet"
           }
          ],
          "scattergeo": [
           {
            "marker": {
             "colorbar": {
              "outlinewidth": 0,
              "ticks": ""
             }
            },
            "type": "scattergeo"
           }
          ],
          "scattergl": [
           {
            "marker": {
             "colorbar": {
              "outlinewidth": 0,
              "ticks": ""
             }
            },
            "type": "scattergl"
           }
          ],
          "scattermapbox": [
           {
            "marker": {
             "colorbar": {
              "outlinewidth": 0,
              "ticks": ""
             }
            },
            "type": "scattermapbox"
           }
          ],
          "scatterpolar": [
           {
            "marker": {
             "colorbar": {
              "outlinewidth": 0,
              "ticks": ""
             }
            },
            "type": "scatterpolar"
           }
          ],
          "scatterpolargl": [
           {
            "marker": {
             "colorbar": {
              "outlinewidth": 0,
              "ticks": ""
             }
            },
            "type": "scatterpolargl"
           }
          ],
          "scatterternary": [
           {
            "marker": {
             "colorbar": {
              "outlinewidth": 0,
              "ticks": ""
             }
            },
            "type": "scatterternary"
           }
          ],
          "surface": [
           {
            "colorbar": {
             "outlinewidth": 0,
             "ticks": ""
            },
            "colorscale": [
             [
              0,
              "#0d0887"
             ],
             [
              0.1111111111111111,
              "#46039f"
             ],
             [
              0.2222222222222222,
              "#7201a8"
             ],
             [
              0.3333333333333333,
              "#9c179e"
             ],
             [
              0.4444444444444444,
              "#bd3786"
             ],
             [
              0.5555555555555556,
              "#d8576b"
             ],
             [
              0.6666666666666666,
              "#ed7953"
             ],
             [
              0.7777777777777778,
              "#fb9f3a"
             ],
             [
              0.8888888888888888,
              "#fdca26"
             ],
             [
              1,
              "#f0f921"
             ]
            ],
            "type": "surface"
           }
          ],
          "table": [
           {
            "cells": {
             "fill": {
              "color": "#EBF0F8"
             },
             "line": {
              "color": "white"
             }
            },
            "header": {
             "fill": {
              "color": "#C8D4E3"
             },
             "line": {
              "color": "white"
             }
            },
            "type": "table"
           }
          ]
         },
         "layout": {
          "annotationdefaults": {
           "arrowcolor": "#2a3f5f",
           "arrowhead": 0,
           "arrowwidth": 1
          },
          "autotypenumbers": "strict",
          "coloraxis": {
           "colorbar": {
            "outlinewidth": 0,
            "ticks": ""
           }
          },
          "colorscale": {
           "diverging": [
            [
             0,
             "#8e0152"
            ],
            [
             0.1,
             "#c51b7d"
            ],
            [
             0.2,
             "#de77ae"
            ],
            [
             0.3,
             "#f1b6da"
            ],
            [
             0.4,
             "#fde0ef"
            ],
            [
             0.5,
             "#f7f7f7"
            ],
            [
             0.6,
             "#e6f5d0"
            ],
            [
             0.7,
             "#b8e186"
            ],
            [
             0.8,
             "#7fbc41"
            ],
            [
             0.9,
             "#4d9221"
            ],
            [
             1,
             "#276419"
            ]
           ],
           "sequential": [
            [
             0,
             "#0d0887"
            ],
            [
             0.1111111111111111,
             "#46039f"
            ],
            [
             0.2222222222222222,
             "#7201a8"
            ],
            [
             0.3333333333333333,
             "#9c179e"
            ],
            [
             0.4444444444444444,
             "#bd3786"
            ],
            [
             0.5555555555555556,
             "#d8576b"
            ],
            [
             0.6666666666666666,
             "#ed7953"
            ],
            [
             0.7777777777777778,
             "#fb9f3a"
            ],
            [
             0.8888888888888888,
             "#fdca26"
            ],
            [
             1,
             "#f0f921"
            ]
           ],
           "sequentialminus": [
            [
             0,
             "#0d0887"
            ],
            [
             0.1111111111111111,
             "#46039f"
            ],
            [
             0.2222222222222222,
             "#7201a8"
            ],
            [
             0.3333333333333333,
             "#9c179e"
            ],
            [
             0.4444444444444444,
             "#bd3786"
            ],
            [
             0.5555555555555556,
             "#d8576b"
            ],
            [
             0.6666666666666666,
             "#ed7953"
            ],
            [
             0.7777777777777778,
             "#fb9f3a"
            ],
            [
             0.8888888888888888,
             "#fdca26"
            ],
            [
             1,
             "#f0f921"
            ]
           ]
          },
          "colorway": [
           "#636efa",
           "#EF553B",
           "#00cc96",
           "#ab63fa",
           "#FFA15A",
           "#19d3f3",
           "#FF6692",
           "#B6E880",
           "#FF97FF",
           "#FECB52"
          ],
          "font": {
           "color": "#2a3f5f"
          },
          "geo": {
           "bgcolor": "white",
           "lakecolor": "white",
           "landcolor": "#E5ECF6",
           "showlakes": true,
           "showland": true,
           "subunitcolor": "white"
          },
          "hoverlabel": {
           "align": "left"
          },
          "hovermode": "closest",
          "mapbox": {
           "style": "light"
          },
          "paper_bgcolor": "white",
          "plot_bgcolor": "#E5ECF6",
          "polar": {
           "angularaxis": {
            "gridcolor": "white",
            "linecolor": "white",
            "ticks": ""
           },
           "bgcolor": "#E5ECF6",
           "radialaxis": {
            "gridcolor": "white",
            "linecolor": "white",
            "ticks": ""
           }
          },
          "scene": {
           "xaxis": {
            "backgroundcolor": "#E5ECF6",
            "gridcolor": "white",
            "gridwidth": 2,
            "linecolor": "white",
            "showbackground": true,
            "ticks": "",
            "zerolinecolor": "white"
           },
           "yaxis": {
            "backgroundcolor": "#E5ECF6",
            "gridcolor": "white",
            "gridwidth": 2,
            "linecolor": "white",
            "showbackground": true,
            "ticks": "",
            "zerolinecolor": "white"
           },
           "zaxis": {
            "backgroundcolor": "#E5ECF6",
            "gridcolor": "white",
            "gridwidth": 2,
            "linecolor": "white",
            "showbackground": true,
            "ticks": "",
            "zerolinecolor": "white"
           }
          },
          "shapedefaults": {
           "line": {
            "color": "#2a3f5f"
           }
          },
          "ternary": {
           "aaxis": {
            "gridcolor": "white",
            "linecolor": "white",
            "ticks": ""
           },
           "baxis": {
            "gridcolor": "white",
            "linecolor": "white",
            "ticks": ""
           },
           "bgcolor": "#E5ECF6",
           "caxis": {
            "gridcolor": "white",
            "linecolor": "white",
            "ticks": ""
           }
          },
          "title": {
           "x": 0.05
          },
          "xaxis": {
           "automargin": true,
           "gridcolor": "white",
           "linecolor": "white",
           "ticks": "",
           "title": {
            "standoff": 15
           },
           "zerolinecolor": "white",
           "zerolinewidth": 2
          },
          "yaxis": {
           "automargin": true,
           "gridcolor": "white",
           "linecolor": "white",
           "ticks": "",
           "title": {
            "standoff": 15
           },
           "zerolinecolor": "white",
           "zerolinewidth": 2
          }
         }
        },
        "xaxis": {
         "title": {
          "text": "Date"
         }
        },
        "yaxis": {
         "title": {
          "text": "Death Percentage by Covid"
         }
        }
       }
      },
      "text/html": [
       "<div>                            <div id=\"fbeac984-18ea-4950-9022-6e09e911f6be\" class=\"plotly-graph-div\" style=\"height:525px; width:100%;\"></div>            <script type=\"text/javascript\">                require([\"plotly\"], function(Plotly) {                    window.PLOTLYENV=window.PLOTLYENV || {};                                    if (document.getElementById(\"fbeac984-18ea-4950-9022-6e09e911f6be\")) {                    Plotly.newPlot(                        \"fbeac984-18ea-4950-9022-6e09e911f6be\",                        [{\"line\":{\"width\":3},\"marker\":{\"color\":\"firebrick\"},\"mode\":\"lines\",\"name\":\"Real\",\"type\":\"scatter\",\"x\":[\"2020-04-02\",\"2020-04-03\",\"2020-04-04\",\"2020-04-05\",\"2020-04-06\",\"2020-04-07\",\"2020-04-08\",\"2020-04-09\",\"2020-04-10\",\"2020-04-11\",\"2020-04-12\",\"2020-04-13\",\"2020-04-14\",\"2020-04-15\",\"2020-04-16\",\"2020-04-17\",\"2020-04-18\",\"2020-04-19\",\"2020-04-20\",\"2020-04-21\",\"2020-04-22\",\"2020-04-23\",\"2020-04-24\",\"2020-04-25\",\"2020-04-26\",\"2020-04-27\",\"2020-04-28\",\"2020-04-29\",\"2020-04-30\",\"2020-05-01\",\"2020-05-02\",\"2020-05-03\",\"2020-05-04\",\"2020-05-05\",\"2020-05-06\",\"2020-05-07\",\"2020-05-08\",\"2020-05-09\",\"2020-05-10\",\"2020-05-11\",\"2020-05-12\",\"2020-05-13\",\"2020-05-14\",\"2020-05-15\",\"2020-05-16\",\"2020-05-17\",\"2020-05-18\",\"2020-05-19\",\"2020-05-20\",\"2020-05-21\",\"2020-05-22\",\"2020-05-23\",\"2020-05-24\",\"2020-05-25\",\"2020-05-26\",\"2020-05-27\",\"2020-05-28\",\"2020-05-29\",\"2020-05-30\",\"2020-05-31\",\"2020-06-01\",\"2020-06-02\",\"2020-06-03\",\"2020-06-04\",\"2020-06-05\",\"2020-06-06\",\"2020-06-07\",\"2020-06-08\",\"2020-06-09\",\"2020-06-10\",\"2020-06-11\",\"2020-06-12\",\"2020-06-13\",\"2020-06-14\",\"2020-06-15\",\"2020-06-16\",\"2020-06-17\",\"2020-06-18\",\"2020-06-19\",\"2020-06-20\",\"2020-06-21\",\"2020-06-22\",\"2020-06-23\",\"2020-06-24\",\"2020-06-25\",\"2020-06-26\",\"2020-06-27\",\"2020-06-28\",\"2020-06-29\",\"2020-06-30\",\"2020-07-01\",\"2020-07-02\",\"2020-07-03\",\"2020-07-04\",\"2020-07-05\",\"2020-07-06\",\"2020-07-07\",\"2020-07-08\",\"2020-07-09\",\"2020-07-10\",\"2020-07-11\",\"2020-07-12\",\"2020-07-13\",\"2020-07-14\",\"2020-07-15\",\"2020-07-16\",\"2020-07-17\",\"2020-07-18\",\"2020-07-19\",\"2020-07-20\",\"2020-07-21\",\"2020-07-22\",\"2020-07-23\",\"2020-07-24\",\"2020-07-25\",\"2020-07-26\",\"2020-07-27\",\"2020-07-28\",\"2020-07-29\",\"2020-07-30\",\"2020-07-31\",\"2020-08-01\",\"2020-08-02\",\"2020-08-03\",\"2020-08-04\",\"2020-08-05\",\"2020-08-06\",\"2020-08-07\",\"2020-08-08\",\"2020-08-09\",\"2020-08-10\",\"2020-08-11\",\"2020-08-12\",\"2020-08-13\",\"2020-08-14\",\"2020-08-15\",\"2020-08-16\",\"2020-08-17\",\"2020-08-18\",\"2020-08-19\",\"2020-08-20\",\"2020-08-21\",\"2020-08-22\",\"2020-08-23\",\"2020-08-24\",\"2020-08-25\",\"2020-08-26\",\"2020-08-27\",\"2020-08-28\",\"2020-08-29\",\"2020-08-30\",\"2020-08-31\",\"2020-09-01\",\"2020-09-02\",\"2020-09-03\",\"2020-09-04\",\"2020-09-05\",\"2020-09-06\",\"2020-09-07\",\"2020-09-08\",\"2020-09-09\",\"2020-09-10\",\"2020-09-11\",\"2020-09-12\",\"2020-09-13\",\"2020-09-14\",\"2020-09-15\",\"2020-09-16\",\"2020-09-17\",\"2020-09-18\",\"2020-09-19\",\"2020-09-20\",\"2020-09-21\",\"2020-09-22\",\"2020-09-23\",\"2020-09-24\",\"2020-09-25\",\"2020-09-26\",\"2020-09-27\",\"2020-09-28\",\"2020-09-29\",\"2020-09-30\",\"2020-10-01\",\"2020-10-02\",\"2020-10-03\",\"2020-10-04\",\"2020-10-05\",\"2020-10-06\",\"2020-10-07\",\"2020-10-08\",\"2020-10-09\",\"2020-10-10\",\"2020-10-11\",\"2020-10-12\",\"2020-10-13\",\"2020-10-14\",\"2020-10-15\",\"2020-10-16\",\"2020-10-17\",\"2020-10-18\",\"2020-10-19\",\"2020-10-20\",\"2020-10-21\",\"2020-10-22\",\"2020-10-23\",\"2020-10-24\",\"2020-10-25\",\"2020-10-26\",\"2020-10-27\",\"2020-10-28\",\"2020-10-29\",\"2020-10-30\",\"2020-10-31\"],\"y\":[0.0025425615958906697,0.002962097499750624,0.003455023814204655,0.003957407655797098,0.004468114121271343,0.005245522852048806,0.005927599709271076,0.006604758652381372,0.007267542154241281,0.008016956604689046,0.008621103438290801,0.009205200314359122,0.00997466472234032,0.010888261843910915,0.011608168809686832,0.012297811688619832,0.012948111254657037,0.013607111745661584,0.014307347054989605,0.015026875719679984,0.015879944667564743,0.016608930859393536,0.017263013436286105,0.018085818297327947,0.018499679684904853,0.01906410490452528,0.01982373348428253,0.020656374173548316,0.021454589464030286,0.022135909719081484,0.02272151979949195,0.023109656713252377,0.023533732230138767,0.024302818337034432,0.025088927992779234,0.025728635128421412,0.026324837639226908,0.026847271438352784,0.027181689597967025,0.027513081348896982,0.02801886990025925,0.028625286540374228,0.029246456922825126,0.02978969728165551,0.03020658507791671,0.030485392977957094,0.03237803330889609,0.032875120935291026,0.03341268677783836,0.03383941040232351,0.03424570576818969,0.0346523794351414,0.034875955376693454,0.03506775402706045,0.035281494140388565,0.03576950254073062,0.036139859303470835,0.0365575037019031,0.03689873128105701,0.037146140190997864,0.03740414153133374,0.03773515498117816,0.0380767608614176,0.03842290635468348,0.038728951932882484,0.038981657058020855,0.039149244438913516,0.03930321298072686,0.039603584042642824,0.03989411927633484,0.040172927176375224,0.0404422775492772,0.040697252480928786,0.04081755222612938,0.04094768779955393,0.041213633462686076,0.04146747349108105,0.04169558904565955,0.04191727348178393,0.04212382587448684,0.04222937187735152,0.042357615945348384,0.04259897203792066,0.042850542259802414,0.043707772519628076,0.043920377729699575,0.04409477453013189,0.04420032053299657,0.04432932120316451,0.04452376796113026,0.044757936333077335,0.04499361790936656,0.045214545743319866,0.04532198325161223,0.045430177362075656,0.045561069537671285,0.04587732924517978,0.04615916355390445,0.04650757885368355,0.046782982043954105,0.04703190415823711,0.047192303818504575,0.047340597844034875,0.04765383114285908,0.04797954837750599,0.04830829202083719,0.04861963381423371,0.04891546526312324,0.04907851303098946,0.04926955507918538,0.04963083261587272,0.05002464404591619,0.05038894799128782,0.050744551011692104,0.051050218288805585,0.05121553586318503,0.05153784838806211,0.05197781255054103,0.05239810505657205,0.052800239110497325,0.053256848520739856,0.053578026142360326,0.053725941866805085,0.05390412167809277,0.05429339349510981,0.054744328389069286,0.055140787926711524,0.055539895571952505,0.05589285048475804,0.056053628446111045,0.056254506322530914,0.05664113003194919,0.0571151412921264,0.05744501983871421,0.05788233589359438,0.05820237861195824,0.05837904521890377,0.058519773222723344,0.05892001577122094,0.05933122905119909,0.05973109329861114,0.06006135014628449,0.060344697659351305,0.060509258631559676,0.060656039452747834,0.061029422624172346,0.06138918695651753,0.061730036234585894,0.062017923360679156,0.06228462562598237,0.06241740930700568,0.06258764479549708,0.06289936488997916,0.0632296217376525,0.0635666880048655,0.06384511760382035,0.06405772281389185,0.06418407537646102,0.0642782723467596,0.0644182437484081,0.06477649487641116,0.06504622355039866,0.06539804355994758,0.06561102707110462,0.06573662303150274,0.06586524540058514,0.06621101259276548,0.06651176195576698,0.06676825009176071,0.06703230424946517,0.0672399915454247,0.0673239743864138,0.06743973451858797,0.06770303207412134,0.06801853517945877,0.06830226099361113,0.06857463777519739,0.06879594391023623,0.06887727864362658,0.06897223221609623,0.06922531564232014,0.0695007188325907,0.06974737114036048,0.06997699989928112,0.07016274573227953,0.07026186061669008,0.07039842730856875,0.07060081838933077,0.07085806312749558,0.07113611442536488,0.0713831450342202,0.07155754183465253,0.07169789153738657,0.0717947366152839,0.07203306629917187,0.07228766292973793,0.07253431523750771,0.07277869773876428,0.07296406527067714,0.07310290176906904,0.07322433641752625,0.07347250192963818,0.0737569843459616,0.073989261212481,0.07422645599311238,0.07445419324660534,0.07456390056141092,0.07469592764026316,0.07493766203392095,0.07520852561116508,0.07546577034932989,0.075721123582067,0.07596550608332357]},{\"line\":{\"width\":3},\"marker\":{\"color\":\"tomato\"},\"mode\":\"lines\",\"name\":\"Forecast\",\"type\":\"scatter\",\"x\":[\"2020-10-31\",\"2020-11-01\",\"2020-11-02\",\"2020-11-03\",\"2020-11-04\",\"2020-11-05\",\"2020-11-06\",\"2020-11-07\",\"2020-11-08\",\"2020-11-09\",\"2020-11-10\",\"2020-11-11\",\"2020-11-12\",\"2020-11-13\",\"2020-11-14\",\"2020-11-15\",\"2020-11-16\",\"2020-11-17\",\"2020-11-18\",\"2020-11-19\",\"2020-11-20\",\"2020-11-21\",\"2020-11-22\",\"2020-11-23\",\"2020-11-24\",\"2020-11-25\",\"2020-11-26\",\"2020-11-27\",\"2020-11-28\",\"2020-11-29\",\"2020-11-30\",\"2020-12-01\",\"2020-12-02\",\"2020-12-03\",\"2020-12-04\",\"2020-12-05\",\"2020-12-06\",\"2020-12-07\",\"2020-12-08\",\"2020-12-09\",\"2020-12-10\",\"2020-12-11\",\"2020-12-12\",\"2020-12-13\",\"2020-12-14\",\"2020-12-15\",\"2020-12-16\",\"2020-12-17\",\"2020-12-18\",\"2020-12-19\",\"2020-12-20\",\"2020-12-21\",\"2020-12-22\",\"2020-12-23\",\"2020-12-24\",\"2020-12-25\",\"2020-12-26\",\"2020-12-27\",\"2020-12-28\",\"2020-12-29\",\"2020-12-30\",\"2020-12-31\",\"2021-01-01\",\"2021-01-02\",\"2021-01-03\",\"2021-01-04\",\"2021-01-05\",\"2021-01-06\",\"2021-01-07\",\"2021-01-08\",\"2021-01-09\",\"2021-01-10\",\"2021-01-11\",\"2021-01-12\",\"2021-01-13\"],\"y\":[0.07658201456069946,0.07721758633852005,0.07787303626537323,0.07854919880628586,0.07924699038267136,0.07996734976768494,0.08071129024028778,0.08147986978292465,0.08227421343326569,0.08309552073478699,0.08394505828619003,0.08482417464256287,0.0857343077659607,0.08667696267366409,0.0876537635922432,0.08866643905639648,0.0897168219089508,0.09080687910318375,0.09193870425224304,0.09311451762914658,0.09433674067258835,0.0956079289317131,0.0969308391213417,0.09830844402313232,0.09974389523267746,0.1012406125664711,0.10280228406190872,0.10443287342786789,0.10613665729761124,0.10791827738285065,0.10978273302316666,0.11173544079065323,0.11378231644630432,0.1159297302365303,0.1181846484541893,0.12055464833974838,0.12304798513650894,0.12567369639873505,0.12844163179397583,0.13136261701583862,0.13444849848747253,0.1377122849225998,0.14116829633712769,0.1448323130607605,0.14872175455093384,0.15285584330558777,0.15725582838058472,0.16194526851177216,0.16695024073123932,0.17229975759983063,0.17802594602108002,0.1841646134853363,0.19075548648834229,0.1978427767753601,0.20547564327716827,0.21370868384838104,0.22260239720344543,0.2322237491607666,0.2426465004682541,0.2539515495300293,0.2662270963191986,0.27956822514533997,0.29407623410224915,0.3098573088645935,0.32701992988586426,0.345671147108078,0.3659113645553589,0.3878268003463745,0.4114797115325928,0.43689683079719543,0.46405544877052307,0.49286916851997375,0.5231742858886719,0.5547201037406921,0.5871659517288208]},{\"line\":{\"width\":3},\"marker\":{\"color\":\"forestgreen\"},\"mode\":\"lines\",\"name\":\"Real\",\"type\":\"scatter\",\"x\":[\"2020-04-02\",\"2020-04-03\",\"2020-04-04\",\"2020-04-05\",\"2020-04-06\",\"2020-04-07\",\"2020-04-08\",\"2020-04-09\",\"2020-04-10\",\"2020-04-11\",\"2020-04-12\",\"2020-04-13\",\"2020-04-14\",\"2020-04-15\",\"2020-04-16\",\"2020-04-17\",\"2020-04-18\",\"2020-04-19\",\"2020-04-20\",\"2020-04-21\",\"2020-04-22\",\"2020-04-23\",\"2020-04-24\",\"2020-04-25\",\"2020-04-26\",\"2020-04-27\",\"2020-04-28\",\"2020-04-29\",\"2020-04-30\",\"2020-05-01\",\"2020-05-02\",\"2020-05-03\",\"2020-05-04\",\"2020-05-05\",\"2020-05-06\",\"2020-05-07\",\"2020-05-08\",\"2020-05-09\",\"2020-05-10\",\"2020-05-11\",\"2020-05-12\",\"2020-05-13\",\"2020-05-14\",\"2020-05-15\",\"2020-05-16\",\"2020-05-17\",\"2020-05-18\",\"2020-05-19\",\"2020-05-20\",\"2020-05-21\",\"2020-05-22\",\"2020-05-23\",\"2020-05-24\",\"2020-05-25\",\"2020-05-26\",\"2020-05-27\",\"2020-05-28\",\"2020-05-29\",\"2020-05-30\",\"2020-05-31\",\"2020-06-01\",\"2020-06-02\",\"2020-06-03\",\"2020-06-04\",\"2020-06-05\",\"2020-06-06\",\"2020-06-07\",\"2020-06-08\",\"2020-06-09\",\"2020-06-10\",\"2020-06-11\",\"2020-06-12\",\"2020-06-13\",\"2020-06-14\",\"2020-06-15\",\"2020-06-16\",\"2020-06-17\",\"2020-06-18\",\"2020-06-19\",\"2020-06-20\",\"2020-06-21\",\"2020-06-22\",\"2020-06-23\",\"2020-06-24\",\"2020-06-25\",\"2020-06-26\",\"2020-06-27\",\"2020-06-28\",\"2020-06-29\",\"2020-06-30\",\"2020-07-01\",\"2020-07-02\",\"2020-07-03\",\"2020-07-04\",\"2020-07-05\",\"2020-07-06\",\"2020-07-07\",\"2020-07-08\",\"2020-07-09\",\"2020-07-10\",\"2020-07-11\",\"2020-07-12\",\"2020-07-13\",\"2020-07-14\",\"2020-07-15\",\"2020-07-16\",\"2020-07-17\",\"2020-07-18\",\"2020-07-19\",\"2020-07-20\",\"2020-07-21\",\"2020-07-22\",\"2020-07-23\",\"2020-07-24\",\"2020-07-25\",\"2020-07-26\",\"2020-07-27\",\"2020-07-28\",\"2020-07-29\",\"2020-07-30\",\"2020-07-31\",\"2020-08-01\",\"2020-08-02\",\"2020-08-03\",\"2020-08-04\",\"2020-08-05\",\"2020-08-06\",\"2020-08-07\",\"2020-08-08\",\"2020-08-09\",\"2020-08-10\",\"2020-08-11\",\"2020-08-12\",\"2020-08-13\",\"2020-08-14\",\"2020-08-15\",\"2020-08-16\",\"2020-08-17\",\"2020-08-18\",\"2020-08-19\",\"2020-08-20\",\"2020-08-21\",\"2020-08-22\",\"2020-08-23\",\"2020-08-24\",\"2020-08-25\",\"2020-08-26\",\"2020-08-27\",\"2020-08-28\",\"2020-08-29\",\"2020-08-30\",\"2020-08-31\",\"2020-09-01\",\"2020-09-02\",\"2020-09-03\",\"2020-09-04\",\"2020-09-05\",\"2020-09-06\",\"2020-09-07\",\"2020-09-08\",\"2020-09-09\",\"2020-09-10\",\"2020-09-11\",\"2020-09-12\",\"2020-09-13\",\"2020-09-14\",\"2020-09-15\",\"2020-09-16\",\"2020-09-17\",\"2020-09-18\",\"2020-09-19\",\"2020-09-20\",\"2020-09-21\",\"2020-09-22\",\"2020-09-23\",\"2020-09-24\",\"2020-09-25\",\"2020-09-26\",\"2020-09-27\",\"2020-09-28\",\"2020-09-29\",\"2020-09-30\",\"2020-10-01\",\"2020-10-02\",\"2020-10-03\",\"2020-10-04\",\"2020-10-05\",\"2020-10-06\",\"2020-10-07\",\"2020-10-08\",\"2020-10-09\",\"2020-10-10\",\"2020-10-11\",\"2020-10-12\",\"2020-10-13\",\"2020-10-14\",\"2020-10-15\",\"2020-10-16\",\"2020-10-17\",\"2020-10-18\",\"2020-10-19\",\"2020-10-20\",\"2020-10-21\",\"2020-10-22\",\"2020-10-23\",\"2020-10-24\",\"2020-10-25\",\"2020-10-26\",\"2020-10-27\",\"2020-10-28\",\"2020-10-29\",\"2020-10-30\",\"2020-10-31\"],\"y\":[0.0005658044192719972,0.000691265399197527,0.0008044262830519263,0.0008856069171213868,0.0009692475704050733,0.001252149780041072,0.0014095910097515407,0.0015867123931758182,0.0017908939879565824,0.0019606353137381818,0.002078716236021033,0.002209097254375015,0.0024723193102972048,0.0026568207513641604,0.0028413221924311165,0.003052883844854559,0.0032496853819926445,0.00336530628506127,0.003601468129626973,0.003830249916549998,0.004194332760255458,0.0044870750467483605,0.0047158568336713854,0.004890518197881436,0.004998759043307384,0.005166040349874757,0.005444022521082304,0.005729384749932528,0.006076247459138404,0.006317329342132559,0.006568251301983619,0.006678952166623793,0.006873293684547653,0.007193096182397043,0.007360377488964415,0.007640819679386188,0.007830241158881595,0.00809100319558956,0.008201704060229733,0.008386205501296689,0.008762588441073277,0.008939709824497554,0.00916849161142058,0.009512894301412231,0.009692475704050735,0.009795796511048229,0.009904037356474176,0.010186939566110175,0.010491981948674208,0.010715843697168782,0.010910185215092641,0.011082386560088467,0.011220147636085127,0.01134314859679643,0.011498129807292673,0.01174413172871528,0.011958153400352948,0.012152494918276809,0.012317316205629956,0.012575618223123695,0.01269615916462077,0.012880660605687726,0.01306762206596891,0.01327918371839235,0.013478445274744661,0.013608826293098645,0.013638346523669359,0.013756427445952209,0.013936008848590713,0.014088530039872729,0.014277951519368136,0.014504273287076937,0.01468385468971544,0.014730595054785736,0.014804395631212518,0.01497167693777989,0.015141418263561489,0.015247199089773211,0.01534805987755648,0.01542924051162594,0.015475980876696237,0.015586681741336407,0.015788403316902948,0.01587942402782931,0.016150026141394182,0.016260727006034353,0.016383727966745656,0.016415708216530597,0.016496888850600057,0.016654330080310524,0.016779791060236054,0.0169446123475892,0.01709713353887122,0.017143873903941512,0.017193074288226036,0.017242274672510556,0.01740463594064948,0.017562077170359947,0.017719518400070414,0.017854819456852848,0.01797536039834993,0.01804178091713403,0.01810574141670391,0.01823612243505789,0.018420623876124847,0.01856084497133573,0.018696146028118164,0.01885604727704286,0.01893968793032655,0.01900364842989643,0.019244730312890583,0.019544852657026164,0.019739194174950025,0.019995036173229536,0.020194297729581846,0.020383719209077254,0.020762562168068068,0.021092204742774363,0.021431687394337564,0.021712129584759335,0.022041772159465626,0.022280394023245557,0.02239109488788573,0.022555916175238878,0.02291261896130166,0.023239801516793727,0.023485803438216334,0.023741645436495845,0.02399010737713268,0.02412786845312934,0.024268089548340227,0.024681372776330205,0.025089735965891737,0.025409538463741124,0.025672760519663315,0.0259827229406558,0.026130324093509367,0.02627792524636293,0.02656820751364161,0.026944590453418196,0.02719797243248348,0.027559595256974715,0.027852337543467616,0.02801961885003499,0.02814999986838897,0.028580503230878535,0.0289544261514409,0.029308668918289454,0.029660451665923782,0.02999501427905853,0.030132775355055187,0.03030005666162256,0.030656759447685342,0.031047902502747287,0.03129636444338412,0.031638307114161546,0.031982709804153193,0.03217705132207706,0.03226807203300342,0.032398453051357405,0.032769915952705536,0.03314875891169635,0.03348824156325956,0.03375884367682443,0.03392366496417757,0.034076186155459584,0.03449438942187802,0.03486585232322616,0.03517089470579019,0.0354931572228538,0.03577851945170403,0.03584001993205968,0.03602206135391241,0.03641320440897435,0.03683632771382124,0.037079869616029625,0.0374365724020924,0.0377096345348715,0.03786461574536774,0.03802943703272089,0.038349239530570275,0.03866904202841967,0.03900114462234019,0.039362767446831426,0.03963336956039629,0.039795730828535214,0.03997777225038794,0.04025083438316703,0.04055341674651684,0.04092241962865075,0.041426723567567096,0.041746526065416484,0.041896587237484274,0.042046648409552065,0.04230495042704581,0.04268871342446508,0.04297899569174375,0.04337751880444837,0.043817862243794845,0.04397284345429108,0.04422130539492792,0.04464688871898903,0.04514627261947692,0.045557095828252674,0.04602941951738408,0.04659522393665608,0.04681170562750797,0.047033107356788326,0.04758415166077496,0.048110595772619336,0.04859029951939343,0.049097063477523996,0.04955216703215582]},{\"line\":{\"width\":3},\"marker\":{\"color\":\"limegreen\"},\"mode\":\"lines\",\"name\":\"Forecast\",\"type\":\"scatter\",\"x\":[\"2020-10-31\",\"2020-11-01\",\"2020-11-02\",\"2020-11-03\",\"2020-11-04\",\"2020-11-05\",\"2020-11-06\",\"2020-11-07\",\"2020-11-08\",\"2020-11-09\",\"2020-11-10\",\"2020-11-11\",\"2020-11-12\",\"2020-11-13\",\"2020-11-14\",\"2020-11-15\",\"2020-11-16\",\"2020-11-17\",\"2020-11-18\",\"2020-11-19\",\"2020-11-20\",\"2020-11-21\",\"2020-11-22\",\"2020-11-23\",\"2020-11-24\",\"2020-11-25\",\"2020-11-26\",\"2020-11-27\",\"2020-11-28\",\"2020-11-29\",\"2020-11-30\",\"2020-12-01\",\"2020-12-02\",\"2020-12-03\",\"2020-12-04\",\"2020-12-05\",\"2020-12-06\",\"2020-12-07\",\"2020-12-08\",\"2020-12-09\",\"2020-12-10\",\"2020-12-11\",\"2020-12-12\",\"2020-12-13\",\"2020-12-14\",\"2020-12-15\",\"2020-12-16\",\"2020-12-17\",\"2020-12-18\",\"2020-12-19\",\"2020-12-20\",\"2020-12-21\",\"2020-12-22\",\"2020-12-23\",\"2020-12-24\",\"2020-12-25\",\"2020-12-26\",\"2020-12-27\",\"2020-12-28\",\"2020-12-29\",\"2020-12-30\",\"2020-12-31\",\"2021-01-01\",\"2021-01-02\",\"2021-01-03\",\"2021-01-04\",\"2021-01-05\",\"2021-01-06\",\"2021-01-07\",\"2021-01-08\",\"2021-01-09\",\"2021-01-10\",\"2021-01-11\",\"2021-01-12\",\"2021-01-13\"],\"y\":[0.05004824697971344,0.05055495351552963,0.0510726273059845,0.05160163715481758,0.05214235931634903,0.052695177495479584,0.05326051265001297,0.05383878946304321,0.05443046614527702,0.05503600090742111,0.05565588176250458,0.05629061162471771,0.056940726935863495,0.057606786489486694,0.05828937143087387,0.05898909270763397,0.05970658361911774,0.06044251471757889,0.06119759380817413,0.061972543597221375,0.0627681240439415,0.06358515471220016,0.06442447006702423,0.06528696417808533,0.06617356091737747,0.06708524376153946,0.06802304089069366,0.06898801028728485,0.06998130679130554,0.07100410014390945,0.07205766439437866,0.07314329594373703,0.07426240295171738,0.0754164382815361,0.07660692930221558,0.07783550024032593,0.07910386472940445,0.080413818359375,0.0817672535777092,0.08316617459058762,0.08461268991231918,0.0861089900135994,0.08765744417905807,0.0892605111002922,0.09092079848051071,0.09264103323221207,0.09442415088415146,0.09627313911914825,0.09819125384092331,0.10018187016248703,0.10224853456020355,0.10439497977495193,0.10662514716386795,0.1089431643486023,0.11135334521532059,0.11386024206876755,0.11646857112646103,0.11918328702449799,0.1220095157623291,0.12495258450508118,0.12801805138587952,0.13121159374713898,0.13453903794288635,0.13800635933876038,0.14161962270736694,0.14538493752479553,0.14930838346481323,0.15339601039886475,0.15765361487865448,0.16208681464195251,0.1667008399963379,0.17150041460990906,0.17648965120315552,0.18167179822921753,0.1870490461587906]},{\"line\":{\"width\":3},\"marker\":{\"color\":\"blue\"},\"mode\":\"lines\",\"name\":\"Real\",\"type\":\"scatter\",\"x\":[\"2020-04-02\",\"2020-04-03\",\"2020-04-04\",\"2020-04-05\",\"2020-04-06\",\"2020-04-07\",\"2020-04-08\",\"2020-04-09\",\"2020-04-10\",\"2020-04-11\",\"2020-04-12\",\"2020-04-13\",\"2020-04-14\",\"2020-04-15\",\"2020-04-16\",\"2020-04-17\",\"2020-04-18\",\"2020-04-19\",\"2020-04-20\",\"2020-04-21\",\"2020-04-22\",\"2020-04-23\",\"2020-04-24\",\"2020-04-25\",\"2020-04-26\",\"2020-04-27\",\"2020-04-28\",\"2020-04-29\",\"2020-04-30\",\"2020-05-01\",\"2020-05-02\",\"2020-05-03\",\"2020-05-04\",\"2020-05-05\",\"2020-05-06\",\"2020-05-07\",\"2020-05-08\",\"2020-05-09\",\"2020-05-10\",\"2020-05-11\",\"2020-05-12\",\"2020-05-13\",\"2020-05-14\",\"2020-05-15\",\"2020-05-16\",\"2020-05-17\",\"2020-05-18\",\"2020-05-19\",\"2020-05-20\",\"2020-05-21\",\"2020-05-22\",\"2020-05-23\",\"2020-05-24\",\"2020-05-25\",\"2020-05-26\",\"2020-05-27\",\"2020-05-28\",\"2020-05-29\",\"2020-05-30\",\"2020-05-31\",\"2020-06-01\",\"2020-06-02\",\"2020-06-03\",\"2020-06-04\",\"2020-06-05\",\"2020-06-06\",\"2020-06-07\",\"2020-06-08\",\"2020-06-09\",\"2020-06-10\",\"2020-06-11\",\"2020-06-12\",\"2020-06-13\",\"2020-06-14\",\"2020-06-15\",\"2020-06-16\",\"2020-06-17\",\"2020-06-18\",\"2020-06-19\",\"2020-06-20\",\"2020-06-21\",\"2020-06-22\",\"2020-06-23\",\"2020-06-24\",\"2020-06-25\",\"2020-06-26\",\"2020-06-27\",\"2020-06-28\",\"2020-06-29\",\"2020-06-30\",\"2020-07-01\",\"2020-07-02\",\"2020-07-03\",\"2020-07-04\",\"2020-07-05\",\"2020-07-06\",\"2020-07-07\",\"2020-07-08\",\"2020-07-09\",\"2020-07-10\",\"2020-07-11\",\"2020-07-12\",\"2020-07-13\",\"2020-07-14\",\"2020-07-15\",\"2020-07-16\",\"2020-07-17\",\"2020-07-18\",\"2020-07-19\",\"2020-07-20\",\"2020-07-21\",\"2020-07-22\",\"2020-07-23\",\"2020-07-24\",\"2020-07-25\",\"2020-07-26\",\"2020-07-27\",\"2020-07-28\",\"2020-07-29\",\"2020-07-30\",\"2020-07-31\",\"2020-08-01\",\"2020-08-02\",\"2020-08-03\",\"2020-08-04\",\"2020-08-05\",\"2020-08-06\",\"2020-08-07\",\"2020-08-08\",\"2020-08-09\",\"2020-08-10\",\"2020-08-11\",\"2020-08-12\",\"2020-08-13\",\"2020-08-14\",\"2020-08-15\",\"2020-08-16\",\"2020-08-17\",\"2020-08-18\",\"2020-08-19\",\"2020-08-20\",\"2020-08-21\",\"2020-08-22\",\"2020-08-23\",\"2020-08-24\",\"2020-08-25\",\"2020-08-26\",\"2020-08-27\",\"2020-08-28\",\"2020-08-29\",\"2020-08-30\",\"2020-08-31\",\"2020-09-01\",\"2020-09-02\",\"2020-09-03\",\"2020-09-04\",\"2020-09-05\",\"2020-09-06\",\"2020-09-07\",\"2020-09-08\",\"2020-09-09\",\"2020-09-10\",\"2020-09-11\",\"2020-09-12\",\"2020-09-13\",\"2020-09-14\",\"2020-09-15\",\"2020-09-16\",\"2020-09-17\",\"2020-09-18\",\"2020-09-19\",\"2020-09-20\",\"2020-09-21\",\"2020-09-22\",\"2020-09-23\",\"2020-09-24\",\"2020-09-25\",\"2020-09-26\",\"2020-09-27\",\"2020-09-28\",\"2020-09-29\",\"2020-09-30\",\"2020-10-01\",\"2020-10-02\",\"2020-10-03\",\"2020-10-04\",\"2020-10-05\",\"2020-10-06\",\"2020-10-07\",\"2020-10-08\",\"2020-10-09\",\"2020-10-10\",\"2020-10-11\",\"2020-10-12\",\"2020-10-13\",\"2020-10-14\",\"2020-10-15\",\"2020-10-16\",\"2020-10-17\",\"2020-10-18\",\"2020-10-19\",\"2020-10-20\",\"2020-10-21\",\"2020-10-22\",\"2020-10-23\",\"2020-10-24\",\"2020-10-25\",\"2020-10-26\",\"2020-10-27\",\"2020-10-28\",\"2020-10-29\",\"2020-10-30\",\"2020-10-31\"],\"y\":[0.0006656961291062706,0.0008466620671157422,0.00092421889769123,0.0010211649359105899,0.0011245740433445737,0.0012926138429247974,0.001467116711719645,0.001538210473080509,0.0016610087881583644,0.0017708809648069722,0.0018225855185239643,0.0019259946259579481,0.0020423298718211798,0.002184517394542908,0.002384872540196251,0.002565838478205723,0.0026692475856397065,0.0027468044162151945,0.002876065800507674,0.003108736292234138,0.0034771312374677053,0.0037162647984087926,0.0038907676672036403,0.004013565982281496,0.0040717336052131115,0.004207458058720215,0.004336719443012695,0.0045564637963099106,0.004769745080392502,0.004937784879972726,0.005286790617562421,0.005351421309708661,0.005474219624786517,0.005706890116512981,0.005661648632010612,0.005849077639234708,0.006036506646458804,0.006204546446039027,0.006262714068970643,0.0063402708995461314,0.006527699906770227,0.00672805505242357,0.006818538021428306,0.0073097312817397295,0.007477771081319953,0.00755532791189544,0.007697515434617168,0.00784616602655352,0.008124078002782352,0.00826626552550408,0.00844723146351355,0.008582955917020654,0.008660512747596142,0.008763921855030126,0.008880257100893357,0.009003055415971213,0.00919048442319531,0.009345598084346285,0.00946839639942414,0.009533027091570381,0.009584731645287371,0.009720456098794477,0.009804475998584587,0.009972515798164812,0.010108240251671915,0.0102116493591059,0.010256890843608266,0.010334447674183754,0.010483098266120107,0.010612359650412587,0.010702842619417322,0.010890271626641418,0.010948439249573033,0.010993680734075402,0.011077700633865513,0.011161720533655625,0.011278055779518856,0.011381464886952842,0.011465484786742952,0.011549504686533065,0.011601209240250057,0.011665839932396296,0.011762785970615655,0.011846805870405768,0.011963141116269,0.012047161016059111,0.012163496261922344,0.012208737746424711,0.012247516161712456,0.01237031447679031,0.012486649722653542,0.012609448037731398,0.012719320214380008,0.012777487837311623,0.012829192391028614,0.012861507737101733,0.013023084467467333,0.013087715159613574,0.013216976543906054,0.013365627135842405,0.013481962381705636,0.01350135158934951,0.013540130004637252,0.013598297627568867,0.013746948219505221,0.013856820396153827,0.013986081780446307,0.014089490887880292,0.014115343164738788,0.014167047718455778,0.014328624448821378,0.014438496625469987,0.014528979594474724,0.014651777909552579,0.01480042850148893,0.014871522262849794,0.0149813944394984,0.015194675723580991,0.015433809284522081,0.015621238291746177,0.015815130368184896,0.015976707098550494,0.01602841165226749,0.016086579275199103,0.016338638974569438,0.01651960491257891,0.016855684511739355,0.017049576588178076,0.017217616387758303,0.017353340841265403,0.017456749948699387,0.017695883509640475,0.017889775586079196,0.018083667662517913,0.01829048587738588,0.018587787061258586,0.018684733099477945,0.018813994483770427,0.019033738837067642,0.019253483190364858,0.019505542889735192,0.019815770212037145,0.019996736150046615,0.0201001452574806,0.020203554364914583,0.02044268792585567,0.020668895348367508,0.02086278742480623,0.02110838405496194,0.021276423854542165,0.02145092672333701,0.02160604038448799,0.02189041542993144,0.02225881037516501,0.022355756413384373,0.022543185420608465,0.02275646670469106,0.022898654227412784,0.02298913719641752,0.023079620165422254,0.02337692134929496,0.023628981048665294,0.023926282232538,0.024062006686045103,0.024197731139552207,0.0242494356932692,0.024721239745936745,0.024947447168448586,0.025141339244887307,0.025341694390540653,0.025626069435984108,0.025716552404988845,0.02591044448142756,0.026175430319227148,0.02642749001859748,0.02666016051032395,0.02709318614770375,0.027371098123932583,0.027487433369795814,0.027629620892517543,0.027933385145604873,0.028340558506126184,0.02872834265900362,0.029174294434812675,0.02949098482632925,0.029659024625909476,0.02989169511763594,0.03018899630150864,0.03073835718475168,0.031229550445063103,0.03172720677458915,0.03204389716610573,0.03221840003490058,0.03254155349563177,0.03289702230243609,0.03345930932410838,0.03382124120012732,0.03431889752965337,0.034907036828184156,0.035210801081271476,0.03555334374964655,0.03608331542524572,0.03678778996963973,0.037440559960316755,0.03810625608942302,0.03880426756460242,0.03919205171747986,0.039657392700932784,0.04032308883003905,0.04088537585171134,0.04156399811924685,0.042249083455997,0.04277259206238155]},{\"line\":{\"width\":3},\"marker\":{\"color\":\"skyblue\"},\"mode\":\"lines\",\"name\":\"Forecast\",\"type\":\"scatter\",\"x\":[\"2020-10-31\",\"2020-11-01\",\"2020-11-02\",\"2020-11-03\",\"2020-11-04\",\"2020-11-05\",\"2020-11-06\",\"2020-11-07\",\"2020-11-08\",\"2020-11-09\",\"2020-11-10\",\"2020-11-11\",\"2020-11-12\",\"2020-11-13\",\"2020-11-14\",\"2020-11-15\",\"2020-11-16\",\"2020-11-17\",\"2020-11-18\",\"2020-11-19\",\"2020-11-20\",\"2020-11-21\",\"2020-11-22\",\"2020-11-23\",\"2020-11-24\",\"2020-11-25\",\"2020-11-26\",\"2020-11-27\",\"2020-11-28\",\"2020-11-29\",\"2020-11-30\",\"2020-12-01\",\"2020-12-02\",\"2020-12-03\",\"2020-12-04\",\"2020-12-05\",\"2020-12-06\",\"2020-12-07\",\"2020-12-08\",\"2020-12-09\",\"2020-12-10\",\"2020-12-11\",\"2020-12-12\",\"2020-12-13\",\"2020-12-14\",\"2020-12-15\",\"2020-12-16\",\"2020-12-17\",\"2020-12-18\",\"2020-12-19\",\"2020-12-20\",\"2020-12-21\",\"2020-12-22\",\"2020-12-23\",\"2020-12-24\",\"2020-12-25\",\"2020-12-26\",\"2020-12-27\",\"2020-12-28\",\"2020-12-29\",\"2020-12-30\",\"2020-12-31\",\"2021-01-01\",\"2021-01-02\",\"2021-01-03\",\"2021-01-04\",\"2021-01-05\",\"2021-01-06\",\"2021-01-07\",\"2021-01-08\",\"2021-01-09\",\"2021-01-10\",\"2021-01-11\",\"2021-01-12\",\"2021-01-13\"],\"y\":[0.04294014722108841,0.043109189718961716,0.043279748409986496,0.04345184192061424,0.04362550377845764,0.04380074143409729,0.043977584689855576,0.04415605962276459,0.04433619603514671,0.04451802372932434,0.044701553881168365,0.04488682001829147,0.04507385566830635,0.04526268690824509,0.045453332364559174,0.045645833015441895,0.04584021493792534,0.046036507934331894,0.04623473435640335,0.04643493890762329,0.046637147665023804,0.046841394156217575,0.04704771935939789,0.04725614935159683,0.04746672138571739,0.04767947643995285,0.047894444316625595,0.04811166226863861,0.04833117499947548,0.048553016036748886,0.04877723008394241,0.049003858119249344,0.04923293739557266,0.04946451261639595,0.04969863221049309,0.049935340881347656,0.050174687057733536,0.05041670426726341,0.050661444664001465,0.05090896785259247,0.051159314811229706,0.05141254514455795,0.05166871100664139,0.051927853375673294,0.05219004675745964,0.05245533585548401,0.05272378399968147,0.05299544706940651,0.05327038839459419,0.053548671305179596,0.053830359131097794,0.05411551892757416,0.05440421402454376,0.054696518927812576,0.05499250441789627,0.05529223755002022,0.055595800280570984,0.05590326711535454,0.05621471256017685,0.056530218571424484,0.056849874556064606,0.05717375501990318,0.05750195309519768,0.05783455818891525,0.05817166343331337,0.05851336196064949,0.058859750628471375,0.05921093374490738,0.059567008167505264,0.059928085654973984,0.060294259339571,0.060665663331747055,0.06104239821434021,0.06142458692193031,0.06181234121322632]}],                        {\"hovermode\":\"x\",\"legend\":{\"bgcolor\":\"rgba(0,0,0,0)\"},\"margin\":{\"b\":50,\"l\":60,\"r\":10,\"t\":20},\"template\":{\"data\":{\"bar\":[{\"error_x\":{\"color\":\"#2a3f5f\"},\"error_y\":{\"color\":\"#2a3f5f\"},\"marker\":{\"line\":{\"color\":\"#E5ECF6\",\"width\":0.5},\"pattern\":{\"fillmode\":\"overlay\",\"size\":10,\"solidity\":0.2}},\"type\":\"bar\"}],\"barpolar\":[{\"marker\":{\"line\":{\"color\":\"#E5ECF6\",\"width\":0.5},\"pattern\":{\"fillmode\":\"overlay\",\"size\":10,\"solidity\":0.2}},\"type\":\"barpolar\"}],\"carpet\":[{\"aaxis\":{\"endlinecolor\":\"#2a3f5f\",\"gridcolor\":\"white\",\"linecolor\":\"white\",\"minorgridcolor\":\"white\",\"startlinecolor\":\"#2a3f5f\"},\"baxis\":{\"endlinecolor\":\"#2a3f5f\",\"gridcolor\":\"white\",\"linecolor\":\"white\",\"minorgridcolor\":\"white\",\"startlinecolor\":\"#2a3f5f\"},\"type\":\"carpet\"}],\"choropleth\":[{\"colorbar\":{\"outlinewidth\":0,\"ticks\":\"\"},\"type\":\"choropleth\"}],\"contour\":[{\"colorbar\":{\"outlinewidth\":0,\"ticks\":\"\"},\"colorscale\":[[0.0,\"#0d0887\"],[0.1111111111111111,\"#46039f\"],[0.2222222222222222,\"#7201a8\"],[0.3333333333333333,\"#9c179e\"],[0.4444444444444444,\"#bd3786\"],[0.5555555555555556,\"#d8576b\"],[0.6666666666666666,\"#ed7953\"],[0.7777777777777778,\"#fb9f3a\"],[0.8888888888888888,\"#fdca26\"],[1.0,\"#f0f921\"]],\"type\":\"contour\"}],\"contourcarpet\":[{\"colorbar\":{\"outlinewidth\":0,\"ticks\":\"\"},\"type\":\"contourcarpet\"}],\"heatmap\":[{\"colorbar\":{\"outlinewidth\":0,\"ticks\":\"\"},\"colorscale\":[[0.0,\"#0d0887\"],[0.1111111111111111,\"#46039f\"],[0.2222222222222222,\"#7201a8\"],[0.3333333333333333,\"#9c179e\"],[0.4444444444444444,\"#bd3786\"],[0.5555555555555556,\"#d8576b\"],[0.6666666666666666,\"#ed7953\"],[0.7777777777777778,\"#fb9f3a\"],[0.8888888888888888,\"#fdca26\"],[1.0,\"#f0f921\"]],\"type\":\"heatmap\"}],\"heatmapgl\":[{\"colorbar\":{\"outlinewidth\":0,\"ticks\":\"\"},\"colorscale\":[[0.0,\"#0d0887\"],[0.1111111111111111,\"#46039f\"],[0.2222222222222222,\"#7201a8\"],[0.3333333333333333,\"#9c179e\"],[0.4444444444444444,\"#bd3786\"],[0.5555555555555556,\"#d8576b\"],[0.6666666666666666,\"#ed7953\"],[0.7777777777777778,\"#fb9f3a\"],[0.8888888888888888,\"#fdca26\"],[1.0,\"#f0f921\"]],\"type\":\"heatmapgl\"}],\"histogram\":[{\"marker\":{\"pattern\":{\"fillmode\":\"overlay\",\"size\":10,\"solidity\":0.2}},\"type\":\"histogram\"}],\"histogram2d\":[{\"colorbar\":{\"outlinewidth\":0,\"ticks\":\"\"},\"colorscale\":[[0.0,\"#0d0887\"],[0.1111111111111111,\"#46039f\"],[0.2222222222222222,\"#7201a8\"],[0.3333333333333333,\"#9c179e\"],[0.4444444444444444,\"#bd3786\"],[0.5555555555555556,\"#d8576b\"],[0.6666666666666666,\"#ed7953\"],[0.7777777777777778,\"#fb9f3a\"],[0.8888888888888888,\"#fdca26\"],[1.0,\"#f0f921\"]],\"type\":\"histogram2d\"}],\"histogram2dcontour\":[{\"colorbar\":{\"outlinewidth\":0,\"ticks\":\"\"},\"colorscale\":[[0.0,\"#0d0887\"],[0.1111111111111111,\"#46039f\"],[0.2222222222222222,\"#7201a8\"],[0.3333333333333333,\"#9c179e\"],[0.4444444444444444,\"#bd3786\"],[0.5555555555555556,\"#d8576b\"],[0.6666666666666666,\"#ed7953\"],[0.7777777777777778,\"#fb9f3a\"],[0.8888888888888888,\"#fdca26\"],[1.0,\"#f0f921\"]],\"type\":\"histogram2dcontour\"}],\"mesh3d\":[{\"colorbar\":{\"outlinewidth\":0,\"ticks\":\"\"},\"type\":\"mesh3d\"}],\"parcoords\":[{\"line\":{\"colorbar\":{\"outlinewidth\":0,\"ticks\":\"\"}},\"type\":\"parcoords\"}],\"pie\":[{\"automargin\":true,\"type\":\"pie\"}],\"scatter\":[{\"marker\":{\"colorbar\":{\"outlinewidth\":0,\"ticks\":\"\"}},\"type\":\"scatter\"}],\"scatter3d\":[{\"line\":{\"colorbar\":{\"outlinewidth\":0,\"ticks\":\"\"}},\"marker\":{\"colorbar\":{\"outlinewidth\":0,\"ticks\":\"\"}},\"type\":\"scatter3d\"}],\"scattercarpet\":[{\"marker\":{\"colorbar\":{\"outlinewidth\":0,\"ticks\":\"\"}},\"type\":\"scattercarpet\"}],\"scattergeo\":[{\"marker\":{\"colorbar\":{\"outlinewidth\":0,\"ticks\":\"\"}},\"type\":\"scattergeo\"}],\"scattergl\":[{\"marker\":{\"colorbar\":{\"outlinewidth\":0,\"ticks\":\"\"}},\"type\":\"scattergl\"}],\"scattermapbox\":[{\"marker\":{\"colorbar\":{\"outlinewidth\":0,\"ticks\":\"\"}},\"type\":\"scattermapbox\"}],\"scatterpolar\":[{\"marker\":{\"colorbar\":{\"outlinewidth\":0,\"ticks\":\"\"}},\"type\":\"scatterpolar\"}],\"scatterpolargl\":[{\"marker\":{\"colorbar\":{\"outlinewidth\":0,\"ticks\":\"\"}},\"type\":\"scatterpolargl\"}],\"scatterternary\":[{\"marker\":{\"colorbar\":{\"outlinewidth\":0,\"ticks\":\"\"}},\"type\":\"scatterternary\"}],\"surface\":[{\"colorbar\":{\"outlinewidth\":0,\"ticks\":\"\"},\"colorscale\":[[0.0,\"#0d0887\"],[0.1111111111111111,\"#46039f\"],[0.2222222222222222,\"#7201a8\"],[0.3333333333333333,\"#9c179e\"],[0.4444444444444444,\"#bd3786\"],[0.5555555555555556,\"#d8576b\"],[0.6666666666666666,\"#ed7953\"],[0.7777777777777778,\"#fb9f3a\"],[0.8888888888888888,\"#fdca26\"],[1.0,\"#f0f921\"]],\"type\":\"surface\"}],\"table\":[{\"cells\":{\"fill\":{\"color\":\"#EBF0F8\"},\"line\":{\"color\":\"white\"}},\"header\":{\"fill\":{\"color\":\"#C8D4E3\"},\"line\":{\"color\":\"white\"}},\"type\":\"table\"}]},\"layout\":{\"annotationdefaults\":{\"arrowcolor\":\"#2a3f5f\",\"arrowhead\":0,\"arrowwidth\":1},\"autotypenumbers\":\"strict\",\"coloraxis\":{\"colorbar\":{\"outlinewidth\":0,\"ticks\":\"\"}},\"colorscale\":{\"diverging\":[[0,\"#8e0152\"],[0.1,\"#c51b7d\"],[0.2,\"#de77ae\"],[0.3,\"#f1b6da\"],[0.4,\"#fde0ef\"],[0.5,\"#f7f7f7\"],[0.6,\"#e6f5d0\"],[0.7,\"#b8e186\"],[0.8,\"#7fbc41\"],[0.9,\"#4d9221\"],[1,\"#276419\"]],\"sequential\":[[0.0,\"#0d0887\"],[0.1111111111111111,\"#46039f\"],[0.2222222222222222,\"#7201a8\"],[0.3333333333333333,\"#9c179e\"],[0.4444444444444444,\"#bd3786\"],[0.5555555555555556,\"#d8576b\"],[0.6666666666666666,\"#ed7953\"],[0.7777777777777778,\"#fb9f3a\"],[0.8888888888888888,\"#fdca26\"],[1.0,\"#f0f921\"]],\"sequentialminus\":[[0.0,\"#0d0887\"],[0.1111111111111111,\"#46039f\"],[0.2222222222222222,\"#7201a8\"],[0.3333333333333333,\"#9c179e\"],[0.4444444444444444,\"#bd3786\"],[0.5555555555555556,\"#d8576b\"],[0.6666666666666666,\"#ed7953\"],[0.7777777777777778,\"#fb9f3a\"],[0.8888888888888888,\"#fdca26\"],[1.0,\"#f0f921\"]]},\"colorway\":[\"#636efa\",\"#EF553B\",\"#00cc96\",\"#ab63fa\",\"#FFA15A\",\"#19d3f3\",\"#FF6692\",\"#B6E880\",\"#FF97FF\",\"#FECB52\"],\"font\":{\"color\":\"#2a3f5f\"},\"geo\":{\"bgcolor\":\"white\",\"lakecolor\":\"white\",\"landcolor\":\"#E5ECF6\",\"showlakes\":true,\"showland\":true,\"subunitcolor\":\"white\"},\"hoverlabel\":{\"align\":\"left\"},\"hovermode\":\"closest\",\"mapbox\":{\"style\":\"light\"},\"paper_bgcolor\":\"white\",\"plot_bgcolor\":\"#E5ECF6\",\"polar\":{\"angularaxis\":{\"gridcolor\":\"white\",\"linecolor\":\"white\",\"ticks\":\"\"},\"bgcolor\":\"#E5ECF6\",\"radialaxis\":{\"gridcolor\":\"white\",\"linecolor\":\"white\",\"ticks\":\"\"}},\"scene\":{\"xaxis\":{\"backgroundcolor\":\"#E5ECF6\",\"gridcolor\":\"white\",\"gridwidth\":2,\"linecolor\":\"white\",\"showbackground\":true,\"ticks\":\"\",\"zerolinecolor\":\"white\"},\"yaxis\":{\"backgroundcolor\":\"#E5ECF6\",\"gridcolor\":\"white\",\"gridwidth\":2,\"linecolor\":\"white\",\"showbackground\":true,\"ticks\":\"\",\"zerolinecolor\":\"white\"},\"zaxis\":{\"backgroundcolor\":\"#E5ECF6\",\"gridcolor\":\"white\",\"gridwidth\":2,\"linecolor\":\"white\",\"showbackground\":true,\"ticks\":\"\",\"zerolinecolor\":\"white\"}},\"shapedefaults\":{\"line\":{\"color\":\"#2a3f5f\"}},\"ternary\":{\"aaxis\":{\"gridcolor\":\"white\",\"linecolor\":\"white\",\"ticks\":\"\"},\"baxis\":{\"gridcolor\":\"white\",\"linecolor\":\"white\",\"ticks\":\"\"},\"bgcolor\":\"#E5ECF6\",\"caxis\":{\"gridcolor\":\"white\",\"linecolor\":\"white\",\"ticks\":\"\"}},\"title\":{\"x\":0.05},\"xaxis\":{\"automargin\":true,\"gridcolor\":\"white\",\"linecolor\":\"white\",\"ticks\":\"\",\"title\":{\"standoff\":15},\"zerolinecolor\":\"white\",\"zerolinewidth\":2},\"yaxis\":{\"automargin\":true,\"gridcolor\":\"white\",\"linecolor\":\"white\",\"ticks\":\"\",\"title\":{\"standoff\":15},\"zerolinecolor\":\"white\",\"zerolinewidth\":2}}},\"xaxis\":{\"title\":{\"text\":\"Date\"}},\"yaxis\":{\"title\":{\"text\":\"Death Percentage by Covid\"}}},                        {\"responsive\": true}                    ).then(function(){\n",
       "                            \n",
       "var gd = document.getElementById('fbeac984-18ea-4950-9022-6e09e911f6be');\n",
       "var x = new MutationObserver(function (mutations, observer) {{\n",
       "        var display = window.getComputedStyle(gd).display;\n",
       "        if (!display || display === 'none') {{\n",
       "            console.log([gd, 'removed!']);\n",
       "            Plotly.purge(gd);\n",
       "            observer.disconnect();\n",
       "        }}\n",
       "}});\n",
       "\n",
       "// Listen for the removal of the full notebook cells\n",
       "var notebookContainer = gd.closest('#notebook-container');\n",
       "if (notebookContainer) {{\n",
       "    x.observe(notebookContainer, {childList: true});\n",
       "}}\n",
       "\n",
       "// Listen for the clearing of the current output cell\n",
       "var outputEl = gd.closest('.output');\n",
       "if (outputEl) {{\n",
       "    x.observe(outputEl, {childList: true});\n",
       "}}\n",
       "\n",
       "                        })                };                });            </script>        </div>"
      ]
     },
     "metadata": {},
     "output_type": "display_data"
    }
   ],
   "source": [
    "### Plotting the 3 Forecasting models to predict Covid Deaths\n",
    "\n",
    "\n",
    "yreal = go.Scatter(\n",
    "  x = forecast1['date'],\n",
    "  y = forecast1['death_percent'],\n",
    "  mode = 'lines',\n",
    "  marker = {\n",
    "    'color': 'firebrick'\n",
    "  },\n",
    "  line = {\n",
    "    'width': 3\n",
    "  },\n",
    "  name = 'Real',\n",
    ")\n",
    "\n",
    "yhat = go.Scatter(\n",
    "  x = forecast2['date'],\n",
    "  y = forecast2['death_percent'],\n",
    "  mode = 'lines',\n",
    "  marker = {\n",
    "    'color': 'tomato'\n",
    "  },\n",
    "  line = {\n",
    "    'width': 3\n",
    "  },\n",
    "  name = 'Forecast',\n",
    ")\n",
    "\n",
    "yreal2 = go.Scatter(\n",
    "  x = forecast3['date'],\n",
    "  y = forecast3['death_percent'],\n",
    "  mode = 'lines',\n",
    "  marker = {\n",
    "    'color': 'forestgreen'\n",
    "  },\n",
    "  line = {\n",
    "    'width': 3\n",
    "  },\n",
    "  name = 'Real',\n",
    ")\n",
    "\n",
    "yhat2 = go.Scatter(\n",
    "  x = forecast4['date'],\n",
    "  y = forecast4['death_percent'],\n",
    "  mode = 'lines',\n",
    "  marker = {\n",
    "    'color': 'limegreen'\n",
    "  },\n",
    "  line = {\n",
    "    'width': 3\n",
    "  },\n",
    "  name = 'Forecast',\n",
    ")\n",
    "\n",
    "yreal3 = go.Scatter(\n",
    "  x = forecast5['date'],\n",
    "  y = forecast5['death_percent'],\n",
    "  mode = 'lines',\n",
    "  marker = {\n",
    "    'color': 'blue'\n",
    "  },\n",
    "  line = {\n",
    "    'width': 3\n",
    "  },\n",
    "  name = 'Real',\n",
    ")\n",
    "\n",
    "yhat3 = go.Scatter(\n",
    "  x = forecast6['date'],\n",
    "  y = forecast6['death_percent'],\n",
    "  mode = 'lines',\n",
    "  marker = {\n",
    "    'color': 'skyblue'\n",
    "  },\n",
    "  line = {\n",
    "    'width': 3\n",
    "  },\n",
    "  name = 'Forecast',\n",
    ")\n",
    "\n",
    "\n",
    "layout = go.Layout(\n",
    "  yaxis = {\n",
    "    'title': 'Death Percentage by Covid'\n",
    "  },\n",
    "  hovermode = 'x',\n",
    "  xaxis = {\n",
    "    'title': 'Date'\n",
    "  },\n",
    "  margin = {\n",
    "    't': 20,\n",
    "    'b': 50,\n",
    "    'l': 60,\n",
    "    'r': 10\n",
    "  },\n",
    "  legend = {\n",
    "    'bgcolor': 'rgba(0,0,0,0)'\n",
    "  }\n",
    ")\n",
    "data = [yreal,yhat,yreal2,yhat2,yreal3,yhat3]\n",
    "\n",
    "fig = go.Figure(data=data, layout=layout)\n",
    "fig.show()"
   ]
  },
  {
   "cell_type": "code",
   "execution_count": null,
   "id": "75f31f29",
   "metadata": {},
   "outputs": [],
   "source": []
  }
 ],
 "metadata": {
  "kernelspec": {
   "display_name": "Python 3",
   "language": "python",
   "name": "python3"
  },
  "language_info": {
   "codemirror_mode": {
    "name": "ipython",
    "version": 3
   },
   "file_extension": ".py",
   "mimetype": "text/x-python",
   "name": "python",
   "nbconvert_exporter": "python",
   "pygments_lexer": "ipython3",
   "version": "3.8.8"
  }
 },
 "nbformat": 4,
 "nbformat_minor": 5
}
